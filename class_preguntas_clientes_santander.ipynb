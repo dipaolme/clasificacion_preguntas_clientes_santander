{
 "cells": [
  {
   "cell_type": "code",
   "execution_count": 1,
   "metadata": {},
   "outputs": [],
   "source": [
    "import csv\n",
    "import os\n",
    "import re\n",
    "import random\n",
    "import numpy as np\n",
    "\n",
    "import matplotlib.pyplot as plt\n",
    "\n",
    "import sklearn\n",
    "from sklearn.utils import class_weight\n",
    "\n",
    "import  tensorflow as tf\n",
    "from tensorflow.keras.preprocessing.text import Tokenizer\n",
    "from tensorflow.keras.preprocessing.sequence import pad_sequences\n",
    "from tensorflow.keras.callbacks import CSVLogger\n",
    "from tensorflow.keras.metrics import SparseCategoricalAccuracy\n",
    "from tensorflow.keras import regularizers\n",
    "from tensorflow.keras.layers import Dense, Input, Flatten\n",
    "from tensorflow.keras.layers import Reshape, Dropout, Concatenate\n",
    "from tensorflow.keras.layers import Conv2D, MaxPool2D, Embedding\n",
    "from tensorflow.keras.models import Model\n",
    "\n"
   ]
  },
  {
   "cell_type": "markdown",
   "metadata": {},
   "source": [
    "## Cargo Data"
   ]
  },
  {
   "cell_type": "code",
   "execution_count": 4,
   "metadata": {},
   "outputs": [],
   "source": [
    "WORKDIR = '/home/dipa/PycharmProjects/metadata_clasificar_preguntas/'\n",
    "TRAIN_DATA = os.path.join(WORKDIR, 'dataset/train.csv')"
   ]
  },
  {
   "cell_type": "code",
   "execution_count": 5,
   "metadata": {},
   "outputs": [
    {
     "name": "stdout",
     "output_type": "stream",
     "text": [
      "20104\n"
     ]
    }
   ],
   "source": [
    "corpus = []\n",
    "num_questions = 0\n",
    "\n",
    "with open(TRAIN_DATA, 'r') as f:\n",
    "    reader = csv.reader(f, delimiter='|')\n",
    "    next(reader)\n",
    "    for row in reader:\n",
    "        list_item = []\n",
    "        list_item = [row[0], row[1].split('_')[1]]\n",
    "        num_questions = num_questions + 1\n",
    "        corpus.append(list_item)\n",
    "f.close()\n",
    "\n",
    "random.shuffle(corpus)\n",
    "\n",
    "print(num_questions)"
   ]
  },
  {
   "cell_type": "markdown",
   "metadata": {},
   "source": [
    "## Limpieza y Normalizacion de preguntas"
   ]
  },
  {
   "cell_type": "code",
   "execution_count": 6,
   "metadata": {},
   "outputs": [],
   "source": [
    "# limpieza del texto carateres especiales\n",
    "\n",
    "def limpiar(texto):\n",
    "    puntuación = r'[,;.:¡!¿?@#$%&[\\](){}<>~=+\\-*/|\\\\_^`\"\\']'\n",
    "    \n",
    "    # signos de puntuación\n",
    "    texto = re.sub(puntuación, ' ', texto)\n",
    "    \n",
    "    # dígitos [0-9]\n",
    "    texto = re.sub('\\d', ' ', texto)\n",
    "\n",
    "    return texto\n",
    "\n",
    "def normalizar(texto):\n",
    "    # todo a minúsculas\n",
    "    texto = texto.lower()\n",
    "\n",
    "    # tildes y diacríticas\n",
    "    texto = re.sub('á', 'a', texto)\n",
    "    texto = re.sub('é', 'e', texto)\n",
    "    texto = re.sub('í', 'i', texto)\n",
    "    texto = re.sub('ó', 'o', texto)\n",
    "    texto = re.sub('ú', 'u', texto)\n",
    "    texto = re.sub('ü', 'u', texto)\n",
    "    texto = re.sub('ñ', 'n', texto)\n",
    "\n",
    "    return texto\n"
   ]
  },
  {
   "cell_type": "code",
   "execution_count": 12,
   "metadata": {},
   "outputs": [
    {
     "name": "stdout",
     "output_type": "stream",
     "text": [
      "20104\n",
      "20104\n",
      "352\n"
     ]
    }
   ],
   "source": [
    "training_size = num_questions\n",
    "\n",
    "questions = []\n",
    "labels = []\n",
    "\n",
    "for x in range(training_size):\n",
    "    question = corpus[x][0]\n",
    "    question = limpiar(question)\n",
    "    question = normalizar(question)\n",
    "    questions.append(question)\n",
    "    labels.append(corpus[x][1])\n",
    "    \n",
    "\n",
    "print(training_size)\n",
    "print(len(questions))\n",
    "print(len(set(labels)))\n",
    "#print(questions[:20])"
   ]
  },
  {
   "cell_type": "markdown",
   "metadata": {},
   "source": [
    "## Params\n"
   ]
  },
  {
   "cell_type": "code",
   "execution_count": 13,
   "metadata": {},
   "outputs": [],
   "source": [
    "max_length = 20       # tamano maximo de cada sentence/question\n",
    "embedding_dim = 300   # dimension de la matiz de embeddings\n",
    "trunc_type = 'post'   # trunco la oracion desde desde el final\n",
    "padding_type = 'post'\n",
    "oov_tok = \"<OOV>\"\n",
    "test_portion = .2"
   ]
  },
  {
   "cell_type": "markdown",
   "metadata": {},
   "source": [
    "## Proceso Data"
   ]
  },
  {
   "cell_type": "code",
   "execution_count": 14,
   "metadata": {},
   "outputs": [
    {
     "name": "stdout",
     "output_type": "stream",
     "text": [
      "5817\n"
     ]
    }
   ],
   "source": [
    "tokenizer = Tokenizer()  \n",
    "\n",
    "tokenizer.fit_on_texts(questions)\n",
    "\n",
    "word_index = tokenizer.word_index\n",
    "\n",
    "\n",
    "vocab_size = len(word_index)\n",
    "\n",
    "questions = tokenizer.texts_to_sequences(questions)\n",
    "\n",
    "#numeralizacion\n",
    "padded = pad_sequences(questions, maxlen=max_length, padding=padding_type, truncating=trunc_type)\n",
    "\n",
    "print(vocab_size)\n",
    "\n",
    "#### chequeo ####\n",
    "\n",
    "#index_word = dict([ (v,k) for (k,v) in word_index.items()])\n",
    "\n",
    "#for q in questions[:5]:\n",
    "#        question = []\n",
    "#        for w in q:\n",
    "#            question.append(index_word.get(w))\n",
    "#        print(question)\n",
    "   \n",
    "#print(questions[:5])\n",
    "#print(padded[:5])"
   ]
  },
  {
   "cell_type": "markdown",
   "metadata": {},
   "source": [
    "## Split train/val"
   ]
  },
  {
   "cell_type": "code",
   "execution_count": 15,
   "metadata": {},
   "outputs": [
    {
     "name": "stdout",
     "output_type": "stream",
     "text": [
      "16084\n",
      "16084\n",
      "4020\n",
      "4020\n"
     ]
    }
   ],
   "source": [
    "split = int(test_portion * training_size)\n",
    "\n",
    "# questions\n",
    "training_questions = padded[split:]\n",
    "val_questions = padded[:split]\n",
    "\n",
    "# relabelling\n",
    "# hay saltos en las labels, relabeleo de 0:351 para mas facil manipulcion\n",
    "\n",
    "relabeling_dict = dict()\n",
    "helper_label = [ label for label in range(len(np.unique(labels))) ]\n",
    "for k,v in zip(np.unique(labels), helper_label):\n",
    "    relabeling_dict[k] = v\n",
    "\n",
    "labels = [ relabeling_dict.get(label) for label in labels ]\n",
    "\n",
    "\n",
    "training_labels = labels[split:]\n",
    "val_labels = labels[:split]\n",
    "\n",
    "\n",
    "print(len(training_questions))\n",
    "print(len(training_labels))\n",
    "print(len(val_questions))\n",
    "print(len(val_labels))\n",
    "\n",
    "# paso todo a numpy array\n",
    "training_padded = np.array(training_questions)\n",
    "training_labels = np.array(training_labels)\n",
    "val_padded = np.array(val_questions)\n",
    "val_labels = np.array(val_labels)"
   ]
  },
  {
   "cell_type": "code",
   "execution_count": 16,
   "metadata": {},
   "outputs": [
    {
     "name": "stdout",
     "output_type": "stream",
     "text": [
      "352\n"
     ]
    },
    {
     "data": {
      "image/png": "[encoded data removed]",
      "text/plain": [
       "<Figure size 432x288 with 1 Axes>"
      ]
     },
     "metadata": {
      "needs_background": "light"
     },
     "output_type": "display_data"
    }
   ],
   "source": [
    "# compruebo que las clases se encuentran desbalanceadas\n",
    "\n",
    "labels_num = len(set(labels))    # cantidad de labels\n",
    "print(labels_num)\n",
    "\n",
    "\n",
    "def CountFrequency(my_list):\n",
    "    freq = {}\n",
    "    for item in my_list:\n",
    "        if (item in freq):\n",
    "            freq[item] += 1\n",
    "        else:\n",
    "            freq[item] = 1\n",
    "    return freq\n",
    "\n",
    "freq_labels = CountFrequency(labels)\n",
    "\n",
    "plt.bar(freq_labels.keys(), freq_labels.values())\n",
    "plt.show()"
   ]
  },
  {
   "cell_type": "markdown",
   "metadata": {},
   "source": [
    "## Embeddings"
   ]
  },
  {
   "cell_type": "code",
   "execution_count": 10,
   "metadata": {},
   "outputs": [],
   "source": [
    "embedding_file = ''\n",
    "embeddings_index = {}\n",
    "with open('/home/dipa/PycharmProjects/metadata_clasificar_preguntas/dataset/glove-sbwc.i25.vec') as f:\n",
    "     for line in f:\n",
    "        values = line.split()\n",
    "        word = values[0]\n",
    "        coefs = np.asarray(values[1:], dtype='float32')\n",
    "        embeddings_index[word] = coefs\n",
    "\n",
    "\n",
    "embeddings_matrix = np.zeros((vocab_size + 1, embedding_dim))\n",
    "\n",
    "for word, i in word_index.items():\n",
    "    embedding_vector = embeddings_index.get(word)\n",
    "    if embedding_vector is not None:\n",
    "        embeddings_matrix[i] = embedding_vector"
   ]
  },
  {
   "cell_type": "markdown",
   "metadata": {},
   "source": [
    "## Model RNN"
   ]
  },
  {
   "cell_type": "code",
   "execution_count": 11,
   "metadata": {},
   "outputs": [
    {
     "name": "stdout",
     "output_type": "stream",
     "text": [
      "Model: \"sequential\"\n",
      "_________________________________________________________________\n",
      "Layer (type)                 Output Shape              Param #   \n",
      "=================================================================\n",
      "embedding (Embedding)        (None, 20, 300)           1745400   \n",
      "_________________________________________________________________\n",
      "lstm (LSTM)                  (None, 128)               219648    \n",
      "_________________________________________________________________\n",
      "dense (Dense)                (None, 256)               33024     \n",
      "_________________________________________________________________\n",
      "dropout (Dropout)            (None, 256)               0         \n",
      "_________________________________________________________________\n",
      "dense_1 (Dense)              (None, 352)               90464     \n",
      "=================================================================\n",
      "Total params: 2,088,536\n",
      "Trainable params: 343,136\n",
      "Non-trainable params: 1,745,400\n",
      "_________________________________________________________________\n"
     ]
    }
   ],
   "source": [
    "model = tf.keras.Sequential([\n",
    "    tf.keras.layers.Embedding(vocab_size + 1, embedding_dim, input_length=max_length, weights=[embeddings_matrix],\n",
    "                              trainable=False),\n",
    "    tf.keras.layers.LSTM(128),\n",
    "    tf.keras.layers.Dense(256, activation='relu'),\n",
    "    tf.keras.layers.Dropout(0.5),\n",
    "    tf.keras.layers.Dense(labels_num, activation='softmax')   \n",
    "   \n",
    "])\n",
    "\n",
    "model.summary()"
   ]
  },
  {
   "cell_type": "markdown",
   "metadata": {},
   "source": [
    "## Model CNN"
   ]
  },
  {
   "cell_type": "code",
   "execution_count": 11,
   "metadata": {},
   "outputs": [
    {
     "name": "stdout",
     "output_type": "stream",
     "text": [
      "Creating Model...\n",
      "Model: \"functional_1\"\n",
      "__________________________________________________________________________________________________\n",
      "Layer (type)                    Output Shape         Param #     Connected to                     \n",
      "==================================================================================================\n",
      "input_1 (InputLayer)            [(None, 20)]         0                                            \n",
      "__________________________________________________________________________________________________\n",
      "embedding (Embedding)           (None, 20, 300)      1745400     input_1[0][0]                    \n",
      "__________________________________________________________________________________________________\n",
      "reshape (Reshape)               (None, 20, 300, 1)   0           embedding[0][0]                  \n",
      "__________________________________________________________________________________________________\n",
      "conv2d (Conv2D)                 (None, 19, 1, 512)   307712      reshape[0][0]                    \n",
      "__________________________________________________________________________________________________\n",
      "conv2d_1 (Conv2D)               (None, 18, 1, 512)   461312      reshape[0][0]                    \n",
      "__________________________________________________________________________________________________\n",
      "conv2d_2 (Conv2D)               (None, 16, 1, 512)   768512      reshape[0][0]                    \n",
      "__________________________________________________________________________________________________\n",
      "max_pooling2d (MaxPooling2D)    (None, 1, 1, 512)    0           conv2d[0][0]                     \n",
      "__________________________________________________________________________________________________\n",
      "max_pooling2d_1 (MaxPooling2D)  (None, 1, 1, 512)    0           conv2d_1[0][0]                   \n",
      "__________________________________________________________________________________________________\n",
      "max_pooling2d_2 (MaxPooling2D)  (None, 1, 1, 512)    0           conv2d_2[0][0]                   \n",
      "__________________________________________________________________________________________________\n",
      "concatenate (Concatenate)       (None, 3, 1, 512)    0           max_pooling2d[0][0]              \n",
      "                                                                 max_pooling2d_1[0][0]            \n",
      "                                                                 max_pooling2d_2[0][0]            \n",
      "__________________________________________________________________________________________________\n",
      "flatten (Flatten)               (None, 1536)         0           concatenate[0][0]                \n",
      "__________________________________________________________________________________________________\n",
      "dropout (Dropout)               (None, 1536)         0           flatten[0][0]                    \n",
      "__________________________________________________________________________________________________\n",
      "dense (Dense)                   (None, 352)          541024      dropout[0][0]                    \n",
      "==================================================================================================\n",
      "Total params: 3,823,960\n",
      "Trainable params: 2,078,560\n",
      "Non-trainable params: 1,745,400\n",
      "__________________________________________________________________________________________________\n"
     ]
    }
   ],
   "source": [
    "filter_sizes = [2,3,5]\n",
    "num_filters = 512\n",
    "drop = 0.5\n",
    "\n",
    "print(\"Creating Model...\")\n",
    "inputs = Input(shape=(max_length,), dtype='int32')\n",
    "embedding = Embedding(input_dim=vocab_size + 1, output_dim=embedding_dim, weights=[embeddings_matrix],\n",
    "                      input_length=max_length, trainable=False)(inputs)\n",
    "reshape = Reshape((max_length,embedding_dim,1))(embedding)\n",
    "\n",
    "conv_0 = Conv2D(num_filters, kernel_size=(filter_sizes[0], embedding_dim), padding='valid', kernel_initializer='normal', activation='relu')(reshape)\n",
    "conv_1 = Conv2D(num_filters, kernel_size=(filter_sizes[1], embedding_dim), padding='valid', kernel_initializer='normal', activation='relu')(reshape)\n",
    "conv_2 = Conv2D(num_filters, kernel_size=(filter_sizes[2], embedding_dim), padding='valid', kernel_initializer='normal', activation='relu')(reshape)\n",
    "\n",
    "maxpool_0 = MaxPool2D(pool_size=(max_length - filter_sizes[0] + 1, 1), strides=(1,1), padding='valid')(conv_0)\n",
    "maxpool_1 = MaxPool2D(pool_size=(max_length - filter_sizes[1] + 1, 1), strides=(1,1), padding='valid')(conv_1)\n",
    "maxpool_2 = MaxPool2D(pool_size=(max_length - filter_sizes[2] + 1, 1), strides=(1,1), padding='valid')(conv_2)\n",
    "\n",
    "concatenated_tensor = Concatenate(axis=1)([maxpool_0, maxpool_1, maxpool_2])\n",
    "flatten = Flatten()(concatenated_tensor)\n",
    "dropout = Dropout(drop)(flatten)\n",
    "preds = Dense(labels_num, activation='softmax')(dropout)\n",
    "\n",
    "model = Model(inputs=inputs, outputs=preds)\n",
    "\n",
    "model.summary()"
   ]
  },
  {
   "cell_type": "markdown",
   "metadata": {},
   "source": [
    "## Compilo"
   ]
  },
  {
   "cell_type": "code",
   "execution_count": 12,
   "metadata": {},
   "outputs": [],
   "source": [
    "model.compile(loss='sparse_categorical_crossentropy',optimizer='adam',metrics=['accuracy'])"
   ]
  },
  {
   "cell_type": "markdown",
   "metadata": {},
   "source": [
    "## Entreno s/ class_weight"
   ]
  },
  {
   "cell_type": "code",
   "execution_count": 14,
   "metadata": {},
   "outputs": [],
   "source": [
    "num_epochs = 20\n",
    "batch_size = 64\n",
    "\n",
    "log_file_1 = 'unbalanced.log'\n",
    "csv_logger_1 = CSVLogger(log_file)\n",
    "\n"
   ]
  },
  {
   "cell_type": "code",
   "execution_count": 15,
   "metadata": {},
   "outputs": [
    {
     "name": "stdout",
     "output_type": "stream",
     "text": [
      "Epoch 1/20\n",
      "252/252 - 58s - loss: 3.4945 - accuracy: 0.3546 - val_loss: 2.0280 - val_accuracy: 0.5540\n",
      "Epoch 2/20\n",
      "252/252 - 44s - loss: 1.4068 - accuracy: 0.6705 - val_loss: 1.3792 - val_accuracy: 0.6697\n",
      "Epoch 3/20\n",
      "252/252 - 47s - loss: 0.7942 - accuracy: 0.7991 - val_loss: 1.1634 - val_accuracy: 0.7114\n",
      "Epoch 4/20\n",
      "252/252 - 33s - loss: 0.5089 - accuracy: 0.8712 - val_loss: 1.0594 - val_accuracy: 0.7346\n",
      "Epoch 5/20\n",
      "252/252 - 34s - loss: 0.3592 - accuracy: 0.9079 - val_loss: 1.0292 - val_accuracy: 0.7418\n",
      "Epoch 6/20\n",
      "252/252 - 34s - loss: 0.2659 - accuracy: 0.9358 - val_loss: 1.0335 - val_accuracy: 0.7440\n",
      "Epoch 7/20\n",
      "252/252 - 36s - loss: 0.2118 - accuracy: 0.9450 - val_loss: 1.0053 - val_accuracy: 0.7498\n",
      "Epoch 8/20\n",
      "252/252 - 37s - loss: 0.1841 - accuracy: 0.9547 - val_loss: 0.9977 - val_accuracy: 0.7567\n",
      "Epoch 9/20\n",
      "252/252 - 42s - loss: 0.1598 - accuracy: 0.9585 - val_loss: 1.0325 - val_accuracy: 0.7473\n",
      "Epoch 10/20\n",
      "252/252 - 44s - loss: 0.1479 - accuracy: 0.9609 - val_loss: 1.0332 - val_accuracy: 0.7617\n",
      "Epoch 11/20\n",
      "252/252 - 44s - loss: 0.1439 - accuracy: 0.9622 - val_loss: 1.0662 - val_accuracy: 0.7525\n",
      "Epoch 12/20\n",
      "252/252 - 34s - loss: 0.1189 - accuracy: 0.9692 - val_loss: 1.0785 - val_accuracy: 0.7565\n",
      "Epoch 13/20\n",
      "252/252 - 34s - loss: 0.1288 - accuracy: 0.9647 - val_loss: 1.0679 - val_accuracy: 0.7592\n",
      "Epoch 14/20\n",
      "252/252 - 34s - loss: 0.1215 - accuracy: 0.9680 - val_loss: 1.0539 - val_accuracy: 0.7709\n",
      "Epoch 15/20\n",
      "252/252 - 36s - loss: 0.1114 - accuracy: 0.9702 - val_loss: 1.1377 - val_accuracy: 0.7607\n",
      "Epoch 16/20\n",
      "252/252 - 35s - loss: 0.1123 - accuracy: 0.9690 - val_loss: 1.1463 - val_accuracy: 0.7555\n",
      "Epoch 17/20\n",
      "252/252 - 37s - loss: 0.1128 - accuracy: 0.9688 - val_loss: 1.1614 - val_accuracy: 0.7567\n",
      "Epoch 18/20\n",
      "252/252 - 41s - loss: 0.1121 - accuracy: 0.9697 - val_loss: 1.2246 - val_accuracy: 0.7647\n",
      "Epoch 19/20\n",
      "252/252 - 55s - loss: 0.1152 - accuracy: 0.9672 - val_loss: 1.2190 - val_accuracy: 0.7597\n",
      "Epoch 20/20\n",
      "252/252 - 34s - loss: 0.1098 - accuracy: 0.9693 - val_loss: 1.2167 - val_accuracy: 0.7669\n"
     ]
    }
   ],
   "source": [
    "history = model.fit(training_padded, training_labels, batch_size=batch_size, epochs=num_epochs, validation_data=(val_padded, val_labels), verbose=2, callbacks=[csv_logger_1])"
   ]
  },
  {
   "cell_type": "markdown",
   "metadata": {},
   "source": [
    "## Entreno c/ class_weight"
   ]
  },
  {
   "cell_type": "code",
   "execution_count": 18,
   "metadata": {},
   "outputs": [],
   "source": [
    "helper_class_weight = class_weight.compute_class_weight('balanced', np.unique(labels), labels)\n",
    "\n",
    "class_weight_dict = dict()\n",
    "\n",
    "for k,v in zip(np.unique(labels), helper_class_weight):\n",
    "    class_weight_dict[list(np.unique(labels)).index(k)] = v"
   ]
  },
  {
   "cell_type": "code",
   "execution_count": 14,
   "metadata": {},
   "outputs": [
    {
     "name": "stdout",
     "output_type": "stream",
     "text": [
      "Epoch 1/10\n",
      "252/252 - 26s - loss: 5.3816 - accuracy: 0.1169 - val_loss: 3.3509 - val_accuracy: 0.3450\n",
      "Epoch 2/10\n",
      "252/252 - 26s - loss: 2.1832 - accuracy: 0.4039 - val_loss: 2.3159 - val_accuracy: 0.4746\n",
      "Epoch 3/10\n",
      "252/252 - 28s - loss: 1.1247 - accuracy: 0.5750 - val_loss: 1.8108 - val_accuracy: 0.5719\n",
      "Epoch 4/10\n",
      "252/252 - 27s - loss: 0.7190 - accuracy: 0.6770 - val_loss: 1.6683 - val_accuracy: 0.5863\n",
      "Epoch 5/10\n",
      "252/252 - 27s - loss: 0.4939 - accuracy: 0.7415 - val_loss: 1.4554 - val_accuracy: 0.6301\n",
      "Epoch 6/10\n",
      "252/252 - 27s - loss: 0.3692 - accuracy: 0.7871 - val_loss: 1.3242 - val_accuracy: 0.6624\n",
      "Epoch 7/10\n",
      "252/252 - 27s - loss: 0.3161 - accuracy: 0.8206 - val_loss: 1.2432 - val_accuracy: 0.6813\n",
      "Epoch 8/10\n",
      "252/252 - 27s - loss: 0.2465 - accuracy: 0.8436 - val_loss: 1.2507 - val_accuracy: 0.6826\n",
      "Epoch 9/10\n",
      "252/252 - 27s - loss: 0.2104 - accuracy: 0.8646 - val_loss: 1.1843 - val_accuracy: 0.7109\n",
      "Epoch 10/10\n",
      "252/252 - 27s - loss: 0.1955 - accuracy: 0.8765 - val_loss: 1.1320 - val_accuracy: 0.7174\n"
     ]
    }
   ],
   "source": [
    "num_epochs = 10\n",
    "batch_size = 64\n",
    "\n",
    "log_file_2 = 'balanced.log'\n",
    "csv_logger_2 = CSVLogger(log_file_2')\n",
    "\n",
    "history = model.fit(training_padded, training_labels, batch_size=batch_size, epochs=num_epochs,\n",
    "                     validation_data=(val_padded, val_labels), verbose=2, callbacks=[csv_logger_2], class_weight=class_weight_dict)"
   ]
  },
  {
   "cell_type": "markdown",
   "metadata": {},
   "source": [
    "## Guardo Modelo"
   ]
  },
  {
   "cell_type": "code",
   "execution_count": 15,
   "metadata": {},
   "outputs": [],
   "source": [
    "model_file = '.h5'\n",
    "model.save('model_file')"
   ]
  },
  {
   "cell_type": "markdown",
   "metadata": {},
   "source": [
    "## Prediccion"
   ]
  },
  {
   "cell_type": "code",
   "execution_count": 16,
   "metadata": {},
   "outputs": [],
   "source": [
    "\n",
    "TEST_DATA = os.path.join(WORKDIR, 'dataset/test_santander.csv')\n",
    "\n",
    "test_index = []\n",
    "test_questions = []\n",
    "\n",
    "\n",
    "with open(TEST_DATA, 'r') as f:\n",
    "    reader = csv.reader(f, delimiter=',')\n",
    "    next(reader)\n",
    "    for row in reader:\n",
    "        test_index.append(row[0])\n",
    "        test_question = row[1]\n",
    "        test_question = limpiar(test_question)\n",
    "        test_question = normalizar(test_question)\n",
    "        test_questions.append(test_question)\n",
    "        \n",
    "test_sequences = tokenizer.texts_to_sequences(test_questions)\n",
    "test_input = pad_sequences(test_sequences, maxlen=max_length, padding=padding_type, truncating=trunc_type)\n",
    "\n",
    "\n",
    "test_predictions_probas = model.predict(test_input)\n",
    "test_predictions = test_predictions_probas.argmax(axis=-1)\n",
    "\n",
    "# convierto las labels a las oriniginales\n",
    "labels_transform = dict([ (v, k) for (k, v) in relabeling_dict.items() ])\n",
    "predictions = dict()\n",
    "\n",
    "\n",
    "prediction_file = ''\n",
    "\n",
    "with open(prediction_file, 'w') as f:\n",
    "    for k,v in zip(test_index, test_predictions):\n",
    "        v = labels_transform.get(v)\n",
    "        predictions[k] = v\n",
    "        f.write(\"%s,%s\\n\" % (k, v))\n",
    "f.close()\n",
    "\n",
    "#print(predictions)"
   ]
  },
  {
   "cell_type": "markdown",
   "metadata": {},
   "source": [
    "## Vizualizacion\n"
   ]
  },
  {
   "cell_type": "code",
   "execution_count": 17,
   "metadata": {},
   "outputs": [],
   "source": [
    "history={'epoch' : [], 'accuracy':[], 'loss':[], 'val_accuracy': [], 'val_loss':[] }\n",
    "with open(log_file_*) as training_log:\n",
    "    reader=csv.DictReader(training_log)\n",
    "    for row in reader:\n",
    "\n",
    "        history['epoch'].append(row['epoch'])\n",
    "        history['accuracy'].append(row['accuracy'])\n",
    "        history['loss'].append(row['loss'])\n",
    "        history['val_accuracy'].append(row['val_accuracy'])\n",
    "        history['val_loss'].append(row['val_loss'])\n",
    "\n",
    "\n",
    "acc = [ round(float(i),2) for i in history['accuracy']]\n",
    "val_acc = [ round(float(i), 2) for i in history['val_accuracy']]\n",
    "loss = [ round(float(i), 2) for i in  history['loss']]\n",
    "val_loss = [ round(float(i), 2) for i in history['val_loss']]\n",
    "\n",
    "epochs = range(len(acc)) # Get number of epochs"
   ]
  },
  {
   "cell_type": "code",
   "execution_count": 18,
   "metadata": {},
   "outputs": [
    {
     "data": {
      "image/png": "[encoded data removed]",
      "text/plain": [
       "<Figure size 432x288 with 1 Axes>"
      ]
     },
     "metadata": {
      "needs_background": "light"
     },
     "output_type": "display_data"
    },
    {
     "data": {
      "image/png": "[encoded data removed]",
      "text/plain": [
       "<Figure size 432x288 with 1 Axes>"
      ]
     },
     "metadata": {
      "needs_background": "light"
     },
     "output_type": "display_data"
    }
   ],
   "source": [
    "# #------------------------------------------------\n",
    "# # Plot training and validation accuracy per epoch\n",
    "# #------------------------------------------------\n",
    "\n",
    "img_acc = 'path_acc_image_destination'\n",
    "\n",
    "plt.plot(epochs, acc)\n",
    "plt.plot(epochs, val_acc )\n",
    "plt.title('Training and validation accuracy')\n",
    "plt.ylim([0,1.01])\n",
    "plt.savefig(img_acc)\n",
    "plt.figure()\n",
    "\n",
    "# #------------------------------------------------\n",
    "# # Plot training and validation loss per epoch\n",
    "# #------------------------------------------------\n",
    "\n",
    "img_loss = 'path_loss_image_destination'\n",
    "\n",
    "plt.plot(epochs,loss)\n",
    "plt.plot(epochs, val_loss)\n",
    "plt.title('Training and validation loss')\n",
    "\n",
    "plt.savefig(img_loss)\n",
    "\n",
    "plt.show()"
   ]
  }
 ],
 "metadata": {
  "kernelspec": {
   "display_name": "deep_learning",
   "language": "python",
   "name": "deep_learning"
  },
  "language_info": {
   "codemirror_mode": {
    "name": "ipython",
    "version": 3
   },
   "file_extension": ".py",
   "mimetype": "text/x-python",
   "name": "python",
   "nbconvert_exporter": "python",
   "pygments_lexer": "ipython3",
   "version": "3.6.8"
  }
 },
 "nbformat": 4,
 "nbformat_minor": 2
}
