{
 "cells": [
  {
   "cell_type": "code",
   "execution_count": 1,
   "metadata": {},
   "outputs": [],
   "source": [
    "import csv\n",
    "import os\n",
    "import re\n",
    "import random\n",
    "import numpy as np\n",
    "\n",
    "import matplotlib.pyplot as plt\n",
    "\n",
    "import sklearn\n",
    "from sklearn.utils import class_weight\n",
    "\n",
    "import  tensorflow as tf\n",
    "from tensorflow.keras.preprocessing.text import Tokenizer\n",
    "from tensorflow.keras.preprocessing.sequence import pad_sequences\n",
    "from tensorflow.keras.callbacks import CSVLogger\n",
    "from tensorflow.keras.metrics import SparseCategoricalAccuracy\n",
    "from tensorflow.keras import regularizers\n",
    "from tensorflow.keras.layers import Dense, Input, Flatten\n",
    "from tensorflow.keras.layers import Reshape, Dropout, Concatenate\n",
    "from tensorflow.keras.layers import Conv2D, MaxPool2D, Embedding\n",
    "from tensorflow.keras.models import Model\n",
    "\n"
   ]
  },
  {
   "cell_type": "markdown",
   "metadata": {},
   "source": [
    "## Cargo Data"
   ]
  },
  {
   "cell_type": "code",
   "execution_count": 4,
   "metadata": {},
   "outputs": [],
   "source": [
    "WORKDIR = '/home/dipa/PycharmProjects/metadata_clasificar_preguntas/'\n",
    "TRAIN_DATA = os.path.join(WORKDIR, 'dataset/train.csv')"
   ]
  },
  {
   "cell_type": "code",
   "execution_count": 5,
   "metadata": {},
   "outputs": [
    {
     "name": "stdout",
     "output_type": "stream",
     "text": [
      "20104\n"
     ]
    }
   ],
   "source": [
    "corpus = []\n",
    "num_questions = 0\n",
    "\n",
    "with open(TRAIN_DATA, 'r') as f:\n",
    "    reader = csv.reader(f, delimiter='|')\n",
    "    next(reader)\n",
    "    for row in reader:\n",
    "        list_item = []\n",
    "        list_item = [row[0], row[1].split('_')[1]]\n",
    "        num_questions = num_questions + 1\n",
    "        corpus.append(list_item)\n",
    "f.close()\n",
    "\n",
    "random.shuffle(corpus)\n",
    "\n",
    "print(num_questions)"
   ]
  },
  {
   "cell_type": "markdown",
   "metadata": {},
   "source": [
    "## Limpieza y Normalizacion de preguntas"
   ]
  },
  {
   "cell_type": "code",
   "execution_count": 6,
   "metadata": {},
   "outputs": [],
   "source": [
    "# limpieza del texto carateres especiales\n",
    "\n",
    "def limpiar(texto):\n",
    "    puntuación = r'[,;.:¡!¿?@#$%&[\\](){}<>~=+\\-*/|\\\\_^`\"\\']'\n",
    "    \n",
    "    # signos de puntuación\n",
    "    texto = re.sub(puntuación, ' ', texto)\n",
    "    \n",
    "    # dígitos [0-9]\n",
    "    texto = re.sub('\\d', ' ', texto)\n",
    "\n",
    "    return texto\n",
    "\n",
    "def normalizar(texto):\n",
    "    # todo a minúsculas\n",
    "    texto = texto.lower()\n",
    "\n",
    "    # tildes y diacríticas\n",
    "    texto = re.sub('á', 'a', texto)\n",
    "    texto = re.sub('é', 'e', texto)\n",
    "    texto = re.sub('í', 'i', texto)\n",
    "    texto = re.sub('ó', 'o', texto)\n",
    "    texto = re.sub('ú', 'u', texto)\n",
    "    texto = re.sub('ü', 'u', texto)\n",
    "    texto = re.sub('ñ', 'n', texto)\n",
    "\n",
    "    return texto\n"
   ]
  },
  {
   "cell_type": "code",
   "execution_count": 12,
   "metadata": {},
   "outputs": [
    {
     "name": "stdout",
     "output_type": "stream",
     "text": [
      "20104\n",
      "20104\n",
      "352\n"
     ]
    }
   ],
   "source": [
    "training_size = num_questions\n",
    "\n",
    "questions = []\n",
    "labels = []\n",
    "\n",
    "for x in range(training_size):\n",
    "    question = corpus[x][0]\n",
    "    question = limpiar(question)\n",
    "    question = normalizar(question)\n",
    "    questions.append(question)\n",
    "    labels.append(corpus[x][1])\n",
    "    \n",
    "\n",
    "print(training_size)\n",
    "print(len(questions))\n",
    "print(len(set(labels)))\n",
    "#print(questions[:20])"
   ]
  },
  {
   "cell_type": "markdown",
   "metadata": {},
   "source": [
    "## Params\n"
   ]
  },
  {
   "cell_type": "code",
   "execution_count": 13,
   "metadata": {},
   "outputs": [],
   "source": [
    "max_length = 20       # tamano maximo de cada sentence/question\n",
    "embedding_dim = 300   # dimension de la matiz de embeddings\n",
    "trunc_type = 'post'   # trunco la oracion desde desde el final\n",
    "padding_type = 'post'\n",
    "oov_tok = \"<OOV>\"\n",
    "test_portion = .2"
   ]
  },
  {
   "cell_type": "markdown",
   "metadata": {},
   "source": [
    "## Proceso Data"
   ]
  },
  {
   "cell_type": "code",
   "execution_count": 14,
   "metadata": {},
   "outputs": [
    {
     "name": "stdout",
     "output_type": "stream",
     "text": [
      "5817\n"
     ]
    }
   ],
   "source": [
    "tokenizer = Tokenizer()  \n",
    "\n",
    "tokenizer.fit_on_texts(questions)\n",
    "\n",
    "word_index = tokenizer.word_index\n",
    "\n",
    "\n",
    "vocab_size = len(word_index)\n",
    "\n",
    "questions = tokenizer.texts_to_sequences(questions)\n",
    "\n",
    "#numeralizacion\n",
    "padded = pad_sequences(questions, maxlen=max_length, padding=padding_type, truncating=trunc_type)\n",
    "\n",
    "print(vocab_size)\n",
    "\n",
    "#### chequeo ####\n",
    "\n",
    "#index_word = dict([ (v,k) for (k,v) in word_index.items()])\n",
    "\n",
    "#for q in questions[:5]:\n",
    "#        question = []\n",
    "#        for w in q:\n",
    "#            question.append(index_word.get(w))\n",
    "#        print(question)\n",
    "   \n",
    "#print(questions[:5])\n",
    "#print(padded[:5])"
   ]
  },
  {
   "cell_type": "markdown",
   "metadata": {},
   "source": [
    "## Split train/val"
   ]
  },
  {
   "cell_type": "code",
   "execution_count": 15,
   "metadata": {},
   "outputs": [
    {
     "name": "stdout",
     "output_type": "stream",
     "text": [
      "16084\n",
      "16084\n",
      "4020\n",
      "4020\n"
     ]
    }
   ],
   "source": [
    "split = int(test_portion * training_size)\n",
    "\n",
    "# questions\n",
    "training_questions = padded[split:]\n",
    "val_questions = padded[:split]\n",
    "\n",
    "# relabelling\n",
    "# hay saltos en las labels, relabeleo de 0:351 para mas facil manipulcion\n",
    "\n",
    "relabeling_dict = dict()\n",
    "helper_label = [ label for label in range(len(np.unique(labels))) ]\n",
    "for k,v in zip(np.unique(labels), helper_label):\n",
    "    relabeling_dict[k] = v\n",
    "\n",
    "labels = [ relabeling_dict.get(label) for label in labels ]\n",
    "\n",
    "\n",
    "training_labels = labels[split:]\n",
    "val_labels = labels[:split]\n",
    "\n",
    "\n",
    "print(len(training_questions))\n",
    "print(len(training_labels))\n",
    "print(len(val_questions))\n",
    "print(len(val_labels))\n",
    "\n",
    "# paso todo a numpy array\n",
    "training_padded = np.array(training_questions)\n",
    "training_labels = np.array(training_labels)\n",
    "val_padded = np.array(val_questions)\n",
    "val_labels = np.array(val_labels)"
   ]
  },
  {
   "cell_type": "code",
   "execution_count": 16,
   "metadata": {},
   "outputs": [
    {
     "name": "stdout",
     "output_type": "stream",
     "text": [
      "352\n"
     ]
    },
    {
     "data": {
      "image/png": "[encoded data removed]",
      "text/plain": [
       "<Figure size 432x288 with 1 Axes>"
      ]
     },
     "metadata": {
      "needs_background": "light"
     },
     "output_type": "display_data"
    }
   ],
   "source": [
    "# compruebo que las clases se encuentran desbalanceadas\n",
    "\n",
    "labels_num = len(set(labels))    # cantidad de labels\n",
    "print(labels_num)\n",
    "\n",
    "\n",
    "def CountFrequency(my_list):\n",
    "    freq = {}\n",
    "    for item in my_list:\n",
    "        if (item in freq):\n",
    "            freq[item] += 1\n",
    "        else:\n",
    "            freq[item] = 1\n",
    "    return freq\n",
    "\n",
    "freq_labels = CountFrequency(labels)\n",
    "\n",
    "plt.bar(freq_labels.keys(), freq_labels.values())\n",
    "plt.show()"
   ]
  },
  {
   "cell_type": "markdown",
   "metadata": {},
   "source": [
    "## Embeddings"
   ]
  },
  {
   "cell_type": "code",
   "execution_count": 10,
   "metadata": {},
   "outputs": [],
   "source": [
    "embedding_file = ''\n",
    "embeddings_index = {}\n",
    "with open('/home/dipa/PycharmProjects/metadata_clasificar_preguntas/dataset/glove-sbwc.i25.vec') as f:\n",
    "     for line in f:\n",
    "        values = line.split()\n",
    "        word = values[0]\n",
    "        coefs = np.asarray(values[1:], dtype='float32')\n",
    "        embeddings_index[word] = coefs\n",
    "\n",
    "\n",
    "embeddings_matrix = np.zeros((vocab_size + 1, embedding_dim))\n",
    "\n",
    "for word, i in word_index.items():\n",
    "    embedding_vector = embeddings_index.get(word)\n",
    "    if embedding_vector is not None:\n",
    "        embeddings_matrix[i] = embedding_vector"
   ]
  },
  {
   "cell_type": "markdown",
   "metadata": {},
   "source": [
    "## Model RNN"
   ]
  },
  {
   "cell_type": "code",
   "execution_count": 11,
   "metadata": {},
   "outputs": [
    {
     "name": "stdout",
     "output_type": "stream",
     "text": [
      "Model: \"sequential\"\n",
      "_________________________________________________________________\n",
      "Layer (type)                 Output Shape              Param #   \n",
      "=================================================================\n",
      "embedding (Embedding)        (None, 20, 300)           1745400   \n",
      "_________________________________________________________________\n",
      "lstm (LSTM)                  (None, 128)               219648    \n",
      "_________________________________________________________________\n",
      "dense (Dense)                (None, 256)               33024     \n",
      "_________________________________________________________________\n",
      "dropout (Dropout)            (None, 256)               0         \n",
      "_________________________________________________________________\n",
      "dense_1 (Dense)              (None, 352)               90464     \n",
      "=================================================================\n",
      "Total params: 2,088,536\n",
      "Trainable params: 343,136\n",
      "Non-trainable params: 1,745,400\n",
      "_________________________________________________________________\n"
     ]
    }
   ],
   "source": [
    "model = tf.keras.Sequential([\n",
    "    tf.keras.layers.Embedding(vocab_size + 1, embedding_dim, input_length=max_length, weights=[embeddings_matrix],\n",
    "                              trainable=False),\n",
    "    tf.keras.layers.LSTM(128),\n",
    "    tf.keras.layers.Dense(256, activation='relu'),\n",
    "    tf.keras.layers.Dropout(0.5),\n",
    "    tf.keras.layers.Dense(labels_num, activation='softmax')   \n",
    "   \n",
    "])\n",
    "\n",
    "model.summary()"
   ]
  },
  {
   "cell_type": "markdown",
   "metadata": {},
   "source": [
    "## Model CNN"
   ]
  },
  {
   "cell_type": "code",
   "execution_count": 11,
   "metadata": {},
   "outputs": [
    {
     "name": "stdout",
     "output_type": "stream",
     "text": [
      "Creating Model...\n",
      "Model: \"functional_1\"\n",
      "__________________________________________________________________________________________________\n",
      "Layer (type)                    Output Shape         Param #     Connected to                     \n",
      "==================================================================================================\n",
      "input_1 (InputLayer)            [(None, 20)]         0                                            \n",
      "__________________________________________________________________________________________________\n",
      "embedding (Embedding)           (None, 20, 300)      1745400     input_1[0][0]                    \n",
      "__________________________________________________________________________________________________\n",
      "reshape (Reshape)               (None, 20, 300, 1)   0           embedding[0][0]                  \n",
      "__________________________________________________________________________________________________\n",
      "conv2d (Conv2D)                 (None, 19, 1, 512)   307712      reshape[0][0]                    \n",
      "__________________________________________________________________________________________________\n",
      "conv2d_1 (Conv2D)               (None, 18, 1, 512)   461312      reshape[0][0]                    \n",
      "__________________________________________________________________________________________________\n",
      "conv2d_2 (Conv2D)               (None, 16, 1, 512)   768512      reshape[0][0]                    \n",
      "__________________________________________________________________________________________________\n",
      "max_pooling2d (MaxPooling2D)    (None, 1, 1, 512)    0           conv2d[0][0]                     \n",
      "__________________________________________________________________________________________________\n",
      "max_pooling2d_1 (MaxPooling2D)  (None, 1, 1, 512)    0           conv2d_1[0][0]                   \n",
      "__________________________________________________________________________________________________\n",
      "max_pooling2d_2 (MaxPooling2D)  (None, 1, 1, 512)    0           conv2d_2[0][0]                   \n",
      "__________________________________________________________________________________________________\n",
      "concatenate (Concatenate)       (None, 3, 1, 512)    0           max_pooling2d[0][0]              \n",
      "                                                                 max_pooling2d_1[0][0]            \n",
      "                                                                 max_pooling2d_2[0][0]            \n",
      "__________________________________________________________________________________________________\n",
      "flatten (Flatten)               (None, 1536)         0           concatenate[0][0]                \n",
      "__________________________________________________________________________________________________\n",
      "dropout (Dropout)               (None, 1536)         0           flatten[0][0]                    \n",
      "__________________________________________________________________________________________________\n",
      "dense (Dense)                   (None, 352)          541024      dropout[0][0]                    \n",
      "==================================================================================================\n",
      "Total params: 3,823,960\n",
      "Trainable params: 2,078,560\n",
      "Non-trainable params: 1,745,400\n",
      "__________________________________________________________________________________________________\n"
     ]
    }
   ],
   "source": [
    "filter_sizes = [2,3,5]\n",
    "num_filters = 512\n",
    "drop = 0.5\n",
    "\n",
    "print(\"Creating Model...\")\n",
    "inputs = Input(shape=(max_length,), dtype='int32')\n",
    "embedding = Embedding(input_dim=vocab_size + 1, output_dim=embedding_dim, weights=[embeddings_matrix],\n",
    "                      input_length=max_length, trainable=False)(inputs)\n",
    "reshape = Reshape((max_length,embedding_dim,1))(embedding)\n",
    "\n",
    "conv_0 = Conv2D(num_filters, kernel_size=(filter_sizes[0], embedding_dim), padding='valid', kernel_initializer='normal', activation='relu')(reshape)\n",
    "conv_1 = Conv2D(num_filters, kernel_size=(filter_sizes[1], embedding_dim), padding='valid', kernel_initializer='normal', activation='relu')(reshape)\n",
    "conv_2 = Conv2D(num_filters, kernel_size=(filter_sizes[2], embedding_dim), padding='valid', kernel_initializer='normal', activation='relu')(reshape)\n",
    "\n",
    "maxpool_0 = MaxPool2D(pool_size=(max_length - filter_sizes[0] + 1, 1), strides=(1,1), padding='valid')(conv_0)\n",
    "maxpool_1 = MaxPool2D(pool_size=(max_length - filter_sizes[1] + 1, 1), strides=(1,1), padding='valid')(conv_1)\n",
    "maxpool_2 = MaxPool2D(pool_size=(max_length - filter_sizes[2] + 1, 1), strides=(1,1), padding='valid')(conv_2)\n",
    "\n",
    "concatenated_tensor = Concatenate(axis=1)([maxpool_0, maxpool_1, maxpool_2])\n",
    "flatten = Flatten()(concatenated_tensor)\n",
    "dropout = Dropout(drop)(flatten)\n",
    "preds = Dense(labels_num, activation='softmax')(dropout)\n",
    "\n",
    "model = Model(inputs=inputs, outputs=preds)\n",
    "\n",
    "model.summary()"
   ]
  },
  {
   "cell_type": "markdown",
   "metadata": {},
   "source": [
    "## Compilo"
   ]
  },
  {
   "cell_type": "code",
   "execution_count": 12,
   "metadata": {},
   "outputs": [],
   "source": [
    "model.compile(loss='sparse_categorical_crossentropy',optimizer='adam',metrics=['accuracy'])"
   ]
  },
  {
   "cell_type": "markdown",
   "metadata": {},
   "source": [
    "## Entreno s/ class_weight"
   ]
  },
  {
   "cell_type": "code",
   "execution_count": 14,
   "metadata": {},
   "outputs": [],
   "source": [
    "num_epochs = 20\n",
    "batch_size = 64\n",
    "\n",
    "log_file_1 = 'unbalanced.log'\n",
    "csv_logger_1 = CSVLogger(log_file)\n",
    "\n"
   ]
  },
  {
   "cell_type": "code",
   "execution_count": 15,
   "metadata": {},
   "outputs": [
    {
     "name": "stdout",
     "output_type": "stream",
     "text": [
      "Epoch 1/20\n",
      "252/252 - 58s - loss: 3.4945 - accuracy: 0.3546 - val_loss: 2.0280 - val_accuracy: 0.5540\n",
      "Epoch 2/20\n",
      "252/252 - 44s - loss: 1.4068 - accuracy: 0.6705 - val_loss: 1.3792 - val_accuracy: 0.6697\n",
      "Epoch 3/20\n",
      "252/252 - 47s - loss: 0.7942 - accuracy: 0.7991 - val_loss: 1.1634 - val_accuracy: 0.7114\n",
      "Epoch 4/20\n",
      "252/252 - 33s - loss: 0.5089 - accuracy: 0.8712 - val_loss: 1.0594 - val_accuracy: 0.7346\n",
      "Epoch 5/20\n",
      "252/252 - 34s - loss: 0.3592 - accuracy: 0.9079 - val_loss: 1.0292 - val_accuracy: 0.7418\n",
      "Epoch 6/20\n",
      "252/252 - 34s - loss: 0.2659 - accuracy: 0.9358 - val_loss: 1.0335 - val_accuracy: 0.7440\n",
      "Epoch 7/20\n",
      "252/252 - 36s - loss: 0.2118 - accuracy: 0.9450 - val_loss: 1.0053 - val_accuracy: 0.7498\n",
      "Epoch 8/20\n",
      "252/252 - 37s - loss: 0.1841 - accuracy: 0.9547 - val_loss: 0.9977 - val_accuracy: 0.7567\n",
      "Epoch 9/20\n",
      "252/252 - 42s - loss: 0.1598 - accuracy: 0.9585 - val_loss: 1.0325 - val_accuracy: 0.7473\n",
      "Epoch 10/20\n",
      "252/252 - 44s - loss: 0.1479 - accuracy: 0.9609 - val_loss: 1.0332 - val_accuracy: 0.7617\n",
      "Epoch 11/20\n",
      "252/252 - 44s - loss: 0.1439 - accuracy: 0.9622 - val_loss: 1.0662 - val_accuracy: 0.7525\n",
      "Epoch 12/20\n",
      "252/252 - 34s - loss: 0.1189 - accuracy: 0.9692 - val_loss: 1.0785 - val_accuracy: 0.7565\n",
      "Epoch 13/20\n",
      "252/252 - 34s - loss: 0.1288 - accuracy: 0.9647 - val_loss: 1.0679 - val_accuracy: 0.7592\n",
      "Epoch 14/20\n",
      "252/252 - 34s - loss: 0.1215 - accuracy: 0.9680 - val_loss: 1.0539 - val_accuracy: 0.7709\n",
      "Epoch 15/20\n",
      "252/252 - 36s - loss: 0.1114 - accuracy: 0.9702 - val_loss: 1.1377 - val_accuracy: 0.7607\n",
      "Epoch 16/20\n",
      "252/252 - 35s - loss: 0.1123 - accuracy: 0.9690 - val_loss: 1.1463 - val_accuracy: 0.7555\n",
      "Epoch 17/20\n",
      "252/252 - 37s - loss: 0.1128 - accuracy: 0.9688 - val_loss: 1.1614 - val_accuracy: 0.7567\n",
      "Epoch 18/20\n",
      "252/252 - 41s - loss: 0.1121 - accuracy: 0.9697 - val_loss: 1.2246 - val_accuracy: 0.7647\n",
      "Epoch 19/20\n",
      "252/252 - 55s - loss: 0.1152 - accuracy: 0.9672 - val_loss: 1.2190 - val_accuracy: 0.7597\n",
      "Epoch 20/20\n",
      "252/252 - 34s - loss: 0.1098 - accuracy: 0.9693 - val_loss: 1.2167 - val_accuracy: 0.7669\n"
     ]
    }
   ],
   "source": [
    "history = model.fit(training_padded, training_labels, batch_size=batch_size, epochs=num_epochs, validation_data=(val_padded, val_labels), verbose=2, callbacks=[csv_logger_1])"
   ]
  },
  {
   "cell_type": "markdown",
   "metadata": {},
   "source": [
    "## Entreno c/ class_weight"
   ]
  },
  {
   "cell_type": "code",
   "execution_count": 13,
   "metadata": {},
   "outputs": [
    {
     "name": "stderr",
     "output_type": "stream",
     "text": [
      "/home/dipa/proyectos/deep_learning/lib/python3.6/site-packages/sklearn/utils/validation.py:70: FutureWarning: Pass classes=[  0   1   2   3   4   5   6   7   8   9  10  11  12  13  14  15  16  17\n",
      "  18  19  20  21  22  23  24  25  26  27  28  29  30  31  32  33  34  35\n",
      "  36  37  38  39  40  41  42  43  44  45  46  47  48  49  50  51  52  53\n",
      "  54  55  56  57  58  59  60  61  62  63  64  65  66  67  68  69  70  71\n",
      "  72  73  74  75  76  77  78  79  80  81  82  83  84  85  86  87  88  89\n",
      "  90  91  92  93  94  95  96  97  98  99 100 101 102 103 104 105 106 107\n",
      " 108 109 110 111 112 113 114 115 116 117 118 119 120 121 122 123 124 125\n",
      " 126 127 128 129 130 131 132 133 134 135 136 137 138 139 140 141 142 143\n",
      " 144 145 146 147 148 149 150 151 152 153 154 155 156 157 158 159 160 161\n",
      " 162 163 164 165 166 167 168 169 170 171 172 173 174 175 176 177 178 179\n",
      " 180 181 182 183 184 185 186 187 188 189 190 191 192 193 194 195 196 197\n",
      " 198 199 200 201 202 203 204 205 206 207 208 209 210 211 212 213 214 215\n",
      " 216 217 218 219 220 221 222 223 224 225 226 227 228 229 230 231 232 233\n",
      " 234 235 236 237 238 239 240 241 242 243 244 245 246 247 248 249 250 251\n",
      " 252 253 254 255 256 257 258 259 260 261 262 263 264 265 266 267 268 269\n",
      " 270 271 272 273 274 275 276 277 278 279 280 281 282 283 284 285 286 287\n",
      " 288 289 290 291 292 293 294 295 296 297 298 299 300 301 302 303 304 305\n",
      " 306 307 308 309 310 311 312 313 314 315 316 317 318 319 320 321 322 323\n",
      " 324 325 326 327 328 329 330 331 332 333 334 335 336 337 338 339 340 341\n",
      " 342 343 344 345 346 347 348 349 350 351], y=[159, 15, 127, 1, 257, 263, 267, 257, 156, 72, 137, 32, 50, 176, 284, 17, 229, 15, 118, 202, 183, 62, 220, 201, 142, 178, 178, 257, 157, 177, 220, 32, 215, 153, 100, 54, 132, 28, 220, 304, 55, 167, 98, 275, 263, 11, 32, 102, 69, 207, 163, 304, 159, 257, 213, 44, 163, 45, 163, 207, 48, 38, 229, 15, 239, 208, 128, 32, 134, 45, 200, 212, 170, 103, 134, 280, 137, 308, 201, 229, 38, 159, 231, 136, 219, 208, 154, 32, 159, 330, 348, 1, 35, 272, 284, 18, 1, 334, 159, 48, 229, 251, 170, 302, 35, 255, 24, 251, 35, 154, 57, 151, 15, 48, 113, 241, 6, 76, 15, 15, 82, 18, 174, 251, 28, 16, 351, 98, 5, 132, 137, 201, 25, 208, 223, 15, 82, 337, 348, 1, 221, 15, 281, 178, 202, 13, 32, 226, 28, 202, 253, 220, 85, 1, 132, 275, 189, 270, 340, 178, 58, 17, 285, 263, 241, 178, 32, 269, 349, 103, 305, 202, 224, 245, 22, 127, 137, 163, 220, 134, 163, 298, 263, 83, 272, 22, 15, 199, 137, 322, 32, 128, 279, 204, 3, 78, 288, 207, 283, 67, 208, 143, 99, 208, 218, 325, 175, 189, 327, 132, 96, 326, 28, 220, 82, 137, 174, 177, 48, 216, 202, 14, 97, 32, 16, 1, 307, 251, 252, 32, 6, 32, 342, 24, 269, 127, 97, 214, 257, 97, 100, 48, 202, 76, 234, 28, 285, 48, 56, 110, 231, 232, 132, 32, 348, 118, 159, 208, 200, 288, 28, 33, 208, 111, 348, 159, 203, 193, 132, 213, 194, 127, 348, 340, 31, 88, 71, 322, 134, 15, 229, 32, 188, 9, 263, 311, 61, 165, 178, 1, 28, 285, 133, 277, 225, 258, 202, 209, 214, 38, 28, 273, 334, 208, 48, 220, 238, 134, 132, 291, 348, 220, 77, 218, 203, 180, 343, 257, 229, 254, 134, 234, 18, 175, 220, 1, 208, 202, 32, 220, 231, 157, 229, 163, 257, 163, 38, 82, 66, 289, 132, 15, 241, 220, 4, 137, 270, 132, 207, 304, 188, 38, 193, 203, 237, 202, 285, 184, 202, 132, 38, 26, 280, 188, 219, 48, 37, 166, 76, 134, 298, 202, 244, 48, 1, 200, 1, 97, 24, 313, 288, 191, 78, 171, 234, 87, 233, 203, 4, 215, 246, 322, 175, 322, 32, 331, 123, 48, 174, 32, 178, 349, 245, 132, 163, 230, 32, 32, 32, 193, 284, 114, 288, 10, 229, 267, 209, 93, 220, 134, 11, 166, 175, 197, 298, 285, 234, 18, 32, 277, 348, 271, 218, 28, 202, 65, 325, 348, 230, 132, 209, 179, 66, 98, 326, 263, 163, 78, 188, 224, 301, 258, 220, 149, 277, 137, 257, 345, 3, 32, 127, 208, 220, 32, 179, 28, 134, 220, 69, 202, 282, 134, 66, 1, 38, 28, 271, 208, 266, 282, 220, 118, 48, 229, 245, 345, 349, 283, 14, 211, 132, 48, 279, 93, 201, 64, 285, 15, 178, 230, 208, 305, 38, 11, 238, 334, 214, 38, 285, 304, 158, 137, 149, 297, 134, 230, 257, 105, 118, 311, 220, 152, 348, 220, 28, 35, 220, 163, 133, 137, 160, 214, 18, 279, 220, 27, 197, 202, 159, 163, 260, 159, 163, 220, 263, 209, 32, 27, 10, 258, 266, 215, 9, 31, 208, 28, 224, 163, 66, 15, 304, 15, 1, 6, 96, 18, 197, 305, 285, 134, 289, 32, 92, 61, 129, 193, 257, 101, 35, 288, 41, 128, 288, 32, 71, 137, 48, 219, 216, 1, 220, 216, 1, 24, 189, 175, 266, 324, 87, 69, 92, 342, 229, 285, 109, 223, 314, 285, 333, 130, 304, 38, 28, 285, 338, 257, 178, 35, 28, 349, 285, 163, 273, 211, 297, 1, 342, 229, 348, 215, 159, 15, 32, 230, 257, 176, 134, 48, 285, 251, 230, 263, 18, 304, 53, 195, 208, 31, 80, 304, 257, 348, 272, 218, 320, 333, 159, 159, 208, 125, 180, 144, 263, 344, 48, 1, 77, 98, 229, 183, 305, 119, 139, 32, 101, 209, 245, 333, 108, 270, 343, 229, 119, 145, 146, 160, 132, 134, 159, 128, 263, 306, 163, 32, 197, 163, 229, 288, 245, 178, 17, 282, 159, 269, 182, 32, 336, 68, 208, 119, 163, 263, 163, 155, 173, 225, 285, 231, 46, 254, 228, 1, 220, 229, 72, 77, 171, 1, 206, 6, 190, 277, 257, 134, 132, 174, 279, 176, 217, 32, 123, 350, 196, 48, 15, 170, 82, 35, 279, 112, 132, 132, 345, 28, 178, 28, 219, 238, 35, 51, 350, 132, 134, 38, 65, 253, 55, 304, 252, 229, 220, 207, 1, 329, 251, 44, 82, 348, 203, 123, 285, 86, 188, 65, 270, 219, 154, 118, 303, 342, 273, 32, 236, 159, 101, 159, 1, 326, 281, 173, 293, 202, 67, 116, 178, 257, 234, 257, 194, 17, 122, 288, 110, 98, 253, 282, 184, 99, 220, 12, 277, 163, 203, 14, 32, 334, 44, 134, 1, 6, 348, 48, 263, 15, 48, 210, 202, 21, 134, 281, 98, 1, 180, 202, 58, 208, 348, 297, 349, 203, 88, 348, 298, 209, 298, 252, 348, 289, 218, 174, 193, 202, 44, 229, 137, 1, 221, 28, 200, 11, 32, 210, 106, 266, 269, 133, 6, 132, 17, 221, 267, 193, 28, 208, 100, 32, 148, 263, 208, 79, 38, 300, 28, 245, 257, 32, 106, 38, 134, 271, 132, 132, 285, 32, 229, 241, 15, 46, 48, 220, 76, 28, 288, 245, 348, 250, 350, 208, 312, 159, 281, 351, 157, 218, 36, 127, 299, 148, 163, 134, 220, 196, 262, 348, 88, 229, 247, 208, 60, 85, 207, 0, 336, 24, 348, 69, 174, 32, 178, 257, 132, 229, 28, 204, 163, 176, 28, 28, 202, 170, 325, 173, 132, 26, 255, 234, 327, 133, 132, 189, 15, 226, 159, 335, 1, 281, 256, 159, 350, 257, 48, 56, 22, 258, 179, 85, 273, 285, 48, 132, 111, 189, 322, 157, 48, 24, 48, 86, 229, 39, 159, 48, 285, 267, 198, 6, 203, 339, 104, 277, 311, 202, 285, 255, 15, 224, 229, 102, 48, 35, 14, 69, 122, 281, 285, 254, 137, 196, 214, 342, 12, 35, 218, 242, 47, 5, 105, 163, 229, 123, 6, 69, 28, 127, 24, 348, 288, 202, 244, 1, 209, 28, 297, 277, 18, 239, 184, 288, 32, 98, 208, 82, 126, 294, 197, 213, 288, 217, 108, 175, 263, 35, 348, 203, 220, 162, 257, 263, 1, 343, 288, 263, 32, 336, 323, 117, 28, 32, 135, 230, 160, 180, 145, 1, 269, 272, 167, 126, 161, 101, 234, 263, 124, 178, 32, 32, 268, 345, 48, 245, 281, 245, 132, 209, 158, 252, 288, 262, 53, 220, 46, 59, 15, 134, 115, 200, 202, 44, 36, 154, 285, 1, 108, 234, 224, 257, 91, 310, 287, 163, 87, 17, 159, 298, 212, 288, 203, 59, 28, 137, 136, 227, 35, 285, 220, 218, 172, 103, 25, 263, 132, 263, 187, 1, 263, 270, 229, 52, 15, 281, 35, 209, 48, 297, 285, 285, 159, 262, 154, 119, 15, 81, 238, 8, 146, 132, 263, 48, 208, 281, 156, 230, 242, 257, 267, 343, 178, 28, 67, 289, 263, 194, 220, 16, 208, 263, 271, 32, 208, 252, 48, 101, 285, 348, 259, 25, 50, 208, 178, 204, 277, 221, 247, 32, 127, 245, 24, 202, 220, 21, 209, 229, 344, 134, 48, 234, 257, 5, 257, 264, 35, 137, 229, 48, 208, 1, 341, 287, 176, 119, 194, 134, 325, 195, 241, 69, 208, 208, 163, 303, 201, 263, 134, 32, 234, 69, 285, 219, 229, 229, 1, 257, 149, 1, 55, 76, 38, 99, 170, 310, 32, 213, 32, 277, 61, 48, 32, 190, 322, 273, 159, 28, 230, 306, 28, 319, 229, 348, 108, 212, 296, 167, 203, 80, 32, 320, 213, 218, 82, 134, 193, 230, 159, 159, 255, 202, 112, 288, 137, 0, 10, 223, 193, 206, 159, 348, 5, 348, 99, 225, 171, 119, 98, 119, 174, 337, 254, 159, 96, 200, 28, 132, 176, 227, 285, 263, 28, 281, 1, 79, 345, 48, 312, 159, 48, 202, 60, 204, 333, 185, 15, 193, 178, 178, 132, 40, 1, 263, 229, 154, 141, 1, 331, 349, 260, 272, 137, 134, 227, 1, 32, 132, 231, 208, 28, 28, 178, 163, 236, 191, 334, 159, 28, 16, 220, 208, 88, 162, 288, 41, 230, 1, 137, 0, 159, 146, 263, 61, 1, 27, 178, 252, 48, 266, 348, 220, 17, 202, 221, 263, 327, 204, 243, 208, 197, 151, 32, 257, 79, 86, 159, 248, 203, 184, 202, 134, 159, 234, 350, 298, 138, 178, 304, 184, 238, 209, 232, 10, 270, 220, 33, 304, 38, 183, 110, 18, 288, 229, 253, 244, 334, 252, 1, 218, 257, 281, 208, 305, 238, 6, 74, 345, 208, 130, 28, 263, 41, 334, 348, 15, 79, 334, 257, 208, 1, 219, 48, 234, 79, 254, 348, 34, 10, 225, 234, 257, 48, 212, 32, 336, 28, 234, 263, 202, 208, 134, 99, 208, 339, 309, 221, 257, 76, 157, 59, 48, 343, 257, 157, 213, 285, 221, 219, 208, 36, 1, 32, 220, 195, 208, 241, 263, 86, 208, 86, 320, 27, 171, 77, 158, 234, 201, 197, 132, 36, 48, 48, 163, 18, 32, 233, 343, 163, 257, 154, 59, 263, 72, 348, 285, 106, 238, 208, 82, 137, 137, 163, 178, 134, 178, 50, 286, 176, 185, 257, 146, 1, 207, 41, 350, 18, 77, 212, 229, 257, 350, 18, 257, 16, 285, 277, 119, 0, 326, 53, 98, 229, 312, 213, 170, 279, 297, 70, 318, 38, 28, 282, 234, 154, 88, 163, 1, 132, 232, 159, 177, 348, 279, 74, 255, 249, 208, 229, 298, 221, 27, 310, 221, 18, 229, 334, 134, 191, 207, 183, 70, 135, 257, 257, 61, 294, 1, 304, 328, 1, 285, 15, 197, 263, 26, 223, 289, 285, 202, 203, 193, 132, 3, 1, 134, 229, 159, 30, 14, 32, 201, 208, 220, 15, 121, 163, 132, 163, 328, 1, 163, 97, 146, 38, 98, 132, 261, 32, 119, 134, 285, 194, 207, 262, 59, 238, 125, 288, 334, 245, 225, 1, 257, 159, 17, 273, 4, 132, 285, 9, 343, 157, 348, 313, 288, 134, 119, 272, 153, 348, 28, 263, 266, 134, 158, 219, 18, 263, 225, 32, 197, 207, 263, 209, 134, 229, 16, 282, 257, 257, 159, 232, 281, 137, 202, 37, 69, 28, 134, 289, 279, 351, 76, 186, 200, 263, 26, 28, 38, 159, 220, 176, 183, 259, 156, 12, 208, 167, 248, 1, 149, 203, 348, 28, 10, 48, 245, 298, 134, 36, 32, 166, 296, 268, 196, 152, 32, 163, 28, 202, 166, 132, 246, 329, 234, 80, 350, 281, 317, 127, 334, 178, 159, 181, 137, 16, 98, 227, 48, 159, 336, 350, 205, 283, 99, 266, 32, 34, 88, 285, 32, 196, 221, 32, 163, 220, 86, 1, 280, 296, 1, 244, 234, 151, 203, 234, 24, 32, 241, 48, 88, 130, 159, 208, 197, 186, 287, 189, 15, 32, 18, 156, 5, 152, 227, 46, 159, 257, 158, 86, 345, 288, 97, 307, 137, 52, 249, 178, 196, 1, 134, 78, 18, 234, 182, 202, 132, 3, 204, 279, 281, 201, 137, 285, 334, 12, 86, 298, 207, 255, 38, 178, 32, 291, 340, 159, 327, 17, 322, 159, 33, 218, 147, 229, 16, 207, 204, 132, 229, 1, 291, 27, 349, 5, 254, 159, 36, 322, 159, 285, 137, 290, 178, 302, 24, 48, 1, 244, 241, 69, 59, 259, 202, 208, 263, 304, 48, 178, 48, 244, 203, 37, 160, 348, 23, 262, 208, 102, 35, 190, 1, 48, 285, 208, 298, 305, 163, 331, 32, 239, 213, 349, 201, 1, 1, 119, 263, 340, 32, 134, 102, 38, 77, 88, 327, 282, 240, 224, 28, 288, 86, 272, 178, 285, 47, 28, 204, 208, 163, 220, 328, 118, 46, 80, 135, 200, 263, 287, 134, 137, 98, 5, 137, 137, 272, 285, 100, 28, 220, 208, 256, 6, 261, 5, 71, 137, 273, 21, 26, 229, 48, 232, 299, 90, 76, 197, 28, 28, 137, 179, 132, 179, 48, 201, 220, 257, 48, 243, 1, 127, 28, 257, 245, 19, 153, 202, 298, 32, 263, 227, 137, 229, 203, 129, 192, 32, 348, 348, 231, 118, 263, 132, 181, 282, 30, 301, 159, 202, 304, 17, 157, 286, 349, 132, 28, 14, 343, 47, 303, 33, 334, 163, 315, 245, 286, 147, 159, 263, 220, 202, 302, 159, 132, 38, 1, 119, 69, 220, 18, 263, 141, 208, 132, 28, 159, 262, 285, 208, 192, 348, 202, 168, 163, 227, 296, 137, 334, 178, 38, 222, 115, 202, 202, 114, 285, 10, 134, 178, 296, 334, 38, 348, 201, 254, 134, 28, 282, 245, 346, 263, 1, 190, 1, 32, 257, 280, 239, 32, 53, 288, 65, 228, 80, 163, 138, 76, 263, 76, 285, 261, 218, 159, 295, 229, 79, 210, 262, 132, 288, 32, 285, 208, 204, 134, 273, 200, 271, 79, 82, 202, 197, 182, 287, 209, 1, 334, 234, 235, 48, 48, 41, 266, 204, 159, 335, 262, 292, 251, 223, 28, 126, 213, 219, 273, 262, 12, 71, 217, 155, 102, 76, 327, 134, 101, 285, 146, 271, 322, 138, 231, 134, 249, 229, 285, 257, 27, 204, 215, 15, 257, 134, 231, 48, 193, 208, 234, 280, 17, 227, 281, 35, 288, 15, 0, 241, 166, 163, 221, 48, 38, 207, 170, 163, 17, 38, 198, 189, 1, 220, 91, 28, 170, 258, 132, 38, 257, 1, 17, 267, 229, 343, 190, 229, 266, 134, 160, 180, 178, 137, 32, 225, 348, 305, 229, 327, 327, 349, 187, 285, 304, 6, 94, 132, 172, 229, 86, 148, 215, 170, 227, 244, 205, 220, 101, 258, 159, 285, 257, 210, 208, 39, 257, 333, 28, 82, 137, 53, 229, 196, 1, 238, 157, 132, 161, 318, 234, 79, 6, 38, 146, 234, 97, 263, 86, 208, 28, 65, 186, 79, 134, 18, 201, 98, 159, 205, 130, 348, 159, 175, 134, 99, 159, 238, 159, 305, 263, 76, 239, 15, 208, 331, 159, 24, 304, 203, 69, 1, 220, 163, 48, 28, 278, 11, 5, 208, 263, 178, 94, 165, 258, 149, 15, 82, 189, 14, 323, 28, 263, 202, 298, 12, 157, 141, 123, 242, 258, 208, 208, 9, 348, 216, 285, 93, 18, 168, 202, 347, 277, 48, 326, 32, 24, 159, 86, 48, 1, 123, 133, 272, 48, 203, 38, 149, 348, 1, 285, 263, 224, 152, 280, 124, 191, 334, 238, 288, 348, 87, 257, 272, 208, 220, 28, 254, 263, 132, 137, 229, 167, 272, 48, 96, 218, 162, 331, 208, 118, 213, 1, 48, 28, 202, 161, 234, 127, 197, 285, 242, 148, 59, 48, 207, 15, 323, 160, 284, 212, 304, 25, 74, 298, 257, 32, 310, 121, 15, 132, 234, 214, 160, 287, 178, 82, 20, 326, 38, 32, 159, 175, 19, 163, 38, 193, 349, 339, 260, 208, 132, 285, 277, 245, 132, 1, 31, 298, 262, 220, 133, 5, 111, 149, 12, 64, 28, 32, 22, 239, 28, 48, 57, 234, 288, 178, 18, 178, 284, 348, 32, 230, 273, 14, 268, 18, 1, 28, 160, 132, 203, 208, 98, 85, 134, 349, 247, 77, 32, 1, 260, 345, 159, 285, 0, 196, 132, 202, 175, 48, 163, 163, 229, 273, 287, 159, 251, 342, 314, 202, 6, 208, 220, 38, 178, 279, 298, 193, 14, 212, 8, 154, 202, 334, 18, 48, 15, 125, 98, 182, 144, 245, 152, 288, 38, 89, 159, 134, 109, 334, 152, 193, 184, 1, 38, 178, 291, 234, 347, 244, 87, 3, 163, 178, 33, 166, 100, 88, 12, 347, 28, 234, 332, 1, 97, 48, 181, 96, 53, 229, 172, 132, 170, 63, 52, 180, 24, 238, 59, 267, 258, 178, 23, 208, 15, 331, 203, 263, 159, 28, 334, 336, 3, 159, 48, 285, 159, 230, 32, 124, 108, 215, 188, 163, 208, 202, 32, 180, 126, 193, 214, 119, 159, 276, 18, 258, 127, 59, 298, 1, 17, 15, 203, 146, 1, 100, 304, 202, 332, 220, 178, 11, 321, 15, 175, 28, 17, 243, 163, 178, 288, 159, 184, 298, 71, 97, 298, 1, 314, 348, 181, 220, 44, 45, 288, 215, 285, 204, 148, 1, 202, 221, 132, 348, 220, 234, 240, 224, 304, 103, 163, 201, 163, 32, 116, 48, 28, 97, 272, 18, 208, 288, 202, 1, 1, 342, 219, 348, 208, 174, 216, 234, 190, 278, 348, 153, 163, 34, 349, 48, 48, 207, 157, 257, 134, 208, 220, 254, 245, 48, 143, 132, 284, 202, 165, 151, 19, 279, 345, 1, 28, 178, 283, 263, 119, 159, 220, 152, 291, 149, 263, 303, 73, 57, 206, 239, 301, 28, 133, 15, 134, 163, 279, 73, 313, 32, 310, 220, 216, 202, 285, 292, 123, 164, 163, 257, 134, 80, 305, 202, 67, 32, 252, 140, 282, 220, 214, 163, 38, 48, 229, 331, 208, 28, 272, 149, 156, 28, 288, 214, 305, 184, 257, 285, 137, 159, 268, 263, 137, 215, 264, 132, 208, 263, 32, 194, 48, 285, 32, 321, 283, 32, 244, 230, 203, 229, 268, 229, 137, 12, 177, 32, 32, 105, 294, 263, 1, 245, 331, 234, 78, 348, 159, 15, 177, 10, 193, 266, 241, 220, 179, 127, 163, 178, 234, 141, 178, 32, 334, 285, 215, 180, 158, 163, 257, 159, 288, 234, 15, 263, 208, 106, 15, 318, 137, 101, 238, 351, 76, 159, 247, 134, 282, 314, 299, 10, 176, 132, 1, 48, 321, 181, 202, 244, 123, 220, 348, 192, 3, 336, 48, 235, 76, 69, 213, 99, 15, 241, 44, 350, 281, 38, 159, 28, 337, 288, 220, 310, 98, 281, 191, 134, 202, 217, 32, 48, 48, 64, 27, 31, 233, 331, 38, 234, 257, 209, 35, 288, 48, 285, 220, 154, 126, 334, 260, 134, 53, 76, 178, 269, 30, 200, 134, 135, 202, 58, 154, 288, 227, 19, 201, 134, 259, 282, 1, 208, 257, 220, 348, 158, 15, 203, 15, 233, 16, 28, 79, 348, 234, 285, 220, 88, 126, 48, 137, 146, 132, 285, 132, 126, 38, 201, 15, 11, 32, 214, 225, 206, 32, 257, 160, 28, 32, 28, 134, 127, 202, 229, 208, 334, 130, 220, 215, 35, 97, 249, 45, 279, 232, 17, 208, 146, 165, 134, 32, 18, 285, 204, 127, 170, 229, 141, 28, 210, 159, 221, 132, 338, 170, 1, 193, 203, 231, 101, 348, 225, 285, 348, 124, 238, 208, 69, 28, 1, 285, 304, 157, 333, 291, 98, 35, 220, 239, 137, 220, 28, 15, 114, 233, 280, 18, 202, 174, 285, 32, 132, 132, 257, 236, 124, 28, 234, 22, 202, 288, 6, 208, 291, 98, 325, 28, 59, 224, 347, 202, 134, 137, 304, 48, 223, 105, 348, 218, 61, 221, 279, 15, 208, 343, 149, 160, 157, 134, 134, 304, 163, 163, 28, 233, 227, 163, 221, 231, 203, 82, 181, 207, 327, 202, 159, 227, 48, 132, 163, 163, 124, 282, 103, 134, 214, 314, 334, 157, 257, 329, 125, 310, 119, 10, 213, 64, 331, 340, 18, 159, 257, 18, 324, 285, 38, 163, 21, 17, 108, 65, 1, 288, 221, 181, 208, 234, 241, 188, 209, 38, 234, 68, 282, 310, 238, 28, 17, 168, 313, 132, 209, 48, 204, 32, 285, 79, 244, 348, 285, 348, 253, 159, 76, 31, 193, 132, 28, 134, 197, 60, 218, 262, 32, 28, 2, 208, 159, 314, 336, 1, 214, 348, 333, 101, 1, 137, 48, 263, 207, 285, 317, 18, 132, 271, 230, 213, 345, 230, 271, 288, 310, 35, 327, 348, 349, 166, 220, 262, 18, 32, 125, 32, 48, 234, 334, 154, 202, 108, 159, 163, 86, 27, 32, 203, 348, 28, 343, 178, 15, 203, 279, 159, 254, 38, 248, 93, 137, 163, 213, 132, 234, 132, 285, 32, 32, 32, 208, 278, 327, 148, 69, 332, 213, 34, 86, 285, 163, 282, 35, 351, 86, 4, 159, 207, 214, 180, 201, 102, 306, 82, 195, 255, 1, 263, 128, 178, 340, 154, 38, 215, 157, 252, 134, 208, 32, 220, 220, 208, 119, 206, 115, 285, 234, 69, 241, 17, 107, 38, 137, 268, 168, 208, 93, 181, 38, 127, 220, 335, 146, 348, 137, 32, 229, 245, 245, 32, 285, 57, 348, 96, 266, 291, 127, 220, 267, 177, 288, 26, 284, 202, 1, 201, 334, 282, 53, 184, 198, 209, 44, 279, 320, 285, 240, 132, 30, 104, 137, 154, 16, 267, 269, 285, 132, 202, 351, 288, 334, 32, 251, 48, 316, 32, 261, 170, 203, 67, 201, 207, 149, 1, 39, 184, 331, 15, 180, 288, 48, 146, 208, 38, 132, 320, 32, 134, 32, 59, 327, 163, 1, 178, 285, 28, 163, 32, 230, 131, 245, 257, 134, 146, 33, 166, 79, 69, 348, 132, 218, 288, 322, 333, 208, 285, 227, 203, 38, 351, 299, 227, 64, 335, 48, 53, 281, 288, 137, 277, 208, 218, 207, 97, 1, 163, 348, 285, 126, 351, 229, 305, 325, 15, 220, 201, 134, 159, 262, 132, 214, 102, 127, 1, 329, 215, 350, 204, 193, 44, 188, 204, 244, 26, 191, 314, 159, 119, 48, 170, 257, 234, 28, 263, 132, 48, 145, 48, 32, 263, 340, 282, 159, 196, 343, 193, 17, 202, 163, 33, 178, 208, 202, 35, 213, 163, 159, 229, 220, 36, 229, 229, 1, 170, 202, 137, 200, 208, 32, 229, 170, 38, 257, 48, 28, 134, 47, 32, 284, 48, 334, 258, 265, 132, 137, 269, 254, 220, 132, 229, 27, 337, 50, 178, 221, 28, 234, 208, 132, 204, 300, 215, 288, 174, 154, 245, 32, 5, 132, 288, 163, 348, 186, 35, 209, 241, 263, 174, 163, 163, 270, 208, 79, 213, 320, 200, 48, 258, 284, 208, 137, 208, 305, 32, 285, 183, 285, 178, 288, 270, 1, 287, 1, 118, 132, 189, 16, 1, 61, 288, 285, 48, 310, 137, 191, 244, 272, 283, 9, 288, 288, 348, 38, 220, 229, 202, 257, 285, 253, 291, 227, 69, 220, 184, 96, 174, 234, 178, 76, 38, 152, 38, 288, 9, 28, 268, 38, 263, 48, 18, 4, 86, 348, 263, 234, 18, 61, 349, 202, 220, 47, 277, 281, 234, 34, 17, 349, 199, 348, 274, 159, 193, 134, 212, 163, 163, 234, 183, 38, 137, 38, 159, 15, 348, 245, 201, 166, 348, 234, 208, 208, 1, 37, 159, 48, 201, 229, 254, 202, 208, 146, 220, 137, 156, 48, 163, 178, 253, 349, 159, 241, 132, 285, 203, 28, 132, 170, 48, 137, 288, 132, 134, 160, 298, 351, 132, 134, 134, 298, 134, 132, 288, 69, 122, 132, 28, 15, 32, 42, 286, 285, 33, 350, 201, 221, 42, 220, 32, 191, 19, 220, 203, 178, 202, 215, 163, 48, 190, 326, 227, 296, 134, 132, 134, 32, 178, 197, 234, 137, 291, 288, 124, 181, 17, 118, 263, 14, 174, 141, 304, 233, 196, 170, 202, 263, 285, 308, 126, 285, 288, 234, 1, 331, 234, 288, 241, 32, 213, 201, 220, 220, 234, 32, 220, 208, 304, 227, 288, 348, 193, 264, 61, 69, 9, 229, 163, 32, 38, 315, 221, 32, 197, 288, 15, 14, 199, 159, 249, 177, 193, 49, 224, 19, 48, 322, 215, 32, 208, 230, 208, 234, 271, 28, 227, 48, 298, 12, 91, 202, 276, 248, 348, 123, 177, 215, 158, 280, 137, 17, 1, 185, 289, 146, 209, 198, 98, 48, 28, 32, 219, 137, 288, 220, 69, 218, 304, 127, 285, 208, 288, 208, 273, 227, 245, 95, 159, 159, 175, 254, 285, 138, 178, 218, 159, 48, 284, 32, 220, 285, 238, 285, 288, 201, 137, 208, 5, 220, 6, 41, 344, 28, 310, 178, 134, 166, 132, 48, 208, 166, 93, 269, 128, 126, 234, 11, 315, 44, 15, 208, 28, 347, 234, 344, 234, 134, 220, 216, 98, 1, 166, 134, 310, 174, 209, 48, 48, 159, 234, 159, 152, 229, 132, 65, 279, 134, 132, 197, 188, 6, 96, 198, 175, 138, 16, 346, 59, 28, 123, 159, 257, 163, 340, 250, 281, 137, 288, 239, 202, 32, 349, 47, 244, 15, 285, 120, 229, 220, 259, 240, 149, 202, 134, 264, 80, 98, 208, 200, 103, 268, 145, 32, 221, 241, 337, 38, 331, 45, 322, 266, 202, 1, 275, 208, 230, 15, 343, 331, 285, 163, 178, 32, 343, 244, 159, 44, 82, 146, 17, 216, 32, 326, 72, 28, 323, 32, 288, 17, 179, 305, 220, 181, 266, 234, 60, 285, 277, 303, 196, 263, 178, 146, 203, 1, 270, 57, 257, 236, 145, 254, 28, 163, 69, 310, 132, 270, 227, 209, 208, 146, 281, 202, 343, 28, 282, 295, 178, 333, 15, 244, 350, 270, 119, 220, 350, 37, 288, 59, 80, 12, 141, 234, 285, 157, 329, 38, 190, 137, 132, 304, 149, 180, 280, 282, 202, 320, 285, 53, 254, 174, 8, 208, 312, 343, 212, 298, 15, 186, 251, 38, 38, 134, 207, 219, 28, 32, 204, 230, 48, 285, 245, 152, 351, 86, 220, 218, 32, 310, 15, 262, 345, 350, 38, 294, 215, 132, 327, 220, 41, 28, 202, 208, 318, 178, 277, 157, 278, 1, 137, 32, 348, 59, 285, 183, 214, 178, 32, 193, 234, 123, 175, 270, 202, 234, 209, 208, 64, 140, 314, 1, 285, 288, 283, 188, 157, 1, 138, 77, 15, 257, 290, 170, 305, 178, 134, 38, 95, 331, 208, 6, 269, 81, 214, 32, 15, 1, 127, 343, 1, 176, 1, 136, 17, 337, 222, 127, 229, 220, 181, 242, 348, 213, 146, 132, 200, 234, 132, 35, 321, 82, 69, 257, 125, 267, 245, 137, 263, 202, 264, 80, 137, 32, 48, 134, 208, 152, 238, 28, 280, 207, 32, 146, 273, 175, 132, 335, 288, 334, 193, 272, 124, 229, 50, 2, 163, 134, 231, 179, 135, 159, 160, 159, 104, 226, 209, 189, 118, 181, 251, 137, 231, 160, 270, 220, 139, 288, 134, 220, 348, 183, 269, 57, 125, 32, 77, 241, 132, 108, 230, 1, 32, 263, 32, 32, 229, 88, 345, 204, 287, 15, 56, 348, 137, 5, 263, 325, 1, 272, 334, 202, 59, 163, 163, 238, 140, 279, 201, 111, 348, 263, 178, 132, 220, 1, 163, 152, 229, 3, 220, 234, 66, 14, 65, 46, 244, 262, 202, 61, 219, 159, 162, 343, 208, 127, 126, 134, 159, 222, 202, 32, 48, 46, 129, 201, 159, 208, 5, 124, 229, 348, 202, 166, 132, 208, 208, 202, 46, 191, 79, 134, 137, 91, 263, 208, 32, 48, 28, 28, 225, 281, 220, 163, 327, 320, 208, 38, 159, 147, 229, 132, 45, 327, 234, 116, 159, 201, 202, 335, 225, 32, 178, 58, 202, 340, 153, 208, 285, 134, 259, 163, 3, 82, 257, 215, 63, 132, 15, 97, 236, 329, 84, 229, 132, 60, 202, 229, 90, 134, 193, 174, 209, 221, 220, 229, 281, 48, 208, 132, 36, 234, 32, 148, 189, 198, 159, 208, 24, 304, 18, 1, 1, 221, 285, 285, 32, 0, 28, 48, 236, 296, 96, 148, 134, 32, 159, 32, 202, 48, 82, 208, 297, 43, 263, 39, 132, 175, 142, 32, 263, 175, 223, 273, 48, 234, 234, 348, 15, 1, 344, 14, 263, 200, 249, 229, 334, 45, 35, 229, 134, 235, 285, 189, 178, 227, 267, 333, 154, 55, 229, 134, 208, 177, 94, 198, 224, 288, 159, 22, 248, 349, 230, 33, 228, 9, 208, 137, 285, 204, 174, 229, 32, 134, 189, 241, 134, 137, 327, 159, 59, 59, 178, 38, 88, 263, 1, 348, 274, 229, 63, 198, 351, 263, 178, 191, 317, 165, 345, 254, 243, 199, 38, 221, 196, 317, 48, 220, 348, 218, 253, 332, 218, 17, 97, 132, 48, 285, 238, 236, 38, 220, 124, 219, 100, 197, 132, 132, 288, 205, 238, 48, 61, 234, 28, 32, 218, 219, 79, 208, 117, 56, 163, 178, 351, 351, 229, 213, 234, 132, 137, 50, 215, 285, 134, 288, 342, 208, 285, 181, 15, 15, 157, 270, 159, 201, 297, 286, 299, 193, 220, 134, 257, 291, 285, 32, 221, 69, 179, 209, 234, 348, 163, 120, 152, 178, 1, 137, 20, 216, 327, 44, 285, 202, 334, 335, 48, 137, 204, 2, 82, 15, 343, 288, 178, 238, 214, 148, 335, 216, 285, 233, 1, 86, 94, 35, 312, 108, 241, 69, 336, 176, 136, 178, 298, 197, 234, 229, 159, 132, 28, 163, 272, 123, 218, 48, 288, 9, 267, 317, 178, 76, 289, 309, 283, 33, 134, 314, 119, 170, 208, 28, 334, 98, 15, 38, 131, 163, 224, 163, 132, 188, 196, 334, 215, 189, 178, 157, 165, 348, 14, 208, 285, 208, 215, 254, 208, 323, 177, 247, 82, 157, 115, 305, 152, 226, 132, 348, 242, 89, 1, 159, 296, 149, 170, 253, 3, 79, 295, 127, 175, 127, 197, 44, 221, 229, 120, 32, 323, 59, 310, 103, 285, 208, 175, 285, 16, 209, 301, 327, 285, 251, 201, 202, 1, 348, 230, 132, 11, 262, 163, 207, 258, 202, 168, 1, 348, 292, 288, 220, 261, 166, 304, 208, 181, 349, 15, 27, 132, 285, 288, 304, 257, 132, 17, 48, 208, 180, 9, 322, 19, 86, 343, 155, 220, 181, 17, 263, 234, 224, 137, 263, 160, 59, 151, 48, 38, 196, 31, 134, 272, 263, 229, 175, 156, 343, 80, 175, 35, 15, 89, 273, 170, 97, 348, 28, 129, 119, 323, 202, 220, 258, 56, 277, 178, 59, 159, 281, 178, 214, 266, 229, 141, 56, 132, 288, 162, 257, 28, 234, 272, 28, 208, 48, 351, 262, 297, 220, 228, 1, 178, 348, 184, 323, 127, 221, 39, 250, 266, 260, 220, 48, 59, 231, 163, 223, 230, 257, 6, 163, 132, 247, 208, 90, 32, 38, 348, 26, 135, 285, 257, 1, 262, 261, 3, 257, 303, 72, 178, 263, 157, 177, 32, 60, 249, 220, 298, 350, 238, 69, 159, 189, 317, 317, 261, 331, 269, 163, 224, 23, 182, 132, 188, 132, 163, 285, 102, 58, 300, 314, 38, 219, 208, 257, 205, 32, 208, 14, 159, 257, 132, 1, 208, 189, 208, 247, 253, 323, 216, 126, 196, 197, 48, 181, 184, 343, 32, 229, 285, 28, 0, 106, 28, 305, 200, 48, 326, 274, 134, 257, 208, 127, 297, 203, 116, 288, 37, 253, 184, 35, 11, 195, 134, 59, 22, 69, 289, 48, 32, 159, 32, 1, 149, 263, 202, 132, 66, 202, 184, 15, 132, 167, 137, 69, 1, 159, 208, 348, 1, 143, 178, 207, 157, 32, 263, 215, 15, 108, 210, 279, 200, 273, 32, 207, 98, 220, 281, 349, 76, 220, 343, 258, 236, 76, 48, 159, 1, 213, 180, 17, 288, 157, 298, 202, 35, 202, 45, 297, 143, 208, 132, 296, 282, 229, 234, 285, 32, 332, 99, 207, 348, 32, 267, 202, 229, 101, 226, 201, 32, 68, 154, 141, 227, 185, 159, 254, 226, 1, 334, 325, 32, 0, 234, 264, 76, 298, 98, 106, 229, 125, 204, 163, 74, 339, 254, 231, 156, 132, 188, 219, 197, 202, 257, 208, 48, 12, 132, 208, 171, 191, 286, 15, 178, 32, 227, 137, 251, 22, 32, 288, 137, 214, 41, 234, 98, 193, 97, 243, 263, 285, 76, 348, 97, 69, 93, 22, 207, 345, 327, 220, 48, 197, 128, 275, 288, 134, 193, 263, 157, 310, 105, 41, 245, 132, 71, 159, 310, 156, 162, 287, 248, 209, 137, 208, 159, 69, 28, 163, 260, 199, 32, 159, 124, 3, 191, 132, 154, 285, 288, 48, 202, 1, 203, 180, 163, 15, 30, 134, 3, 38, 90, 87, 274, 178, 163, 48, 323, 18, 116, 92, 132, 178, 104, 100, 186, 349, 239, 128, 231, 15, 280, 53, 313, 32, 25, 178, 187, 204, 97, 50, 203, 298, 32, 234, 220, 28, 32, 202, 266, 15, 48, 237, 213, 178, 311, 88, 17, 137, 32, 48, 229, 220, 38, 197, 291, 230, 262, 284, 229, 178, 1, 163, 134, 0, 221, 196, 334, 159, 28, 193, 32, 86, 215, 143, 57, 69, 85, 1, 142, 293, 3, 285, 283, 199, 218, 245, 3, 28, 277, 48, 263, 300, 166, 220, 102, 32, 288, 229, 229, 37, 32, 239, 208, 176, 213, 15, 17, 348, 261, 137, 178, 262, 253, 258, 173, 32, 60, 163, 285, 38, 61, 208, 307, 1, 184, 178, 38, 132, 159, 15, 174, 263, 304, 348, 238, 288, 279, 132, 289, 147, 288, 32, 346, 308, 201, 295, 342, 229, 295, 28, 165, 345, 38, 83, 212, 343, 220, 66, 31, 101, 132, 93, 229, 48, 155, 178, 327, 202, 28, 348, 149, 213, 208, 257, 305, 38, 159, 203, 132, 32, 28, 19, 134, 41, 202, 298, 163, 104, 219, 38, 32, 132, 99, 25, 48, 15, 263, 212, 148, 202, 229, 163, 77, 220, 348, 132, 76, 298, 324, 202, 202, 3, 241, 126, 315, 208, 200, 272, 204, 48, 38, 126, 14, 32, 287, 208, 233, 288, 93, 1, 241, 132, 259, 1, 234, 48, 257, 348, 32, 163, 257, 279, 291, 38, 159, 227, 137, 99, 279, 123, 15, 17, 285, 178, 286, 1, 159, 38, 349, 159, 159, 327, 136, 159, 208, 208, 317, 28, 1, 38, 313, 285, 122, 137, 200, 285, 178, 266, 132, 31, 127, 200, 163, 298, 220, 134, 236, 98, 1, 304, 236, 208, 179, 134, 184, 1, 305, 272, 220, 132, 158, 168, 120, 156, 32, 163, 233, 15, 267, 32, 48, 208, 1, 238, 1, 210, 175, 239, 288, 248, 28, 48, 148, 132, 282, 9, 234, 229, 285, 80, 287, 257, 170, 202, 220, 28, 132, 217, 334, 58, 32, 220, 253, 132, 260, 72, 70, 134, 351, 32, 163, 32, 32, 261, 64, 227, 6, 285, 143, 277, 1, 263, 159, 109, 333, 220, 130, 227, 258, 229, 48, 192, 178, 99, 1, 134, 202, 288, 195, 12, 200, 48, 213, 317, 1, 229, 220, 15, 53, 249, 26, 224, 100, 285, 52, 288, 1, 288, 101, 348, 327, 44, 42, 348, 4, 41, 93, 69, 272, 223, 170, 285, 134, 146, 5, 277, 184, 131, 178, 178, 175, 10, 203, 285, 38, 40, 143, 192, 200, 100, 12, 139, 229, 272, 218, 132, 285, 212, 159, 218, 285, 32, 217, 28, 99, 132, 202, 1, 304, 241, 238, 93, 205, 208, 215, 304, 157, 32, 28, 1, 137, 285, 32, 112, 106, 269, 163, 48, 339, 28, 295, 208, 28, 68, 324, 344, 146, 163, 285, 175, 134, 282, 163, 48, 281, 132, 263, 54, 159, 1, 229, 73, 118, 159, 134, 163, 234, 48, 134, 322, 98, 263, 302, 17, 1, 48, 159, 35, 89, 332, 137, 27, 241, 38, 210, 208, 217, 134, 159, 159, 79, 323, 46, 32, 58, 32, 159, 88, 208, 196, 257, 338, 163, 180, 239, 103, 98, 15, 178, 1, 321, 132, 221, 46, 184, 32, 241, 15, 24, 190, 38, 173, 38, 201, 220, 120, 261, 215, 126, 348, 269, 163, 24, 282, 178, 180, 32, 219, 132, 315, 48, 315, 249, 234, 335, 254, 15, 58, 9, 270, 38, 326, 202, 261, 202, 233, 238, 288, 207, 109, 228, 258, 298, 184, 86, 28, 60, 343, 48, 159, 25, 32, 348, 189, 220, 287, 53, 229, 166, 234, 123, 251, 17, 213, 38, 35, 208, 210, 178, 132, 127, 32, 207, 148, 298, 59, 69, 59, 238, 108, 178, 46, 82, 3, 308, 200, 49, 201, 225, 123, 163, 201, 203, 93, 207, 132, 127, 48, 132, 348, 281, 166, 341, 74, 183, 15, 77, 70, 288, 248, 298, 283, 190, 314, 229, 140, 48, 21, 101, 134, 348, 101, 348, 248, 262, 201, 178, 123, 48, 119, 48, 82, 193, 285, 269, 29, 229, 95, 202, 56, 282, 316, 345, 208, 351, 132, 272, 187, 331, 137, 216, 177, 260, 229, 93, 48, 310, 81, 293, 15, 343, 32, 327, 59, 61, 220, 41, 71, 288, 98, 284, 227, 59, 208, 338, 102, 218, 281, 215, 178, 328, 146, 175, 154, 199, 196, 163, 134, 326, 285, 32, 194, 215, 99, 18, 134, 81, 334, 163, 86, 221, 207, 18, 225, 195, 220, 48, 227, 263, 127, 218, 285, 193, 245, 15, 132, 134, 160, 236, 229, 180, 178, 160, 1, 189, 4, 242, 146, 222, 209, 146, 32, 280, 178, 160, 277, 348, 167, 229, 230, 302, 208, 48, 202, 295, 157, 204, 32, 32, 38, 163, 82, 69, 38, 191, 214, 18, 170, 314, 348, 97, 4, 32, 190, 18, 208, 32, 132, 264, 178, 28, 48, 310, 285, 310, 180, 200, 137, 208, 1, 234, 137, 258, 230, 208, 188, 132, 279, 202, 266, 137, 178, 202, 263, 205, 251, 15, 272, 32, 285, 208, 263, 285, 296, 32, 242, 202, 234, 272, 251, 178, 147, 334, 107, 257, 127, 159, 38, 70, 241, 349, 163, 285, 1, 28, 301, 288, 221, 283, 1, 114, 331, 285, 284, 234, 322, 234, 28, 1, 159, 48, 271, 209, 218, 146, 134, 54, 350, 178, 178, 152, 15, 146, 134, 17, 28, 209, 1, 215, 14, 24, 247, 63, 85, 56, 263, 266, 277, 48, 48, 28, 288, 151, 212, 348, 208, 305, 56, 132, 28, 184, 213, 197, 97, 69, 132, 325, 59, 76, 133, 288, 202, 127, 132, 38, 1, 284, 208, 159, 69, 209, 277, 149, 209, 347, 137, 184, 82, 195, 212, 86, 348, 74, 306, 261, 1, 257, 69, 98, 225, 32, 15, 350, 201, 159, 163, 72, 202, 204, 159, 285, 178, 159, 28, 285, 212, 350, 1, 279, 285, 257, 351, 263, 61, 180, 197, 48, 35, 59, 282, 285, 28, 285, 1, 32, 166, 83, 285, 322, 57, 348, 9, 288, 76, 236, 208, 17, 281, 67, 32, 279, 38, 285, 159, 159, 32, 159, 178, 98, 264, 225, 58, 17, 1, 160, 348, 163, 132, 132, 38, 184, 279, 234, 258, 288, 48, 58, 48, 137, 88, 1, 344, 48, 149, 134, 229, 35, 115, 213, 70, 184, 310, 305, 208, 276, 178, 343, 169, 137, 101, 95, 202, 272, 204, 134, 239, 48, 221, 193, 287, 348, 99, 234, 132, 1, 32, 38, 348, 305, 98, 108, 273, 297, 285, 285, 137, 154, 32, 208, 203, 285, 47, 32, 38, 1, 41, 180, 220, 159, 28, 231, 220, 220, 285, 218, 271, 48, 208, 298, 196, 134, 14, 257, 159, 242, 203, 250, 207, 241, 257, 1, 191, 193, 324, 285, 252, 202, 208, 32, 28, 134, 124, 208, 266, 229, 32, 118, 28, 1, 28, 322, 1, 5, 4, 208, 305, 288, 22, 202, 257, 48, 193, 202, 189, 47, 119, 170, 163, 166, 285, 178, 257, 159, 170, 286, 175, 137, 98, 134, 288, 258, 224, 32, 257, 79, 305, 28, 152, 156, 163, 160, 178, 76, 298, 285, 214, 220, 32, 48, 171, 291, 263, 220, 202, 208, 208, 285, 159, 48, 285, 159, 31, 132, 310, 233, 191, 225, 134, 234, 263, 258, 223, 65, 294, 38, 163, 1, 163, 24, 202, 285, 132, 178, 28, 160, 159, 257, 263, 318, 178, 223, 291, 19, 339, 263, 202, 132, 17, 28, 67, 281, 220, 239, 110, 38, 103, 38, 38, 212, 16, 208, 218, 21, 351, 351, 57, 15, 298, 154, 198, 123, 28, 11, 220, 48, 28, 263, 229, 0, 1, 334, 66, 149, 39, 163, 348, 157, 15, 314, 312, 257, 220, 93, 348, 48, 277, 159, 331, 220, 277, 14, 215, 159, 331, 218, 208, 17, 255, 288, 304, 202, 86, 28, 5, 90, 247, 217, 311, 71, 204, 213, 200, 234, 305, 317, 1, 220, 270, 123, 68, 240, 197, 207, 88, 169, 146, 171, 257, 280, 227, 304, 213, 1, 64, 123, 94, 310, 234, 229, 135, 69, 163, 263, 351, 38, 313, 72, 270, 132, 54, 208, 14, 6, 6, 285, 234, 201, 62, 238, 159, 281, 88, 82, 220, 134, 252, 250, 48, 348, 281, 48, 22, 288, 234, 344, 288, 134, 134, 182, 293, 327, 343, 221, 208, 215, 53, 48, 171, 149, 163, 207, 229, 1, 220, 208, 348, 35, 214, 32, 17, 202, 178, 38, 280, 296, 93, 346, 1, 132, 142, 219, 134, 220, 263, 15, 329, 285, 174, 28, 288, 229, 280, 288, 126, 327, 203, 208, 238, 201, 196, 234, 31, 272, 178, 302, 32, 94, 257, 163, 58, 134, 28, 331, 98, 69, 175, 234, 331, 263, 202, 181, 168, 200, 69, 58, 348, 15, 229, 134, 304, 220, 263, 285, 213, 1, 351, 81, 32, 127, 288, 200, 126, 76, 234, 178, 10, 3, 1, 142, 215, 32, 343, 279, 67, 249, 132, 137, 273, 36, 65, 146, 48, 159, 288, 280, 38, 132, 225, 189, 9, 26, 202, 15, 333, 348, 285, 281, 263, 69, 261, 298, 208, 258, 268, 132, 263, 32, 69, 348, 257, 220, 149, 263, 266, 203, 203, 263, 323, 41, 28, 174, 200, 238, 193, 178, 148, 48, 200, 14, 174, 348, 351, 132, 70, 270, 163, 294, 1, 132, 312, 38, 202, 19, 45, 69, 19, 32, 16, 134, 285, 220, 19, 12, 146, 39, 199, 230, 174, 31, 336, 24, 15, 260, 305, 100, 212, 209, 166, 45, 159, 163, 331, 32, 163, 163, 284, 28, 280, 190, 134, 251, 163, 163, 234, 230, 60, 282, 134, 1, 295, 17, 15, 208, 220, 343, 345, 134, 298, 281, 18, 126, 311, 331, 123, 234, 127, 348, 19, 187, 99, 288, 303, 126, 257, 263, 203, 257, 134, 286, 348, 220, 230, 70, 285, 98, 166, 4, 257, 159, 202, 174, 74, 1, 201, 348, 206, 248, 229, 229, 16, 217, 331, 12, 38, 288, 48, 148, 210, 137, 132, 75, 304, 232, 203, 281, 307, 208, 348, 266, 285, 234, 178, 269, 207, 12, 208, 229, 97, 38, 257, 9, 134, 208, 172, 229, 260, 46, 58, 208, 15, 175, 208, 305, 163, 288, 159, 159, 263, 285, 134, 183, 132, 32, 19, 44, 132, 159, 208, 278, 17, 348, 1, 12, 44, 38, 239, 296, 253, 348, 171, 32, 28, 333, 33, 38, 1, 134, 17, 220, 348, 287, 249, 82, 220, 15, 180, 38, 216, 155, 259, 170, 134, 152, 298, 141, 208, 57, 208, 134, 350, 39, 180, 196, 266, 6, 132, 221, 285, 1, 76, 231, 97, 77, 58, 3, 205, 316, 134, 241, 1, 134, 98, 228, 32, 272, 188, 18, 44, 87, 263, 208, 220, 248, 305, 270, 77, 329, 175, 257, 263, 263, 137, 288, 35, 208, 269, 213, 231, 218, 260, 132, 282, 1, 202, 229, 234, 36, 132, 263, 241, 263, 18, 137, 240, 257, 208, 126, 213, 225, 78, 76, 48, 157, 76, 208, 202, 338, 177, 208, 170, 32, 163, 90, 1, 132, 15, 159, 3, 134, 101, 134, 220, 81, 304, 28, 351, 31, 220, 179, 229, 178, 76, 127, 158, 314, 19, 159, 285, 258, 212, 42, 68, 229, 32, 71, 183, 32, 220, 279, 32, 52, 82, 132, 5, 68, 292, 348, 351, 244, 285, 316, 221, 30, 239, 325, 52, 229, 208, 132, 32, 348, 285, 241, 32, 6, 234, 88, 32, 229, 234, 50, 306, 220, 263, 221, 15, 170, 316, 157, 149, 1, 251, 48, 348, 331, 336, 348, 304, 263, 32, 159, 48, 245, 201, 17, 52, 225, 154, 328, 202, 257, 273, 263, 351, 134, 289, 219, 178, 18, 163, 181, 343, 285, 229, 234, 38, 166, 77, 285, 0, 32, 285, 10, 152, 154, 256, 174, 38, 257, 5, 102, 72, 285, 258, 285, 163, 24, 331, 220, 53, 98, 212, 48, 32, 32, 220, 234, 28, 101, 208, 1, 285, 86, 47, 348, 340, 208, 195, 32, 279, 230, 208, 298, 348, 282, 203, 218, 48, 227, 229, 200, 41, 258, 202, 38, 1, 266, 38, 349, 208, 305, 220, 176, 82, 15, 348, 263, 347, 202, 48, 48, 1, 137, 41, 6, 132, 177, 207, 44, 334, 208, 3, 1, 72, 266, 225, 157, 302, 88, 333, 17, 229, 178, 221, 257, 257, 331, 219, 19, 229, 282, 209, 239, 249, 82, 159, 45, 124, 257, 305, 134, 179, 163, 201, 134, 149, 28, 214, 212, 128, 32, 193, 202, 36, 178, 229, 195, 174, 132, 348, 203, 177, 106, 114, 277, 217, 18, 38, 48, 182, 200, 207, 257, 137, 185, 22, 101, 208, 268, 229, 208, 132, 285, 349, 169, 288, 203, 213, 218, 263, 229, 285, 322, 343, 55, 177, 213, 227, 227, 208, 38, 346, 70, 288, 127, 257, 35, 303, 208, 28, 202, 208, 48, 204, 263, 285, 134, 97, 25, 281, 48, 132, 299, 115, 232, 163, 38, 348, 21, 159, 1, 208, 122, 193, 202, 38, 282, 137, 232, 335, 163, 157, 132, 257, 284, 17, 122, 234, 137, 285, 200, 215, 15, 160, 205, 38, 328, 48, 202, 335, 282, 348, 15, 3, 257, 334, 17, 331, 65, 212, 318, 17, 184, 268, 132, 351, 208, 32, 348, 178, 28, 17, 159, 107, 234, 241, 296, 221, 293, 266, 334, 28, 132, 202, 257, 336, 133, 227, 132, 280, 36, 14, 109, 153, 132, 174, 208, 234, 136, 304, 288, 213, 32, 202, 205, 53, 310, 288, 22, 45, 48, 308, 90, 17, 46, 214, 19, 137, 157, 234, 71, 205, 101, 227, 213, 220, 285, 337, 159, 37, 99, 163, 348, 48, 304, 146, 26, 163, 159, 229, 163, 314, 284, 39, 264, 15, 177, 257, 82, 204, 202, 173, 15, 159, 163, 218, 118, 282, 333, 24, 1, 95, 308, 216, 234, 219, 48, 32, 209, 137, 1, 11, 285, 195, 151, 190, 212, 220, 28, 28, 136, 266, 235, 38, 160, 86, 169, 285, 12, 334, 44, 279, 48, 261, 208, 132, 38, 77, 306, 208, 304, 0, 263, 80, 186, 160, 234, 163, 259, 6, 225, 178, 350, 285, 219, 202, 234, 189, 98, 238, 286, 132, 163, 327, 98, 28, 187, 48, 334, 27, 288, 101, 48, 132, 32, 218, 32, 4, 156, 98, 220, 35, 156, 253, 163, 24, 168, 28, 209, 105, 70, 343, 134, 284, 285, 1, 244, 142, 180, 170, 32, 241, 36, 201, 258, 48, 48, 201, 258, 263, 102, 202, 159, 234, 201, 220, 63, 299, 234, 132, 22, 32, 71, 218, 257, 191, 200, 334, 310, 55, 32, 215, 188, 1, 134, 48, 163, 171, 343, 132, 213, 348, 159, 279, 127, 38, 134, 108, 298, 269, 32, 296, 148, 32, 163, 320, 1, 91, 234, 148, 134, 327, 48, 200, 96, 283, 28, 163, 59, 229, 234, 120, 285, 59, 263, 263, 178, 26, 98, 208, 201, 132, 87, 127, 279, 288, 286, 240, 38, 132, 11, 48, 78, 234, 202, 312, 348, 258, 285, 6, 163, 143, 132, 1, 134, 24, 87, 170, 181, 231, 304, 348, 155, 213, 208, 49, 333, 177, 263, 208, 269, 159, 1, 69, 134, 69, 220, 166, 249, 118, 98, 289, 32, 1, 234, 123, 28, 98, 44, 132, 241, 59, 227, 218, 314, 305, 159, 229, 285, 168, 197, 236, 6, 229, 343, 208, 28, 351, 32, 263, 219, 234, 132, 258, 203, 279, 181, 297, 159, 267, 204, 230, 263, 183, 245, 201, 197, 337, 97, 282, 148, 76, 132, 70, 301, 141, 218, 134, 19, 149, 270, 201, 159, 279, 151, 93, 86, 81, 345, 170, 137, 6, 115, 263, 263, 257, 48, 263, 102, 348, 285, 332, 160, 257, 349, 137, 160, 349, 127, 134, 266, 0, 208, 348, 214, 163, 126, 257, 5, 324, 64, 163, 28, 193, 201, 61, 241, 144, 288, 108, 27, 229, 115, 163, 220, 39, 163, 336, 170, 178, 32, 15, 17, 195, 98, 15, 179, 47, 285, 208, 343, 193, 152, 321, 182, 285, 88, 285, 304, 234, 137, 1, 282, 196, 149, 110, 257, 134, 15, 305, 59, 293, 6, 134, 196, 225, 200, 174, 28, 106, 15, 220, 249, 219, 285, 132, 66, 202, 203, 102, 28, 281, 41, 219, 175, 322, 279, 202, 15, 108, 228, 96, 119, 209, 105, 153, 23, 350, 35, 263, 248, 220, 32, 32, 88, 218, 237, 1, 288, 6, 1, 87, 159, 193, 174, 345, 97, 151, 32, 134, 163, 205, 208, 280, 232, 31, 347, 313, 163, 149, 69, 52, 249, 1, 214, 38, 334, 272, 247, 305, 32, 308, 48, 38, 12, 1, 208, 350, 342, 215, 166, 134, 137, 57, 17, 238, 15, 159, 202, 164, 1, 202, 285, 175, 351, 0, 132, 193, 229, 82, 129, 15, 225, 90, 69, 288, 304, 137, 178, 9, 168, 157, 282, 227, 181, 88, 348, 31, 258, 102, 285, 298, 149, 348, 334, 127, 100, 28, 127, 143, 28, 0, 270, 132, 24, 191, 135, 96, 263, 12, 218, 81, 106, 234, 182, 334, 220, 178, 58, 257, 214, 201, 170, 35, 88, 141, 173, 59, 220, 257, 17, 146, 1, 38, 152, 32, 285, 79, 132, 234, 4, 80, 348, 32, 178, 220, 311, 297, 127, 59, 32, 298, 135, 159, 208, 1, 205, 17, 159, 263, 208, 59, 207, 316, 28, 159, 282, 202, 1, 230, 228, 28, 48, 98, 227, 178, 146, 159, 25, 69, 151, 192, 220, 263, 265, 234, 331, 200, 282, 159, 159, 202, 178, 248, 348, 255, 229, 100, 132, 163, 202, 257, 28, 159, 203, 178, 229, 258, 234, 285, 100, 241, 282, 1, 32, 317, 159, 285, 163, 127, 229, 234, 164, 134, 123, 348, 239, 241, 297, 159, 245, 263, 223, 69, 90, 36, 313, 178, 276, 229, 126, 266, 149, 220, 304, 193, 294, 69, 207, 163, 15, 27, 220, 283, 324, 202, 2, 134, 32, 234, 249, 38, 95, 232, 132, 48, 239, 257, 77, 348, 197, 263, 263, 15, 291, 132, 32, 202, 48, 275, 334, 15, 234, 157, 134, 220, 167, 136, 229, 218, 285, 230, 236, 1, 32, 248, 174, 24, 38, 28, 234, 32, 234, 221, 159, 97, 240, 348, 195, 134, 158, 87, 309, 132, 159, 218, 310, 193, 289, 202, 220, 86, 1, 202, 273, 348, 48, 126, 208, 349, 48, 191, 60, 159, 325, 230, 1, 59, 123, 35, 238, 166, 14, 202, 48, 36, 85, 60, 277, 35, 28, 258, 202, 8, 175, 163, 208, 293, 221, 323, 348, 48, 288, 208, 159, 285, 203, 38, 88, 285, 100, 305, 159, 104, 338, 47, 134, 204, 38, 221, 163, 288, 148, 1, 38, 1, 208, 202, 75, 229, 18, 219, 208, 202, 69, 234, 289, 220, 188, 53, 208, 168, 222, 86, 98, 331, 101, 208, 239, 202, 157, 28, 203, 15, 285, 48, 15, 203, 291, 132, 157, 212, 152, 174, 161, 203, 277, 229, 64, 163, 259, 220, 134, 208, 349, 159, 298, 66, 28, 27, 296, 234, 15, 213, 242, 334, 18, 195, 1, 257, 325, 46, 250, 202, 285, 8, 256, 48, 278, 304, 69, 220, 235, 178, 158, 346, 137, 304, 348, 310, 220, 159, 32, 202, 28, 219, 76, 8, 24, 28, 32, 277, 222, 163, 132, 266, 157, 193, 132, 159, 118, 178, 38, 200, 174, 178, 159, 282, 290, 207, 24, 251, 69, 305, 74, 17, 285, 118, 282, 200, 202, 32, 32, 81, 47, 348, 334, 178, 208, 244, 146, 1, 285, 234, 239, 89, 32, 305, 229, 277, 134, 48, 272, 10, 334, 1, 1, 202, 257, 282, 257, 271, 76, 230, 208, 126, 263, 143, 257, 220, 302, 221, 137, 15, 285, 134, 48, 208, 285, 202, 297, 342, 132, 18, 159, 219, 304, 48, 197, 213, 297, 351, 208, 268, 286, 314, 334, 277, 348, 348, 285, 345, 220, 172, 15, 36, 64, 209, 253, 337, 345, 137, 159, 32, 201, 16, 134, 1, 293, 102, 220, 6, 285, 178, 1, 195, 96, 209, 302, 240, 197, 298, 18, 174, 223, 202, 208, 163, 215, 220, 162, 32, 258, 48, 310, 299, 223, 32, 245, 288, 263, 220, 229, 235, 306, 0, 32, 69, 133, 149, 32, 348, 137, 178, 219, 38, 157, 134, 212, 257, 118, 305, 32, 48, 20, 59, 288, 148, 137, 1, 85, 186, 260, 69, 347, 348, 202, 245, 203, 132, 238, 287, 16, 202, 32, 9, 38, 159, 215, 288, 310, 242, 324, 132, 200, 200, 1, 229, 69, 152, 132, 28, 59, 119, 215, 48, 48, 15, 166, 133, 134, 163, 88, 220, 272, 98, 28, 137, 159, 178, 208, 310, 277, 214, 232, 219, 263, 202, 32, 163, 198, 326, 227, 171, 331, 179, 304, 130, 328, 349, 132, 134, 298, 285, 213, 234, 76, 182, 339, 100, 70, 202, 348, 132, 234, 285, 134, 348, 320, 188, 234, 257, 144, 208, 99, 223, 4, 1, 178, 229, 48, 257, 285, 220, 193, 310, 230, 257, 0, 160, 349, 157, 132, 221, 120, 348, 351, 18, 282, 257, 214, 157, 32, 134, 202, 311, 218, 283, 67, 265, 257, 213, 157, 1, 15, 193, 229, 134, 48, 102, 12, 166, 215, 338, 0, 220, 163, 270, 35, 76, 349, 28, 141, 230, 173, 348, 1, 208, 288, 37, 159, 159, 183, 208, 28, 314, 259, 101, 132, 61, 118, 201, 163, 216, 28, 236, 32, 317, 101, 230, 188, 335, 132, 213, 348, 207, 183, 134, 225, 17, 197, 97, 157, 163, 48, 311, 208, 3, 166, 38, 263, 242, 54, 285, 220, 1, 18, 157, 159, 263, 6, 159, 339, 152, 35, 15, 17, 220, 348, 218, 262, 202, 229, 234, 198, 163, 23, 9, 266, 32, 238, 28, 202, 310, 234, 86, 208, 263, 163, 314, 32, 159, 348, 201, 206, 213, 238, 85, 247, 200, 28, 234, 241, 325, 288, 1, 163, 24, 305, 177, 170, 212, 202, 206, 46, 163, 229, 6, 132, 284, 82, 217, 39, 180, 345, 32, 137, 285, 50, 28, 320, 200, 218, 127, 180, 311, 340, 99, 285, 133, 281, 25, 218, 193, 238, 234, 28, 208, 159, 208, 59, 14, 285, 93, 288, 132, 229, 201, 86, 72, 348, 220, 200, 19, 200, 16, 333, 281, 4, 160, 86, 220, 189, 170, 285, 132, 159, 223, 304, 111, 298, 134, 19, 159, 162, 28, 32, 24, 221, 48, 234, 28, 14, 298, 212, 255, 137, 175, 236, 288, 208, 163, 327, 5, 149, 202, 210, 208, 16, 221, 97, 69, 204, 24, 168, 343, 25, 261, 93, 35, 257, 201, 32, 351, 154, 257, 28, 132, 297, 137, 14, 48, 133, 98, 288, 334, 281, 132, 178, 32, 178, 93, 284, 291, 208, 134, 229, 28, 279, 28, 83, 35, 342, 204, 310, 38, 69, 249, 77, 137, 208, 285, 225, 43, 132, 189, 351, 208, 132, 208, 47, 154, 254, 183, 225, 124, 0, 48, 127, 88, 28, 322, 279, 257, 155, 238, 331, 32, 15, 132, 202, 236, 159, 41, 46, 263, 180, 38, 257, 349, 1, 136, 32, 238, 26, 1, 137, 257, 238, 258, 288, 49, 193, 106, 348, 190, 144, 334, 340, 151, 234, 39, 32, 208, 240, 279, 127, 55, 229, 283, 28, 285, 153, 285, 1, 291, 32, 185, 132, 223, 174, 241, 204, 285, 255, 25, 285, 331, 229, 220, 48, 308, 34, 229, 69, 12, 334, 114, 1, 178, 89, 288, 206, 298, 220, 32, 263, 259, 208, 170, 232, 316, 1, 97, 59, 174, 229, 208, 178, 28, 22, 288, 263, 228, 202, 32, 327, 257, 348, 17, 82, 14, 239, 299, 38, 331, 174, 28, 21, 343, 178, 258, 184, 202, 247, 234, 220, 177, 17, 175, 32, 153, 85, 234, 28, 317, 48, 28, 146, 285, 288, 132, 28, 126, 260, 257, 340, 221, 263, 24, 251, 334, 37, 9, 285, 229, 204, 220, 1, 214, 163, 83, 205, 213, 257, 334, 225, 345, 234, 18, 134, 272, 170, 174, 193, 132, 305, 219, 331, 208, 285, 348, 163, 8, 48, 35, 211, 140, 18, 76, 219, 1, 28, 286, 272, 36, 48, 159, 24, 185, 134, 277, 220, 220, 270, 204, 48, 127, 28, 6, 263, 202, 91, 160, 48, 28, 208, 157, 230, 285, 303, 322, 333, 118, 234, 38, 351, 14, 277, 159, 322, 132, 107, 31, 257, 137, 132, 5, 75, 137, 203, 234, 110, 163, 207, 18, 281, 316, 225, 47, 137, 32, 28, 119, 15, 331, 109, 200, 21, 1, 32, 219, 108, 6, 97, 202, 202, 132, 28, 137, 44, 38, 48, 322, 134, 273, 170, 159, 285, 108, 17, 72, 48, 149, 155, 285, 168, 98, 28, 48, 134, 298, 178, 35, 348, 178, 202, 159, 345, 24, 157, 132, 220, 286, 32, 207, 307, 134, 201, 202, 195, 127, 6, 1, 35, 1, 236, 229, 218, 15, 264, 348, 263, 271, 48, 178, 170, 311, 134, 218, 32, 17, 193, 315, 160, 175, 203, 349, 177, 97, 212, 270, 168, 186, 250, 326, 200, 285, 25, 32, 156, 69, 207, 341, 349, 32, 229, 28, 48, 132, 132, 59, 220, 193, 321, 208, 24, 173, 214, 153, 134, 286, 88, 305, 239, 124, 221, 225, 174, 132, 285, 24, 38, 146, 38, 236, 209, 227, 38, 220, 91, 80, 100, 1, 304, 229, 132, 279, 85, 159, 208, 220, 28, 163, 262, 202, 24, 48, 149, 283, 132, 38, 126, 234, 208, 38, 285, 17, 257, 332, 220, 200, 166, 234, 93, 229, 245, 220, 48, 327, 132, 348, 288, 137, 111, 175, 224, 175, 288, 208, 343, 208, 1, 299, 202, 193, 287, 121, 166, 285, 345, 19, 38, 288, 214, 172, 282, 202, 245, 126, 177, 203, 160, 32, 69, 21, 184, 49, 341, 35, 202, 163, 76, 137, 201, 348, 260, 28, 163, 304, 208, 263, 219, 70, 1, 9, 348, 32, 157, 117, 236, 137, 220, 258, 281, 60, 23, 117, 348, 180, 331, 32, 229, 108, 215, 227, 131, 28, 163, 196, 317, 240, 1, 234, 178, 70, 208, 159, 347, 163, 231, 60, 227, 178, 160, 15, 223, 188, 28, 75, 317, 137, 154, 208, 195, 257, 32, 38, 1, 209, 17, 343, 308, 197, 230, 285, 343, 162, 125, 209, 159, 154, 32, 193, 234, 174, 163, 170, 229, 207, 159, 38, 183, 163, 173, 69, 220, 216, 234, 179, 342, 245, 15, 260, 9, 323, 208, 163, 137, 28, 48, 163, 242, 159, 263, 229, 163, 230, 87, 302, 98, 59, 329, 203, 258, 282, 340, 348, 38, 241, 190, 229, 159, 137, 28, 242, 72, 132, 9, 1, 48, 47, 215, 348, 125, 5, 282, 151, 348, 134, 17, 32, 271, 260, 1, 257, 186, 32, 98, 155, 27, 286, 124, 200, 187, 24, 115, 263, 241, 102, 204, 1, 132, 15, 160, 198, 96, 58, 208, 249, 200, 85, 127, 126, 48, 288, 282, 285, 204, 298, 132, 53, 224, 285, 171, 229, 304, 276, 219, 163, 348, 154, 152, 263, 32, 289, 281, 297, 234, 305, 178, 108, 48, 180, 38, 333, 39, 137, 137, 208, 108, 234, 16, 234, 208, 208, 48, 279, 194, 208, 305, 75, 327, 59, 254, 15, 64, 1, 225, 175, 229, 177, 1, 220, 247, 348, 213, 249, 118, 351, 263, 159, 175, 15, 18, 16, 302, 28, 159, 98, 28, 266, 4, 348, 229, 1, 263, 322, 191, 202, 298, 329, 34, 288, 305, 310, 208, 180, 229, 248, 38, 208, 28, 14, 288, 76, 208, 97, 69, 137, 219, 164, 234, 220, 240, 188, 263, 270, 163, 160, 257, 28, 342, 220, 229, 159, 202, 271, 134, 132, 159, 204, 304, 229, 32, 100, 163, 280, 234, 132, 48, 208, 310, 334, 257, 263, 196, 166, 134, 244, 229, 170, 6, 37, 32, 132, 127, 24, 38, 119, 3, 32, 247, 219, 348, 262, 268, 159, 180, 32, 285, 219, 216, 203, 220, 159, 98, 337, 244, 272, 304, 32, 38, 87, 323, 264, 202, 253, 58, 311, 89, 311, 348, 238, 28, 32, 178, 1, 28, 242, 48, 220, 202, 160, 82, 46, 2, 134, 234, 340, 132, 28, 17, 134, 1, 19, 296, 82, 146, 28, 132, 110, 310, 137, 178, 18, 257, 1, 32, 208, 194, 298, 126, 1, 28, 132, 230, 24, 48, 77, 347, 15, 291, 28, 298, 132, 181, 162, 164, 119, 281, 132, 23, 241, 60, 238, 151, 206, 280, 229, 187, 285, 305, 331, 297, 270, 145, 142, 229, 241, 343, 229, 48, 348, 297, 3, 261, 177, 176, 208, 208, 127, 36, 214, 220, 16, 348, 76, 234, 15, 132, 298, 202, 126, 182, 261, 21, 178, 344, 132, 177, 241, 174, 156, 24, 208, 329, 285, 181, 163, 159, 15, 245, 132, 59, 332, 28, 38, 159, 234, 285, 230, 252, 32, 101, 348, 174, 181, 215, 208, 16, 77, 350, 152, 266, 132, 123, 349, 188, 78, 335, 48, 105, 266, 285, 191, 120, 79, 172, 255, 202, 180, 327, 137, 60, 114, 343, 17, 26, 257, 270, 229, 137, 198, 234, 267, 213, 32, 343, 297, 159, 159, 19, 137, 294, 253, 32, 293, 224, 257, 48, 38, 208, 62, 220, 179, 215, 38, 319, 85, 229, 342, 285, 137, 1, 215, 208, 137, 334, 178, 14, 174, 342, 263, 134, 34, 14, 28, 81, 132, 193, 208, 201, 202, 48, 257, 229, 63, 220, 285, 1, 27, 159, 282, 350, 134, 34, 107, 123, 134, 313, 314, 215, 115, 230, 270, 211, 15, 318, 174, 230, 308, 285, 56, 318, 79, 134, 218, 19, 1, 159, 275, 137, 208, 18, 310, 178, 1, 285, 263, 1, 285, 156, 324, 223, 88, 141, 263, 132, 332, 182, 229, 159, 202, 48, 208, 291, 211, 1, 17, 1, 163, 117, 159, 208, 326, 71, 242, 220, 99, 155, 159, 48, 346, 28, 349, 14, 215, 200, 242, 252, 32, 273, 271, 136, 202, 28, 5, 229, 288, 245, 1, 257, 227, 200, 224, 189, 162, 38, 119, 35, 9, 238, 279, 138, 32, 53, 329, 215, 157, 184, 288, 70, 48, 1, 32, 32, 220, 351, 17, 132, 343, 32, 219, 285, 348, 48, 297, 146, 245, 218, 134, 208, 263, 17, 203, 331, 163, 208, 1, 208, 208, 231, 227, 205, 349, 32, 221, 38, 76, 99, 186, 3, 351, 230, 38, 257, 197, 278, 48, 288, 296, 18, 201, 197, 304, 196, 284, 229, 234, 317, 119, 73, 191, 208, 134, 197, 348, 224, 32, 78, 218, 207, 280, 295, 1, 38, 348, 126, 202, 149, 48, 41, 345, 32, 329, 26, 58, 1, 263, 229, 297, 132, 61, 1, 219, 298, 58, 225, 270, 98, 304, 110, 291, 343, 18, 157, 174, 58, 193, 331, 137, 345, 24, 98, 115, 291, 263, 178, 119, 241, 345, 163, 294, 98, 17, 215, 188, 132, 133, 86, 340, 159, 208, 48, 22, 38, 32, 98, 289, 220, 216, 323, 346, 28, 21, 207, 136, 149, 294, 32, 159, 68, 28, 9, 285, 288, 134, 292, 137, 9, 1, 208, 181, 163, 132, 32, 208, 28, 1, 314, 32, 48, 159, 220, 257, 126, 288, 32, 32, 234, 193, 263, 200, 179, 257, 229, 15, 38, 348, 316, 298, 323, 202, 239, 296, 285, 217, 304, 271, 336, 334, 245, 48, 175, 221, 156, 48, 220, 98, 208, 178, 188, 207, 163, 285, 179, 132, 288, 189, 22, 298, 281, 163, 263, 69, 32, 68, 285, 9, 177, 217, 281, 196, 1, 208, 257, 5, 72, 220, 221, 234, 80, 163, 175, 191, 28, 297, 88, 220, 253, 1, 187, 282, 310, 202, 285, 289, 72, 234, 190, 207, 6, 154, 229, 159, 351, 134, 32, 266, 263, 203, 52, 48, 220, 208, 119, 174, 263, 234, 122, 298, 1, 28, 32, 1, 179, 153, 195, 111, 220, 241, 196, 82, 203, 234, 44, 220, 126, 288, 344, 220, 200, 159, 241, 295, 263, 325, 32, 234, 38, 99, 259, 178, 180, 268, 275, 15, 345, 163, 296, 38, 310, 298, 28, 304, 15, 263, 207, 293, 238, 160, 234, 257, 218, 228, 127, 285, 345, 38, 28, 159, 92, 52, 263, 277, 314, 207, 134, 163, 18, 253, 288, 225, 88, 222, 288, 146, 294, 348, 220, 221, 1, 236, 147, 266, 28, 1, 288, 38, 137, 171, 1, 193, 261, 234, 208, 228, 134, 207, 32, 18, 176, 263, 263, 226, 48, 220, 234, 349, 349, 169, 208, 214, 36, 263, 298, 281, 97, 134, 257, 345, 288, 204, 343, 208, 342, 48, 15, 15, 285, 132, 95, 202, 344, 119, 202, 16, 285, 288, 193, 277, 22, 93, 103, 229, 15, 285, 220, 334, 348, 191, 231, 11, 197, 349, 9, 35, 146, 251, 18, 229, 159, 288, 159, 15, 225, 123, 28, 220, 44, 250, 230, 61, 331, 48, 342, 219, 74, 351, 297, 257, 250, 69, 337, 208, 160, 274, 160, 207, 348, 304, 288, 305, 134, 197, 28, 166, 76, 76, 7, 99, 86, 290, 288, 182, 257, 28, 266, 28, 345, 28, 285, 343, 215, 288, 109, 196, 257, 230, 346, 87, 119, 208, 276, 348, 310, 163, 208, 143, 163, 146, 234, 200, 224, 234, 351, 234, 220, 234, 14, 215, 211, 202, 220, 178, 258, 16, 78, 302, 67, 208, 98, 241, 32, 254, 38, 229, 341, 38, 53, 348, 32, 230, 263, 178, 193, 282, 234, 177, 60, 189, 184, 223, 59, 332, 76, 143, 212, 257, 229, 125, 285, 188, 282, 47, 313, 277, 257, 38, 35, 220, 180, 350, 141, 253, 178, 285, 132, 179, 126, 159, 208, 269, 216, 242, 244, 296, 127, 160, 173, 305, 302, 263, 300, 202, 44, 178, 239, 220, 174, 62, 132, 350, 32, 266, 18, 18, 263, 234, 1, 204, 343, 282, 298, 213, 348, 137, 178, 288, 296, 175, 48, 48, 85, 185, 201, 327, 1, 220, 348, 65, 263, 159, 99, 266, 225, 161, 209, 15, 115, 28, 137, 113, 230, 156, 1, 263, 28, 288, 137, 278, 220, 218, 220, 85, 32, 271, 175, 322, 159, 288, 54, 197, 284, 263, 225, 162, 257, 208, 1, 326, 228, 258, 132, 99, 279, 220, 268, 260, 32, 292, 61, 48, 83, 84, 212, 100, 202, 208, 163, 257, 93, 268, 202, 222, 120, 234, 180, 202, 316, 32, 82, 229, 88, 48, 348, 348, 218, 88, 170, 24, 53, 291, 245, 215, 220, 284, 132, 163, 152, 200, 98, 143, 178, 288, 1, 28, 159, 48, 220, 348, 24, 134, 137, 270, 28, 1, 48, 229, 334, 314, 208, 6, 132, 350, 247, 273, 279, 132, 170, 314, 254, 325, 199, 238, 263, 288, 202, 48, 288, 208, 164, 38, 208, 137, 174, 89, 69, 32, 285, 76, 137, 208, 202, 316, 254, 59, 85, 202, 348, 115, 146, 263, 28, 171, 44, 178, 229, 146, 163, 137, 304, 234, 146, 1, 220, 232, 329, 285, 281, 159, 348, 1, 200, 255, 141, 137, 48, 132, 331, 281, 346, 157, 24, 134, 143, 281, 175, 156, 32, 331, 230, 243, 35, 247, 159, 202, 252, 214, 201, 208, 218, 285, 160, 1, 28, 124, 263, 229, 208, 263, 202, 200, 163, 32, 238, 48, 163, 132, 208, 322, 220, 298, 46, 126, 348, 269, 285, 12, 202, 214, 208, 219, 1, 192, 137, 38, 285, 157, 253, 48, 347, 35, 351, 132, 344, 173, 140, 202, 227, 133, 188, 180, 233, 263, 234, 78, 234, 163, 252, 159, 202, 137, 163, 157, 229, 178, 132, 205, 344, 74, 233, 242, 134, 263, 229, 208, 21, 202, 158, 142, 236, 234, 119, 132, 239, 132, 228, 43, 1, 48, 285, 246, 49, 263, 348, 44, 210, 221, 239, 330, 97, 5, 142, 59, 201, 132, 119, 305, 132, 126, 297, 234, 157, 220, 333, 156, 328, 193, 73, 82, 208, 159, 252, 120, 57, 263, 212, 170, 48, 343, 182, 36, 214, 134, 71, 65, 166, 132, 317, 1, 281, 263, 219, 32, 209, 17, 202, 1, 38, 178, 216, 69, 163, 17, 285, 203, 137, 263, 166, 215, 59, 32, 53, 32, 24, 191, 267, 35, 288, 178, 285, 97, 202, 329, 103, 32, 32, 350, 254, 288, 125, 285, 132, 251, 220, 59, 351, 31, 74, 177, 230, 202, 277, 257, 184, 32, 134, 48, 178, 146, 345, 292, 227, 163, 32, 82, 98, 48, 159, 44, 296, 304, 298, 220, 35, 213, 203, 149, 184, 230, 282, 257, 163, 175, 285, 239, 86, 19, 197, 32, 153, 298, 157, 208, 319, 88, 241, 18, 203, 132, 202, 137, 257, 213, 218, 87, 121, 149, 327, 263, 59, 103, 258, 285, 118, 313, 38, 21, 263, 53, 200, 263, 178, 227, 279, 279, 46, 286, 298, 223, 134, 163, 208, 348, 175, 207, 38, 80, 110, 143, 38, 159, 49, 28, 68, 232, 164, 21, 209, 154, 1, 57, 234, 231, 345, 208, 190, 1, 88, 181, 35, 36, 178, 38, 234, 137, 38, 15, 334, 339, 224, 35, 285, 17, 73, 288, 249, 348, 97, 38, 202, 96, 257, 316, 347, 241, 221, 209, 348, 236, 174, 257, 208, 159, 132, 263, 43, 166, 257, 11, 0, 15, 204, 163, 285, 132, 101, 175, 240, 1, 304, 238, 213, 168, 288, 134, 132, 245, 320, 213, 32, 178, 78, 146, 348, 209, 334, 58, 17, 343, 87, 28, 76, 152, 268, 48, 1, 79, 284, 1, 337, 180, 304, 100, 283, 220, 234, 132, 177, 289, 231, 97, 288, 344, 1, 219, 208, 209, 202, 103, 298, 1, 341, 118, 18, 45, 285, 316, 304, 208, 32, 0, 125, 334, 310, 200, 146, 218, 285, 312, 202, 320, 256, 316, 210, 295, 227, 238, 200, 220, 188, 24, 178, 246, 208, 338, 348, 229, 14, 134, 178, 33, 108, 208, 145, 220, 50, 32, 273, 288, 28, 309, 263, 32, 134, 0, 132, 38, 307, 93, 264, 229, 334, 163, 208, 149, 229, 35, 170, 234, 285, 11, 234, 59, 137, 28, 38, 193, 32, 15, 28, 1, 134, 194, 54, 266, 0, 189, 215, 174, 134, 80, 349, 175, 263, 166, 218, 310, 289, 32, 28, 38, 242, 229, 229, 215, 348, 304, 282, 76, 196, 218, 213, 1, 73, 234, 236, 114, 201, 308, 100, 282, 340, 207, 300, 227, 258, 170, 234, 159, 98, 162, 297, 229, 285, 80, 241, 221, 134, 178, 304, 178, 208, 227, 79, 334, 17, 48, 11, 32, 19, 114, 233, 145, 137, 203, 275, 257, 48, 160, 247, 159, 285, 132, 0, 285, 181, 201, 297, 1, 287, 98, 263, 14, 41, 245, 342, 1, 53, 207, 168, 272, 74, 48, 32, 146, 134, 234, 59, 109, 137, 200, 257, 38, 103, 333, 263, 64, 285, 1, 221, 324, 146, 257, 284, 304, 18, 159, 288, 263, 287, 132, 230, 132, 313, 38, 24, 197, 174, 98, 288, 285, 220, 52, 15, 280, 178, 178, 179, 296, 28, 228, 230, 207, 38, 134, 220, 15, 282, 263, 32, 189, 275, 345, 261, 331, 220, 263, 83, 230, 349, 196, 234, 132, 48, 208, 269, 160, 201, 200, 288, 119, 285, 69, 96, 331, 220, 163, 226, 208, 262, 213, 272, 334, 220, 159, 48, 288, 349, 315, 288, 168, 234, 297, 28, 178, 1, 9, 122, 220, 282, 234, 202, 32, 202, 343, 263, 135, 134, 137, 313, 21, 82, 335, 257, 190, 220, 208, 102, 137, 163, 200, 220, 88, 170, 76, 201, 205, 190, 132, 279, 223, 69, 348, 178, 303, 48, 28, 284, 146, 154, 44, 197, 263, 281, 37, 134, 97, 186, 163, 236, 53, 22, 197, 149, 19, 149, 163, 76, 229, 79, 163, 108, 1, 132, 264, 246, 249, 178, 234, 32, 1, 229, 202, 137, 229, 207, 334, 262, 90, 178, 193, 1, 257, 201, 157, 48, 230, 82, 349, 28, 202, 285, 132, 348, 351, 159, 207, 38, 285, 32, 242, 251, 53, 213, 134, 178, 217, 208, 208, 334, 98, 215, 159, 159, 140, 203, 263, 299, 203, 257, 170, 321, 257, 229, 221, 317, 204, 69, 32, 208, 69, 159, 220, 101, 257, 48, 38, 228, 1, 349, 337, 263, 163, 266, 14, 93, 236, 1, 160, 202, 236, 310, 41, 220, 312, 302, 234, 59, 229, 176, 273, 219, 149, 285, 132, 24, 32, 221, 266, 159, 15, 197, 178, 223, 108, 227, 202, 348, 288, 209, 287, 193, 32, 213, 248, 1, 257, 44, 202, 279, 229, 38, 137, 253, 245, 15, 15, 28, 17, 134, 1, 263, 28, 333, 149, 15, 266, 86, 296, 88, 288, 202, 48, 285, 42, 220, 174, 215, 134, 329, 184, 157, 285, 163, 193, 48, 333, 137, 234, 264, 263, 348, 220, 163, 1, 38, 203, 252, 223, 200, 229, 127, 293, 261, 137, 333, 26, 300, 163, 216, 1, 134, 170, 48, 284, 226, 215, 193, 60, 343, 134, 219, 152, 348, 140, 151, 212, 32, 200, 202, 270, 182, 351, 108, 295, 159, 149, 134, 0, 205, 285, 149, 257, 32, 28, 345, 208, 38, 28, 1, 108, 322, 263, 189, 82, 304, 32, 70, 184, 196, 159, 304, 104, 296, 3, 244, 263, 38, 154, 32, 31, 204, 132, 134, 137, 208, 19, 208, 263, 229, 205, 229, 204, 257, 310, 263, 263, 18, 323, 202, 30, 292, 279, 229, 146, 17, 93, 202, 282, 6, 32, 220, 329, 209, 38, 258, 134, 15, 108, 69, 48, 225, 155, 306, 283, 215, 229, 207, 234, 241, 159, 137, 305, 98, 134, 212, 209, 27, 289, 222, 271, 126, 348, 184, 126, 79, 234, 82, 1, 66, 225, 285, 329, 145, 159, 38, 220, 38, 80, 288, 157, 263, 15, 69, 263, 348, 341, 1, 182, 263, 263, 298, 32, 77, 244, 280, 156, 6, 132, 230, 257, 193, 289, 137, 6, 261, 99, 134, 28, 14, 279, 163, 98, 72, 159, 86, 214, 241, 166, 28, 32, 32, 263, 9, 220, 285, 118, 48, 241, 102, 45, 57, 9, 348, 203, 159, 263, 225, 285, 202, 18, 1, 132, 236, 159, 32, 149, 245, 236, 69, 234, 38, 9, 213, 105, 174, 244, 201, 229, 88, 213, 132, 151, 287, 38, 174, 119, 163, 212, 285, 48, 258, 159, 156, 163, 62, 48, 178, 218, 329, 285, 234, 99, 50, 163, 285, 288, 208, 5, 350, 22, 296, 8, 168, 22, 311, 134, 59, 212, 219, 149, 28, 45, 351, 11, 15, 174, 166, 285, 351, 127, 69, 28, 163, 208, 315, 323, 266, 262, 38, 279, 334, 86, 115, 32, 15, 263, 24, 272, 97, 270, 178, 132, 76, 1, 208, 229, 99, 327, 14, 127, 185, 323, 285, 87, 178, 32, 202, 106, 137, 202, 220, 267, 24, 159, 35, 207, 149, 163, 132, 257, 229, 285, 351, 112, 146, 38, 288, 24, 257, 78, 285, 159, 298, 134, 34, 163, 178, 220, 163, 205, 41, 15, 263, 14, 230, 193, 5, 41, 215, 229, 205, 159, 202, 205, 163, 149, 277, 0, 220, 69, 277, 297, 37, 229, 262, 227, 288, 38, 277, 99, 229, 32, 270, 23, 266, 23, 177, 76, 334, 134, 348, 3, 61, 32, 288, 71, 220, 263, 1, 218, 257, 184, 202, 263, 174, 108, 199, 163, 32, 51, 85, 4, 38, 331, 32, 137, 38, 238, 1, 260, 48, 270, 5, 258, 285, 152, 38, 55, 159, 1, 132, 284, 15, 32, 218, 146, 249, 202, 164, 38, 27, 209, 128, 1, 207, 163, 132, 132, 32, 178, 288, 233, 220, 31, 208, 35, 32, 220, 257, 132, 158, 172, 79, 183, 5, 263, 208, 248, 335, 1, 216, 220, 16, 135, 229, 177, 202, 46, 285, 304, 48, 0, 234, 76, 263, 132, 267, 1, 210, 227, 35, 244, 285, 227, 119, 285, 101, 32, 320, 257, 28, 174, 17, 304, 18, 98, 141, 33, 220, 208, 1, 146, 98, 285, 218, 311, 182, 234, 188, 284, 101, 272, 285, 132, 218, 229, 1, 202, 327, 282, 191, 159, 137, 28, 262, 1, 227, 281, 220, 124, 149, 1, 263, 1, 18, 245, 236, 281, 59, 134, 103, 220, 208, 28, 166, 137, 134, 348, 285, 1, 209, 204, 289, 348, 280, 265, 159, 185, 103, 163, 314, 207, 257, 17, 202, 32, 220, 201, 159, 330, 214, 47, 6, 146, 257, 48, 6, 88, 151, 15, 220, 32, 263, 80, 204, 314, 48, 204, 38, 178, 15, 170, 239, 263, 227, 1, 201, 52, 160, 288, 225, 160, 288, 347, 79, 288, 58, 271, 220, 273, 234, 285, 234, 36, 201, 32, 279, 257, 273, 119, 163, 38, 1, 15, 208, 348, 203, 134, 220, 15, 98, 288, 234, 42, 38, 180, 45, 285, 81, 48, 43, 210, 1, 208, 220, 236, 48, 181, 60, 192, 15, 302, 288, 189, 208, 229, 32, 48, 204, 214, 167, 298, 202, 220, 15, 157, 181, 177, 156, 343, 229, 191, 218, 70, 238, 242, 125, 247, 298, 285, 200, 100, 32, 239, 102, 285, 27, 245, 89, 281, 156, 59, 28, 202, 230, 32, 245, 220, 40, 258, 61, 8, 132, 38, 178, 38, 348, 202, 9, 76, 59, 204, 282, 296, 271, 234, 159, 216, 132, 32, 208, 32, 220, 210, 220, 263, 54, 119, 23, 310, 132, 140, 202, 307, 285, 334, 298, 200, 201, 213, 193, 348, 185, 195, 208, 28, 316, 84, 202, 208, 348, 257, 1, 72, 213, 345, 68, 94, 118, 244, 351, 273, 229, 259, 348, 284, 48, 295, 348, 272, 263, 244, 116, 30, 15, 350, 76, 14, 6, 134, 38, 285, 178, 146, 257, 220, 348, 208, 9, 97, 32, 287, 96, 312, 214, 159, 83, 255, 208, 134, 97, 262, 241, 132, 208, 48, 149, 0, 38, 214, 337, 327, 229, 331, 285, 288, 208, 259, 64, 65, 202, 202, 32, 208, 28, 115, 163, 279, 273, 227, 1, 153, 298, 347, 234, 209, 229, 287, 225, 48, 132, 215, 203, 248, 32, 178, 263, 9, 174, 32, 240, 18, 48, 208, 320, 28, 213, 53, 208, 69, 291, 223, 76, 209, 348, 343, 263, 254, 28, 200, 289, 229, 318, 314, 28, 311, 207, 202, 12, 201, 285, 99, 261, 47, 137, 38, 257, 273, 297, 178, 231, 28, 50, 239, 294, 174, 15, 241, 257, 137, 159, 106, 105, 220, 224, 257, 180, 288, 215, 234, 325, 82, 159, 69, 227, 76, 79, 198, 28, 32, 44, 288, 213, 281, 164, 231, 141, 300, 137, 177, 48, 178, 149, 260, 334, 159, 45, 220, 134, 174, 314, 202, 331, 132, 202, 5, 292, 32, 32, 132, 314, 26, 176, 263, 208, 48, 331, 220, 281, 212, 220, 159, 174, 253, 170, 94, 24, 1, 159, 229, 15, 201, 1, 159, 256, 77, 334, 193, 229, 257, 48, 220, 38, 203, 350, 213, 180, 334, 183, 232, 28, 96, 342, 202, 351, 336, 202, 269, 209, 317, 343, 295, 209, 133, 132, 16, 275, 285, 263, 200, 234, 208, 18, 32, 132, 159, 196, 86, 160, 159, 257, 178, 48, 208, 134, 285, 305, 132, 163, 188, 345, 229, 297, 14, 38, 108, 229, 193, 28, 180, 202, 232, 234, 216, 186, 38, 285, 159, 197, 348, 285, 48, 202, 203, 263, 342, 298, 202, 55, 242, 229, 345, 61, 287, 193, 1, 32, 310, 292, 178, 263, 220, 297, 351, 8, 273, 220, 48, 38, 285, 313, 220, 101, 15, 132, 48, 38, 132, 214, 48, 221, 191, 3, 141, 178, 316, 11, 220, 5, 122, 46, 323, 202, 125, 178, 214, 77, 288, 143, 170, 127, 345, 257, 38, 208, 1, 267, 208, 0, 198, 310, 288, 343, 170, 59, 28, 159, 234, 192, 18, 272, 207, 32, 28, 38, 348, 297, 5, 199, 262, 48, 202, 335, 59, 351, 149, 339, 281, 213, 346, 177, 304, 85, 134, 100, 82, 38, 285, 129, 38, 119, 178, 146, 268, 178, 202, 263, 348, 100, 15, 267, 253, 63, 296, 98, 66, 123, 38, 14, 48, 305, 6, 32, 35, 71, 207, 53, 0, 48, 198, 180, 208, 48, 100, 220, 292, 15, 349, 161, 32, 208, 38, 33, 311, 322, 208, 134, 208, 137, 263, 201, 118, 348, 28, 159, 159, 336, 137, 348, 304, 334, 123, 177, 27, 334, 138, 220, 38, 28, 178, 285, 331, 234, 28, 277, 48, 208, 254, 269, 44, 137, 257, 204, 198, 346, 96, 210, 297, 4, 53, 229, 28, 282, 262, 1, 41, 60, 1, 162, 273, 9, 345, 129, 6, 257, 32, 348, 160, 76, 132, 48, 257, 250, 220, 249, 188, 327, 163, 32, 257, 18, 344, 220, 1, 208, 229, 132, 89, 220, 152, 310, 220, 197, 243, 156, 132, 244, 163, 285, 123, 348, 15, 58, 88, 180, 272, 28, 149, 334, 220, 282, 32, 118, 310, 220, 149, 6, 197, 218, 281, 233, 258, 284, 32, 163, 28, 249, 132, 247, 257, 134, 15, 334, 208, 203, 331, 288, 345, 15, 241, 160, 346, 230, 96, 48, 316, 72, 1, 291, 163, 338, 132, 149, 48, 208, 288, 174, 288, 159, 132, 38, 327, 288, 200, 41, 285, 170, 159, 286, 134, 229, 208, 214, 208, 185, 222, 288, 343, 249, 18, 157, 137, 127, 208, 261, 309, 174, 305, 213, 163, 285, 159, 149, 107, 19, 107, 14, 28, 230, 229, 280, 220, 234, 340, 215, 345, 239, 137, 32, 97, 127, 132, 92, 148, 32, 134, 202, 168, 334, 214, 234, 327, 285, 48, 5, 6, 216, 279, 177, 48, 179, 17, 32, 102, 285, 285, 134, 220, 315, 132, 15, 43, 306, 182, 32, 46, 202, 248, 48, 175, 82, 118, 298, 263, 141, 48, 17, 245, 48, 348, 348, 132, 190, 234, 343, 137, 0, 230, 32, 207, 325, 277, 234, 348, 263, 45, 157, 182, 87, 156, 27, 38, 245, 124, 221, 290, 207, 347, 267, 3, 342, 1, 71, 183, 110, 334, 255, 58, 348, 266, 263, 285, 1, 166, 220, 208, 227, 1, 99, 314, 15, 53, 202, 153, 343, 32, 254, 269, 17, 178, 174, 55, 80, 215, 132, 227, 208, 208, 257, 348, 48, 159, 263, 239, 32, 209, 159, 178, 208, 86, 203, 202, 238, 214, 17, 156, 213, 35, 227, 132, 213, 298, 46, 82, 202, 1, 208, 126, 126, 180, 208, 178, 348, 81, 348, 79, 220, 137, 209, 257, 172, 263, 298, 134, 349, 234, 149, 335, 176, 263, 195, 160, 304, 1, 262, 285, 341, 48, 146, 220, 207, 215, 255, 1, 53, 1, 127, 69, 135, 163, 68, 132, 1, 202, 24, 134, 257, 173, 1, 1, 257, 349, 137, 15, 226, 202, 220, 207, 334, 234, 175, 202, 132, 18, 343, 315, 241, 180, 348, 1, 187, 66, 202, 32, 275, 132, 32, 88, 327, 137, 220, 234, 229, 26, 209, 213, 132, 230, 197, 345, 159, 28, 188, 247, 28, 171, 93, 35, 132, 48, 194, 32, 230, 216, 202, 263, 193, 86, 32, 56, 32, 137, 343, 198, 137, 322, 310, 137, 163, 147, 139, 148, 202, 239, 172, 300, 229, 127, 244, 152, 266, 257, 288, 38, 263, 230, 64, 350, 273, 48, 137, 180, 101, 14, 265, 15, 146, 81, 203, 279, 163, 180, 334, 229, 38, 229, 132, 202, 221, 147, 346, 193, 331, 206, 275, 53, 132, 202, 215, 15, 244, 149, 345, 134, 157, 15, 132, 234, 236, 333, 291, 132, 159, 280, 348, 208, 12, 234, 15, 253, 124, 48, 348, 28, 247, 308, 212, 257, 12, 28, 348, 263, 28, 14, 163, 349, 137, 322, 28, 229, 202, 101, 257, 37, 230, 48, 277, 285, 220, 257, 9, 344, 208, 306, 243, 113, 134, 137, 15, 28, 348, 163, 227, 284, 48, 17, 305, 213, 15, 1, 177, 206, 209, 335, 26, 15, 345, 178, 32, 229, 229, 9, 257, 137, 178, 229, 163, 114, 202, 225, 273, 27, 159, 55, 149, 82, 219, 324, 285, 285, 220, 279, 15, 177, 241, 169, 137, 32, 70, 235, 132, 218, 244, 297, 285, 237, 259, 28, 288, 28, 208, 132, 32, 304, 125, 208, 214, 351, 189, 202, 348, 208, 332, 163, 132, 348, 200, 298, 324, 351, 174, 203, 1, 162, 334, 348, 297, 220, 200, 167, 158, 35, 349, 132, 32, 285, 38, 241, 304, 64, 262, 190, 200, 48, 282, 32, 32, 300, 343, 62, 159, 304, 178, 134, 159, 180, 213, 196, 1, 1, 177, 285, 234, 296, 37, 18, 14, 0, 32, 149, 163, 234, 334, 193, 303, 344, 173, 208, 72, 32, 38, 44, 14, 69, 60, 134, 345, 18, 159, 202, 80, 134, 304, 42, 208, 99, 136, 347, 6, 1, 163, 11, 174, 132, 220, 218, 53, 234, 146, 204, 98, 100, 288, 220, 337, 180, 32, 178, 159, 132, 32, 137, 100, 103, 263, 155, 208, 219, 229, 343, 1, 208, 134, 15, 85, 32, 204, 163, 348, 137, 146, 257, 214, 132, 134, 28, 134, 32, 193, 218, 32, 134, 137, 88, 77, 223, 58, 100, 263, 282, 76, 297, 314, 176, 294, 212, 220, 220, 242, 95, 202, 175, 163, 307, 276, 254, 48, 242, 132, 15, 184, 163, 280, 38, 163, 287, 229, 38, 14, 212, 214, 1, 272, 174, 210, 257, 137, 178, 98, 32, 97, 185, 277, 134, 209, 137, 28, 13, 348, 17, 83, 209, 170, 154, 234, 163, 272, 163, 181, 261, 132, 252, 59, 115, 285, 8, 334, 86, 62, 17, 38, 184, 44, 234, 158, 18, 183, 38, 227, 174, 285, 245, 279, 304, 209, 89, 163, 178, 38, 15, 180, 97, 176, 298, 48, 213, 163, 174, 275, 234, 146, 208, 229, 193, 163, 149, 38, 245, 159, 159, 285, 348, 178, 220, 229, 343, 60, 28, 234, 312, 329, 263, 38, 263, 263, 229, 163, 159, 202, 28, 202, 325, 288, 297, 188, 208, 208, 334, 99, 208, 304, 193, 254, 32, 87, 334, 332, 34, 32, 255, 98, 351, 343, 1, 225, 310, 18, 134, 297, 241, 322, 220, 115, 208, 48, 220, 234, 285, 218, 257, 32, 220, 191, 170, 208, 28, 32, 241, 149, 134, 46, 15, 263, 170, 10, 14, 184, 193, 298, 18, 318, 18, 193, 254, 213, 267, 178, 1, 290, 213, 154, 190, 22, 163, 15, 134, 83, 196, 1, 288, 208, 190, 285, 285, 21, 178, 219, 202, 32, 59, 288, 343, 146, 285, 221, 98, 153, 146, 340, 132, 1, 143, 134, 229, 1, 127, 159, 88, 98, 167, 220, 154, 85, 48, 115, 258, 325, 134, 97, 159, 15, 287, 81, 48, 178, 285, 151, 279, 134, 258, 214, 285, 217, 137, 220, 220, 193, 76, 15, 48, 134, 313, 245, 239, 88, 72, 227, 312, 204, 198, 285, 208, 82, 227, 348, 163, 1, 216, 208, 6, 12, 99, 126, 20, 134, 313, 201, 6, 146, 310, 204, 221, 68, 244, 213, 208, 134, 304, 6, 98, 149, 48, 266, 208, 82, 197, 48, 32, 28, 152, 149, 24, 1, 159, 69, 203, 221, 208, 227, 182, 1, 51, 285, 127, 269, 28, 231, 27, 174, 208, 28, 18, 257, 336, 229, 24, 32, 69, 248, 9, 348, 48, 36, 244, 48, 219, 278, 285, 292, 202, 175, 37, 126, 263, 208, 64, 288, 27, 263, 101, 208, 212, 288, 298, 132, 208, 127, 15, 28, 231, 160, 41, 15, 288, 132, 323, 163, 229, 209, 28, 312, 343, 163, 291, 28, 229, 199, 208, 349, 262, 163, 208, 108, 233, 104, 197, 97, 298, 177, 13, 178, 227, 28, 32, 203, 267, 27, 288, 59, 33, 208, 92, 285, 189, 28, 232, 302, 1, 213, 288, 305, 28, 18, 208, 27, 163, 163, 286, 172, 226, 227, 159, 220, 1, 273, 127, 42, 132, 32, 289, 348, 285, 146, 93, 32, 159, 48, 191, 21, 12, 314, 285, 305, 15, 208, 344, 17, 125, 280, 269, 285, 209, 159, 229, 266, 215, 59, 262, 156, 248, 134, 133, 350, 218, 48, 220, 285, 236, 62, 234, 257, 269, 124, 208, 132, 223, 245, 28, 246, 132, 32, 188, 88, 42, 101, 234, 69, 132, 61, 19, 289, 48, 150, 1, 78, 281, 1, 193, 48, 234, 345, 289, 137, 261, 18, 299, 104, 137, 229, 325, 127, 221, 351, 230, 180, 196, 15, 48, 263, 198, 132, 245, 176, 234, 202, 342, 202, 132, 285, 38, 32, 22, 220, 17, 32, 273, 257, 177, 327, 307, 24, 204, 202, 208, 298, 38, 296, 163, 197, 149, 86, 348, 202, 28, 334, 124, 132, 219, 223, 164, 173, 261, 229, 234, 132, 159, 37, 182, 163, 298, 301, 220, 15, 296, 64, 215, 140, 327, 24, 137, 68, 14, 161, 61, 17, 68, 334, 18, 298, 38, 208, 38, 14, 230, 334, 273, 59, 24, 338, 146, 163, 98, 207, 48, 93, 229, 32, 163, 85, 100, 284, 160, 285, 225, 214, 343, 146, 127, 38, 257, 146, 334, 348, 17, 48, 229, 48, 331, 334, 5, 55, 160, 197, 314, 1, 48, 38, 314, 131, 340, 208, 191, 220, 234, 80, 156, 220, 202, 1, 97, 17, 38, 348, 205, 28, 208, 234, 257, 222, 257, 145, 22, 69, 48, 38, 328, 295, 98, 193, 148, 348, 208, 245, 132, 191, 1, 101, 229, 292, 38, 263, 296, 49, 285, 132, 266, 144, 207, 202, 234, 297, 134, 300, 348, 199, 267, 15, 136, 159, 266, 86, 232, 154, 163, 3, 219, 98, 220, 38, 181, 28, 1, 15, 83, 257, 342, 297, 48, 157, 208, 41, 119, 304, 28, 219, 285, 136, 132, 270, 48, 241, 100, 132, 219, 264, 38, 38, 48, 163, 345, 132, 149, 15, 218, 28, 35, 19, 258, 229, 316, 242, 220, 163, 288, 290, 38, 48, 147, 202, 15, 263, 304, 275, 223, 241, 221, 1, 94, 132, 156, 154, 201, 286, 170, 137, 159, 279, 163, 88, 257, 132, 16, 197, 249, 32, 227, 45, 137, 208, 159, 157, 38, 220, 178, 290, 28, 124, 220, 254, 305, 135, 132, 339, 188, 229, 220, 259, 255, 32, 59, 257, 202, 202, 310, 45, 79, 200, 1, 248, 219, 157, 98, 282, 348, 138, 159, 140, 294, 202, 64, 48, 163, 163, 245, 137, 32, 197, 229, 70, 53, 229, 228, 290, 62, 32, 160, 337, 35, 331, 271, 229, 229, 19, 123, 305, 345, 234, 61, 134, 173, 279, 338, 103, 208, 269, 12, 93, 310, 132, 1, 48, 257, 343, 24, 238, 77, 163, 265, 15, 66, 69, 137, 96, 1, 305, 297, 258, 44, 291, 9, 153, 81, 282, 223, 212, 39, 12, 126, 17, 98, 220, 348, 282, 338, 48, 239, 146, 123, 229, 298, 283, 38, 72, 225, 164, 166, 28, 134, 208, 288, 28, 234, 285, 1, 202, 157, 178, 234, 311, 285, 216, 220, 77, 285, 132, 38, 208, 209, 239, 63, 257, 137, 261, 1, 159, 229, 232, 108, 234, 15, 134, 178, 202, 327, 159, 345, 178, 178, 343, 258, 227, 79, 0, 314, 15, 280, 163, 193, 28, 151, 348, 41, 285, 178, 348, 11, 44, 38, 69, 159, 306, 159, 229, 348, 159, 159, 48, 220, 257, 15, 220, 348, 202, 105, 260, 98, 280, 285, 288, 285, 140, 285, 76, 159, 268, 115, 219, 134, 18, 263, 288, 170, 72, 242, 348, 32, 38, 210, 146, 334, 282, 159, 208, 18, 220, 182, 141, 180, 208, 304, 202, 74, 15, 35, 134, 28, 22, 257, 279, 11, 205, 317, 38, 79, 178, 0, 288, 280, 232, 230, 32, 97, 134, 132, 154, 64, 266, 263, 307, 234, 263, 1, 178, 171, 199, 285, 265, 87, 159, 1, 32, 163, 232, 154, 248, 71, 154, 284, 202, 294, 38, 345, 257, 336, 239, 26, 87, 35, 263, 149, 290, 229, 32, 28, 285, 187, 138, 48, 40, 159, 167, 208, 146, 336, 208, 231, 32, 241, 348, 1, 196, 298, 257, 220, 202, 291, 211, 118, 200, 229, 257, 76, 207, 48, 178, 82, 32, 270, 61, 272, 232, 32, 189, 310, 251, 38, 288, 297, 208, 263, 137, 347, 191, 295, 159, 62, 220, 334, 212, 163, 132, 238, 132, 24, 196, 322, 214, 76, 223, 157, 98, 224, 175, 202, 38, 311, 257, 208, 198, 159, 242, 273, 272, 197, 38, 178, 93, 1, 170, 331, 349, 314, 268, 178, 132, 181, 177, 288, 257, 325, 48, 348, 208, 32, 233, 208, 5, 132, 55, 32, 318, 48, 179, 204, 202, 337, 202, 241, 118, 178, 32, 1, 188, 295, 32, 48, 285, 269, 202, 348, 320, 6, 79, 339, 252, 132, 285, 134, 180, 275, 170, 311, 270, 223, 270, 343, 324, 220, 284, 275, 175, 159, 229, 266, 163, 202, 279, 181, 285, 41, 22, 27, 292, 86, 1, 263, 263, 236, 17, 202, 32, 220, 201, 1, 310, 320, 98, 270, 234, 32, 174, 220, 296, 203, 101, 103, 178, 9, 15, 277, 209, 295, 163, 288, 48, 98, 350, 202, 161, 8, 298, 38, 28, 208, 263, 1, 263, 178, 291, 166, 203, 46, 225, 337, 327, 257, 285, 257, 48, 301, 164, 163, 157, 184, 35, 18, 16, 209, 69, 229, 178, 98, 92, 337, 28, 32, 229, 1, 52, 212, 184, 0, 146, 242, 198, 220, 103, 137, 32, 196, 174, 58, 28, 85, 163, 285, 329, 32, 49, 229, 159, 285, 33, 123, 345, 59, 88, 15, 69, 179, 195, 288, 76, 159, 32, 159, 22, 304, 48, 336, 152, 218, 61, 82, 213, 178, 187, 207, 234, 149, 19, 263, 100, 159, 32, 219, 48, 316, 28, 196, 259, 238, 1, 163, 125, 238, 320, 137, 22, 258, 220, 134, 146, 242, 317, 170, 202, 12, 119, 132, 170, 48, 262, 39, 204, 38, 26, 231, 272, 159, 294, 302, 193, 224, 38, 27, 32, 132, 214, 288, 189, 98, 149, 174, 1, 119, 345, 288, 263, 70, 145, 230, 19, 134, 220, 157, 264, 232, 123, 15, 254, 260, 32, 35, 263, 103, 1, 277, 195, 5, 272, 225, 209, 134, 178, 91, 257, 180, 333, 159, 32, 296, 147, 59, 146, 28, 48, 55, 348, 348, 322, 210, 304, 348, 337, 47, 27, 48, 1, 219, 100, 215, 41, 271, 32, 159, 282, 159, 246, 234, 220, 214, 1, 1, 208, 285, 281, 159, 38, 215, 348, 349, 23, 285, 27, 212, 226, 48, 1, 159, 220, 99, 58, 137, 220, 15, 159, 5, 19, 16, 292, 98, 350, 98, 137, 84, 348, 281, 208, 32, 222, 184, 285, 189, 157, 208, 234, 175, 47, 174, 285, 48, 297, 348, 238, 28, 245, 32, 285, 137, 79, 310, 285, 208, 263, 5, 152, 285, 270, 76, 226, 202, 220, 285, 28, 82, 178, 282, 132, 351, 202, 219, 344, 224, 200, 208, 218, 325, 178, 132, 292, 343, 164, 202, 1, 24, 163, 1, 159, 163, 285, 193, 28, 218, 132, 177, 218, 180, 270, 28, 240, 32, 337, 152, 334, 334, 200, 214, 179, 28, 213, 221, 14, 5, 38, 132, 54, 242, 179, 347, 163, 127, 48, 154, 345, 103, 215, 38, 48, 211, 177, 159, 177, 19, 147, 48, 34, 41, 163, 241, 17, 134, 96, 24, 349, 257, 179, 257, 30, 53, 208, 22, 220, 134, 205, 220, 285, 272, 69, 163, 64, 260, 263, 157, 19, 134, 184, 76, 120, 21, 27, 28, 299, 213, 238, 334, 6, 159, 15, 258, 220, 100, 146, 207, 101, 210, 178, 230, 272, 348, 64, 289, 339, 238, 132, 163, 15, 86, 180, 234, 44, 331, 237, 64, 310, 263, 254, 230, 238, 298, 248, 159, 33, 223, 180, 151, 288, 220, 282, 282, 132, 230, 127, 178, 120, 35, 202, 285, 0, 156, 202, 344, 93, 146, 48, 299, 209, 32, 159, 185, 48, 11, 20, 69, 126, 159, 93, 348, 266, 312, 298, 350, 1, 208, 134, 223, 234, 163, 281, 1, 1, 97, 153, 178, 176, 119, 48, 218, 229, 345, 271, 159, 288, 108, 239, 236, 305, 32, 132, 310, 343, 132, 80, 177, 267, 15, 336, 344, 263, 202, 124, 229, 203, 160, 257, 93, 204, 222, 175, 8, 285, 166, 202, 337, 148, 38, 27, 157, 152, 159, 224, 15, 315, 202, 208, 15, 257, 234, 1, 184, 301, 282, 348, 28, 302, 257, 202, 240, 285, 245, 220, 319, 29, 69, 163, 214, 163, 295, 108, 225, 208, 183, 6, 17, 28, 208, 254, 6, 220, 241, 6, 174, 285, 43, 174, 304, 177, 92, 93, 64, 220, 282, 49, 38, 213, 189, 38, 159, 242, 263, 348, 342, 170, 234, 194, 267, 253, 84, 2, 1, 43, 305, 160, 134, 337, 69, 99, 347, 348, 208, 28, 238, 1, 28, 103, 32, 266, 326, 56, 32, 28, 349, 38, 6, 334, 184, 334, 159, 178, 115, 52, 178, 203, 124, 202, 238, 293, 204, 202, 285, 208, 136, 193, 351, 216, 93, 137, 220, 329, 93, 132, 204, 21, 215, 178, 342, 9, 86, 202, 270, 132, 208, 202, 198, 137, 263, 232, 208, 288, 207, 208, 220, 32, 48, 348, 351, 32, 159, 134, 17, 159, 181, 134, 191, 220, 203, 1, 193, 336, 153, 163, 1, 208, 257, 137, 1, 158, 279, 234, 163, 280, 127, 127, 38, 159, 334, 38, 225, 159, 202, 193, 101, 322, 209, 1, 1, 178, 261, 296, 137, 76, 220, 201, 181, 181, 59, 69, 234, 263, 158, 132, 331, 38, 348, 6, 42, 274, 48, 220, 132, 15, 98, 127, 234, 257, 15, 273, 6, 15, 223, 263, 229, 202, 160, 132, 208, 15, 59, 160, 214, 163, 18, 169, 137, 310, 32, 28, 218, 227, 119, 83, 55, 3, 149, 134, 17, 15, 195, 0, 28, 38, 108, 323, 170, 82, 206, 348, 48, 191, 28, 304, 345, 153, 305, 208, 159, 291, 38, 86, 69, 15, 263, 48, 318, 268, 202, 32, 255, 257, 208, 35, 48, 47, 15, 159, 82, 41, 208, 48, 119, 284, 258, 156, 147, 94, 134, 202, 282, 28, 350, 1, 189, 32, 162, 163, 59, 257, 202, 266, 14, 238, 28, 221, 263, 208, 28, 234, 154, 209, 240, 32, 225, 270, 86, 253, 38, 229, 152, 149, 126, 342, 32, 285, 59, 208, 154, 163, 48, 263, 270, 208, 24, 202, 137, 48, 146, 227, 344, 79, 220, 134, 132, 1, 197, 245, 159, 159, 295, 236, 176, 132, 322, 127, 208, 220, 210, 234, 209, 235, 234, 202, 331, 285, 257, 208, 159, 126, 132, 238, 76, 263, 88, 208, 237, 236, 213, 285, 32, 97, 178, 213, 159, 266, 338, 350, 124, 285, 24, 340, 134, 215, 149, 98, 137, 280, 310, 86, 48, 17, 220, 208, 334, 38, 343, 35, 348, 48, 134, 135, 128, 193, 351, 16, 338, 336, 0, 158, 310, 17, 69, 80, 333, 32, 285, 134, 32, 322, 48, 123, 348, 180, 242, 331, 343, 208, 284, 263, 281, 348, 241, 86, 291, 263, 98, 215, 193, 279, 132, 25, 316, 1, 145, 236, 32, 220, 144, 257, 134, 350, 22, 149, 234, 28, 176, 163, 91, 97, 69, 154, 153, 281, 18, 178, 69, 251, 100, 32, 263, 137, 215, 3, 320, 159, 257, 157, 304, 348, 146, 34, 326, 350, 241, 220, 288, 246, 79, 208, 126, 288, 201, 263, 167, 216, 345, 201, 132, 223, 202, 193, 16, 247, 314, 100, 296, 15, 230, 32, 14, 220, 1, 38, 215, 28, 335, 245, 229, 231, 241, 334, 208, 137, 159, 254, 184, 208, 94, 1, 48, 28, 90, 178, 134, 343, 103, 28, 127, 217, 170, 228, 32, 38, 14, 76, 208, 137, 85, 47, 162, 149, 48, 285, 179, 119, 134, 98, 220, 163, 146, 323, 348, 244, 234, 295, 79, 38, 48, 178, 177, 175, 213, 220, 229, 1, 28, 159, 344, 86, 234, 100, 214, 273, 348, 304, 1, 184, 229, 202, 32, 58, 15, 229, 213, 236, 208, 166, 183, 242, 159, 229, 45, 38, 285, 181, 187, 252, 1, 281, 258, 282, 288, 220, 98, 38, 331, 343, 220, 98, 297, 181, 6, 38, 32, 298, 229, 134, 168, 48, 69, 282, 132, 348, 48, 132, 28, 295, 176, 209, 134, 301, 234, 178, 149, 35, 102, 232, 230, 134, 132, 28, 285, 159, 38, 208, 160, 215, 215, 96, 156, 289, 247, 351, 348, 256, 331, 216, 220, 185, 35, 285, 212, 77, 310, 215, 34, 48, 338, 303, 202, 229, 263, 234, 15, 130, 132, 141, 127, 208, 43, 324, 337, 347, 24, 279, 214, 32, 201, 193, 32, 132, 127, 159, 132, 208, 98, 3, 234, 159, 308, 201, 159, 135, 126, 36, 241, 143, 323, 201, 32, 336, 336, 351, 132, 18, 132, 208, 48, 130, 132, 9, 288, 245, 342, 126, 48, 257, 273, 1, 234, 285, 304, 19, 238, 146, 137, 47, 162, 271, 243, 82, 48, 348, 148, 9, 27, 120, 350, 36, 134, 241, 134, 1, 220, 155, 202, 282, 17, 15, 98, 48, 305, 241, 15, 32, 229, 221, 263, 61, 193, 249, 38, 28, 48, 28, 106, 240, 251, 163, 181, 310, 132, 309, 270, 234, 285, 1, 343, 349, 197, 101, 288, 163, 32, 338, 230, 77, 241, 132, 101, 208, 273, 327, 166, 312, 108, 348, 261, 253, 215, 207, 332, 242, 163, 191, 132, 298, 60, 218, 257, 231, 277, 252, 17, 87, 203, 348, 104, 5, 257, 163, 234, 234, 195, 28, 209, 156, 241, 32, 202, 32, 298, 157, 38, 202, 100, 202, 121, 1, 257, 203, 285, 152, 266, 0, 220, 241, 132, 32, 28, 76, 137, 159, 343, 177, 125, 227, 196, 229, 58, 348, 221, 46, 146, 220, 147, 48, 272, 124, 183, 109, 229, 1, 229, 245, 134, 212, 79, 264, 264, 288, 32, 156, 288, 17, 144, 209, 27, 183, 151, 208, 202, 32, 1, 176, 48, 296, 184, 230, 197, 233, 159, 32, 32, 208, 159, 164, 132, 209, 137, 28, 284, 137, 208, 202, 288, 348, 189, 176, 220, 193, 17, 124, 32, 261, 208, 38, 216, 218, 27, 334, 160, 224, 263, 18, 28, 229, 270, 257, 263, 296, 242, 38, 203, 348, 28, 257, 134, 241, 229, 208, 231, 267, 32, 209, 134, 15, 178, 50, 132, 14, 348, 38, 196, 177, 251, 23, 236, 219, 208, 163, 98, 24, 28, 257, 266, 208, 203, 288, 87, 257, 208, 201, 231, 348, 225, 220, 343, 348, 28, 159, 234, 266, 298, 38, 208, 14, 50, 208, 38, 32, 192, 163, 304, 1, 48, 34, 3, 97, 38, 49, 348, 221, 32, 228, 202, 28, 326, 282, 262, 297, 234, 263, 234, 80, 337, 229, 197, 163, 229, 292, 163, 85, 38, 263, 48, 96, 135, 260, 34, 219, 114, 277, 200, 310, 202, 236, 98, 297, 99, 1, 132, 263, 202, 234, 348, 24, 349, 349, 182, 212, 272, 304, 66, 239, 342, 170, 288, 208, 15, 212, 157, 178, 334, 88, 304, 323, 153, 285, 234, 0, 93, 38, 334, 285, 9, 102, 48, 159, 38, 28, 48, 208, 233, 285, 258, 285, 38, 137, 163, 15, 304, 258, 1, 229, 38, 202, 285, 288, 196, 277, 285, 234, 261, 153, 70, 32, 234, 229, 132, 298, 221, 159, 32, 348, 135, 127, 38, 282, 32, 334, 260, 258, 209, 178, 9, 48, 151, 337, 229, 334, 277, 48, 159, 322, 163, 99, 208, 285, 1, 143, 348, 252, 130, 245, 263, 28, 132, 36, 213, 130, 257, 245, 38, 344, 137, 76, 288, 86, 163, 48, 159, 178, 160, 348, 35, 218, 170, 105, 202, 159, 229, 178, 220, 273, 288, 176, 32, 323, 34, 157, 257, 28, 28, 182, 197, 241, 348, 66, 157, 208, 114, 38, 208, 32, 159, 99, 268, 304, 132, 32, 178, 60, 314, 0, 327, 71, 134, 220, 335, 236, 330, 32, 291, 33, 132, 32, 159, 27, 61, 220, 132, 60, 227, 225, 163, 193, 127, 32, 197, 1, 220, 208, 200, 229, 38, 78, 245, 285, 1, 289, 208, 258, 345, 174, 347, 229, 32, 193, 10, 165, 326, 288, 132, 127, 98, 1, 298, 1, 285, 1, 220, 132, 15, 244, 214, 291, 288, 177, 348, 3, 208, 196, 288, 230, 171, 342, 263, 205, 28, 271, 17, 281, 257, 28, 285, 277, 5, 15, 78, 218, 44, 202, 182, 299, 28, 48, 314, 306, 137, 241, 294, 234, 18, 97, 93, 159, 189, 28, 305, 134, 285, 126, 174, 299, 345, 263, 137, 263, 263, 134, 331, 220, 104, 15, 38, 298, 32, 176, 229, 22, 310, 263, 99, 134, 180, 28, 149, 284, 17, 348, 177, 48, 14, 17, 97, 305, 96, 221, 245, 236, 230, 339, 178, 103, 298, 1, 163, 104, 327, 132, 1, 208, 32, 202, 35, 291, 159, 204, 85, 26, 28, 305, 85, 229, 14, 288, 137, 348, 210, 201, 234, 69, 269, 6, 328, 146, 258, 134, 218, 348, 49, 262, 288, 91, 346, 282, 32, 48, 285, 214, 334, 257, 220, 89, 178, 209, 334, 115, 208, 178, 296, 163, 292, 97, 14, 174, 24, 209, 93, 284, 80, 348, 59, 48, 159, 85, 333, 149, 285, 210, 230, 333, 312, 0, 281, 181, 136, 215, 17, 238, 32, 228, 225, 220, 79, 48, 6, 254, 285, 339, 204, 63, 0, 132, 88, 204, 208, 327, 1, 134, 163, 6, 1, 32, 277, 28, 120, 159, 218, 266, 316, 163, 343, 268, 333, 69, 229, 345, 28, 202, 234, 208, 229, 325, 28, 349, 350, 303, 345, 38, 135, 134, 154, 272, 17, 208, 79, 48, 230, 288, 32, 201, 132, 325, 229, 88, 78, 127, 285, 122, 48, 156, 28, 285, 38, 208, 298, 90, 17, 230, 310, 178, 59, 257, 222, 93, 149, 32, 76, 272, 48, 28, 229, 333, 258, 202, 227, 1, 28, 38, 132, 134, 350, 64, 343, 79, 11, 208, 18, 285, 158, 327, 236, 245, 24, 268, 339, 155, 212, 72, 28, 189, 134, 48, 234, 132, 279, 220, 242, 168, 32, 168, 32, 208, 119, 239, 245, 266, 32, 86, 48, 213, 305, 271, 160, 257, 86, 114, 96, 32, 234, 329, 15, 200, 18, 299, 103, 184, 230, 223, 200, 314, 137, 208, 188, 285, 57, 223, 211, 296, 181, 257, 205, 28, 221, 80, 146, 208, 6, 30, 202, 178, 263, 134, 257, 24, 316, 305, 120, 257, 85, 126, 35, 32, 137, 351, 156, 17, 348, 28, 45, 220, 160, 184, 326, 101, 191, 287, 257, 69, 241, 220, 38, 238, 228, 263, 155, 28, 201, 298, 323, 215, 152, 208, 300, 110, 193, 1, 57, 208, 201, 132, 191, 285, 220, 18, 41, 220, 220, 216, 46, 200, 242, 203, 348, 163, 208, 98, 247, 202, 82, 236, 221, 48, 18, 220, 178, 1, 208, 166, 134, 282, 103, 348, 108, 215, 160, 1, 134, 55, 38, 291, 132, 289, 238, 348, 288, 134, 208, 242, 313, 208, 98, 65, 48, 230, 132, 132, 253, 74, 168, 18, 127, 14, 214, 114, 258, 48, 1, 208, 175, 298, 4, 208, 101, 15, 286, 69, 284, 229, 193, 24, 137, 178, 175, 146, 270, 11, 241, 263, 350, 284, 178, 48, 56, 263, 326, 32, 334, 158, 342, 191, 158, 241, 229, 219, 220, 208, 159, 275, 257, 159, 132, 137, 69, 348, 337, 137, 118, 288, 342, 282, 211, 193, 0, 219, 159, 78, 338, 111, 327, 257, 49, 32, 50, 193, 1, 205, 134, 153, 143, 132, 234, 220, 132, 270, 50, 344, 202, 221, 77, 167, 127, 98, 287, 200, 213, 312, 242, 299, 130, 38, 105, 38, 279, 202, 208, 163, 310, 208, 127, 59, 220, 288, 157, 1, 288, 28, 236, 32, 163, 124, 234, 28, 178, 132, 304, 108, 257, 281, 241, 149, 311, 24, 28, 46, 305, 245, 203, 242, 25, 203, 296, 1, 263, 76, 102, 248, 267, 204, 231, 257, 32, 25, 1, 235, 98, 258, 190, 202, 48, 336, 221, 32, 119, 226, 32, 28, 305, 202, 86, 284, 280, 101, 351, 28, 38, 288, 132, 204, 178, 213, 99, 28, 132, 28, 14, 132, 260, 154, 257, 345, 45, 331, 349, 78, 347, 163, 188, 228, 298, 320, 134, 257, 271, 48, 243, 283, 289, 218, 163, 348, 71, 263, 160, 134, 134, 178, 288, 302, 263, 263, 149, 86, 227, 298, 343, 247, 235, 327, 241, 34, 15, 282, 137, 234, 15, 178, 184, 1, 134, 321, 28, 132, 275, 280, 163, 100, 163, 32, 1, 348, 304, 163, 101, 202, 97, 81, 101, 28, 71, 208, 348, 24, 159, 1, 64, 76, 32, 181, 132, 178, 72, 14, 44, 233, 38, 330, 194, 249, 193, 114, 137, 179, 213, 97, 69, 327, 32, 18, 1, 349, 134, 285, 234, 242, 170, 177, 175, 64, 170, 318, 230, 155, 134, 193, 346, 304, 203, 288, 208, 343, 53, 1, 65, 304, 298, 181, 177, 122, 1, 1, 273, 229, 313, 15, 285, 32, 285, 229, 305, 227, 320, 263, 326, 157, 159, 16, 163, 202, 348, 202, 174, 96, 118, 220, 207, 175, 208, 32, 149, 220, 59, 286, 9, 348, 241, 185, 132, 257, 156, 156, 18, 184, 20, 174, 175, 204, 48, 203, 184, 225, 159, 229, 48, 314, 241, 297, 178, 132, 38, 343, 351, 159, 44, 178, 178, 229, 234, 52, 220, 1, 260, 85, 38, 79, 134, 0, 159, 208, 263, 230, 175, 132, 343, 298, 48, 204, 32, 241, 327, 208, 267, 3, 87, 132, 217, 208, 203, 201, 156, 215, 162, 132, 309, 237, 320, 157, 202, 134, 310, 206, 257, 44, 236, 100, 98, 54, 218, 16, 159, 159, 296, 3, 157, 160, 32, 299, 118, 298, 140, 227, 174, 98, 59, 219, 201, 149, 32, 24, 274, 343, 263, 127, 220, 336, 153, 137, 286, 175, 262, 258, 206, 208, 288, 216, 208, 223, 32, 132, 213, 132, 254, 288, 147, 38, 199, 28, 196, 59, 208, 38, 193, 48, 225, 48, 234, 191, 1, 170, 15, 310, 159, 133, 220, 175, 160, 288, 319, 28, 163, 200, 163, 218, 270, 225, 48, 157, 178, 127, 198, 343, 78, 178, 218, 32, 86, 248, 101, 52, 285, 203, 175, 88, 190, 159, 201, 119, 208, 72, 146, 48, 200, 157, 263, 236, 285, 327, 304, 288, 25, 327, 307, 348, 32, 285, 225, 22, 285, 69, 97, 193, 28, 348, 18, 137, 178, 135, 163, 298, 265, 32, 146, 348, 100, 31, 334, 312, 214, 331, 15, 220, 38, 296, 17, 285, 1, 245, 82, 285, 271, 200, 1, 269, 272, 313, 48, 132, 288, 285, 211, 251, 306, 225, 234, 285, 203, 338, 257, 48, 202, 6, 157, 3, 18, 339, 132, 342, 263, 263, 249, 238, 201, 178, 32, 142, 288, 260, 191, 149, 159, 220, 263, 150, 314, 266, 288, 69, 302, 263, 227, 208, 239, 214, 159, 41, 28, 49, 82, 193, 69, 160, 159, 12, 134, 137, 304, 208, 18, 38, 202, 159, 229, 134, 269, 70, 277, 175, 310, 257, 214, 178, 29, 72, 322, 265, 48, 343, 81, 270, 47, 48, 288, 202, 159, 163, 208, 263, 257, 16, 212, 230, 285, 220, 64, 134, 266, 38, 263, 48, 322, 9, 203, 229, 203, 212, 245, 15, 118, 132, 50, 44, 80, 107, 158, 310, 310, 56, 336, 179, 174, 208, 225, 254, 178, 208, 282, 1, 38, 134, 28, 342, 163, 196, 184, 348, 229, 101, 48, 1, 216, 208, 6, 295, 82, 80, 200, 134, 48, 119, 322, 331, 48, 92, 208, 279, 341, 22, 11, 149, 178, 181, 320, 318, 178, 197, 298, 98, 331, 59, 38, 285, 155, 208, 163, 272, 17, 266, 163, 137, 350, 170, 257, 202, 220, 314, 218, 349, 1, 310, 258, 263, 263, 189, 208, 9, 283, 151, 83, 32, 299, 27, 220, 198, 198, 286, 248, 204, 234, 132, 194, 100, 326, 155, 137, 315, 200, 132, 38, 71, 178, 167, 134, 22, 351, 253, 336, 163, 332, 52, 202, 220, 48, 6, 143, 234, 206, 15, 1, 15, 61, 32, 184, 269, 28, 1, 70, 154, 1, 132, 32, 163, 200, 220, 208, 343, 48, 132, 191, 218, 52, 15, 245, 137, 127, 132, 77, 328, 159, 197, 208, 164, 101, 132, 178, 208, 255, 277, 175, 58, 348, 70, 21, 334, 273, 234, 148, 163, 224, 1, 288, 202, 189, 317, 235, 257, 348, 316, 148, 231, 214, 230, 288, 97, 241, 220, 146, 202, 28, 218, 159, 238, 298, 163, 79, 157, 199, 177, 257, 318, 220, 159, 198, 32, 30, 48, 304, 178, 73, 205, 213, 32, 193, 159, 67, 263, 340, 301, 239, 163, 35, 132, 205, 159, 157, 157, 134, 180, 137, 272, 217, 203, 126, 194, 178, 163, 32, 133, 266, 215, 337, 198, 49, 334, 35, 159, 132, 103, 187, 188, 38, 278, 108, 184, 285, 134, 202, 11, 119, 257, 202, 82, 48, 282, 289, 230, 15, 200, 69, 57, 203, 225, 88, 118, 208, 15, 298, 298, 341, 1, 137, 48, 319, 143, 285, 17, 16, 19, 220, 28, 255, 146, 132, 32, 263, 160, 234, 338, 284, 112, 272, 137, 248, 227, 212, 174, 267, 348, 208, 212, 230, 159, 275, 32, 1, 234, 209, 247, 282, 32, 208, 269, 149, 349, 208, 224, 36, 258, 93, 221, 258, 331, 220, 202, 202, 131, 48, 159, 160, 263, 257, 137, 187, 202, 48, 263, 28, 125, 178, 67, 86, 257, 132, 288, 175, 14, 1, 267, 288, 272, 25, 163, 241, 217, 212, 257, 132, 335, 202, 160, 38, 208, 14, 124, 97, 331, 76, 229, 331, 263, 210, 166, 154, 209, 202, 1, 298, 315, 58, 242, 159, 207, 348, 72, 278, 32, 266, 272, 98, 250, 0, 38, 339, 288, 18, 208, 160, 288, 189, 348, 214, 247, 234, 205, 1, 32, 28, 227, 266, 279, 202, 249, 97, 293, 206, 63, 0, 202, 1, 64, 263, 163, 200, 204, 349, 163, 345, 35, 38, 17, 28, 96, 38, 16, 202, 99, 48, 310, 210, 178, 221, 350, 15, 263, 0, 208, 263, 177, 174, 132, 134, 119, 266, 137, 159, 159, 333, 310, 347, 327, 42, 341, 33, 298, 88, 59, 163, 58, 38, 2, 131, 157, 323, 313, 132, 262, 253, 239, 28, 242, 323, 220, 202, 178, 284, 132, 98, 202, 247, 156, 159, 68, 285, 334, 3, 215, 253, 6, 38, 48, 288, 208, 159, 28, 159, 323, 220, 28, 282, 106, 6, 116, 86, 87, 259, 282, 98, 331, 229, 1, 134, 234, 219, 146, 15, 48, 14, 220, 270, 208, 201, 53, 15, 207, 258, 266, 266, 333, 149, 210, 123, 331, 207, 248, 157, 208, 272, 31, 98, 290, 201, 348, 204, 109, 196, 209, 28, 208, 301, 285, 38, 205, 336, 209, 272, 87, 1, 345, 229, 220, 112, 234, 223, 175, 285, 272, 178, 1, 229, 134, 348, 348, 208, 26, 263, 48, 249, 320, 163, 288, 32, 38, 270, 304, 208, 38, 115, 175, 23, 351, 18, 202, 209, 270, 28, 177, 282, 98, 316, 48, 69, 28, 289, 270, 38, 32, 291, 208, 1, 60, 80, 288, 38, 48, 137, 213, 234, 28, 318, 148, 159, 15, 18, 77, 225, 69, 163, 229, 257, 1, 28, 48, 202, 163, 163, 48, 166, 230, 298, 224, 152, 61, 28, 18, 0, 331, 15, 6, 271, 32, 127, 234, 28, 351, 220, 110, 220, 137, 348, 48, 141, 14, 285, 90, 298, 28, 18, 149, 230, 32, 157, 231, 126, 208, 98, 59, 9, 196, 347, 202, 57, 161, 302, 163, 326, 232, 208, 334, 163, 193, 177, 285, 5, 53, 281, 132, 296, 331, 197, 273, 31, 163, 159, 1, 98, 32, 264, 18, 48, 98, 241, 229, 224, 204, 227, 80, 318, 229, 27, 270, 252, 342, 34, 297, 103, 263, 238, 3, 271, 6, 0, 275, 220, 348, 207, 277, 40, 32, 146, 282, 38, 132, 76, 166, 98, 35, 208, 163, 159, 48, 32, 61, 1, 132, 132, 244, 208, 132, 69, 275, 32, 318, 159, 126, 202, 17, 28, 234, 220, 351, 329, 28, 55, 203, 112, 225, 18, 38, 48, 234, 91, 263, 229, 229, 251, 263, 208, 201, 329, 334, 241, 101, 48, 172, 90, 285, 137, 213, 85, 31, 203, 127, 342, 348, 163, 102, 277, 234, 292, 32, 243, 220, 277, 1, 202, 191, 232, 313, 178, 48, 285, 134, 323, 178, 257, 163, 207, 28, 75, 32, 177, 137, 163, 15, 285, 263, 263, 262, 86, 331, 184, 351, 345, 134, 42, 202, 42, 134, 205, 229, 193, 126, 204, 281, 134, 137, 98, 10, 134, 147, 351, 218, 76, 15, 208, 32, 159, 234, 230, 345, 297, 173, 245, 132, 275, 159, 21, 54, 79, 273, 193, 22, 32, 266, 257, 166, 132, 201, 135, 163, 76, 65, 124, 283, 282, 203, 287, 208, 229, 213, 46, 281, 348, 167, 48, 153, 248, 31, 208, 177, 123, 203, 220, 38, 98, 257, 204, 74, 16, 163, 288, 155, 208, 149, 38, 134, 60, 349, 1, 163, 1, 68, 202, 11, 11, 14, 214, 79, 288, 21, 325, 28, 159, 15, 348, 32, 288, 132, 281, 186, 32, 284, 263, 28, 257, 238, 249, 202, 277, 212, 89, 62, 279, 182, 184, 349, 202, 266, 331, 230, 15, 234, 38, 3, 157, 1, 229, 38, 217, 327, 28, 291, 208, 275, 5, 309, 349, 348, 38, 159, 134, 217, 38, 220, 18, 15, 234, 258, 132, 132, 0, 28, 167, 48, 234, 32, 18, 208, 48, 210, 118, 69, 137, 146, 335, 254, 159, 285, 230, 132, 28, 334, 28, 141, 28, 174, 199, 163, 285, 159, 257, 178, 196, 38, 0, 200, 193, 257, 32, 304, 137, 35, 134, 332, 279, 149, 344, 288, 310, 28, 166, 230, 101, 5, 26, 336, 257, 298, 1, 137, 331, 203, 189, 38, 229, 263, 263, 234, 48, 178, 220, 85, 335, 134, 157, 209, 64, 229, 97, 335, 32, 259, 132, 48, 220, 291, 285, 285, 257, 38, 178, 93, 230, 0, 348, 320, 263, 239, 32, 43, 69, 79, 327, 257, 132, 28, 322, 246, 284, 311, 304, 163, 236, 61, 194, 178, 156, 348, 41, 17, 346, 288, 15, 208, 162, 208, 273, 229, 127, 257, 28, 1, 207, 202, 205, 6, 28, 262, 137, 288, 323, 220, 258, 282, 166, 17, 212, 79, 262, 202, 348, 137, 348, 28, 38, 202, 36, 289, 134, 348, 220, 141, 182, 229, 152, 215, 208, 193, 208, 203, 241, 215, 18, 269, 219, 32, 88, 107, 41, 288, 202, 134, 147, 38, 48, 167, 248, 6, 281, 48, 202, 137, 35, 234, 99, 18, 222, 48, 1, 194, 49, 202, 329, 214, 1, 339, 314, 200, 351, 48, 208, 48, 38, 197, 304, 335, 178, 348, 56, 48, 282, 132, 272, 38, 134, 134, 270, 188, 310, 251, 193, 350, 331, 54, 132, 137, 58, 163, 163, 208, 178, 28, 14, 348, 119, 288, 229, 38, 159, 69, 241, 287, 67, 260, 245, 170, 298, 159, 184, 239, 0, 154, 203, 305, 48, 230, 285, 159, 175, 246, 263, 182, 123, 285, 241, 323, 86, 351, 242, 102, 298, 155, 230, 245, 17, 202, 196, 69, 232, 202, 97, 254, 159, 39, 203, 230, 285, 280, 137, 234, 32, 38, 166, 85, 144, 90, 128, 193, 1, 316, 32, 11, 98, 237, 15, 263, 285, 213, 263, 208, 220, 163, 167, 210, 202, 202, 220, 138, 281, 152, 177, 18, 288, 38, 18, 234, 176, 32, 15, 164, 53, 88, 220, 38, 261, 148, 17, 317, 221, 18, 35, 144, 203, 163, 305, 157, 58, 229, 157, 258, 15, 159, 48, 133, 153, 208, 338, 48, 200, 21, 351, 229, 351, 48, 163, 207, 335, 209, 177, 227, 18, 234, 86, 285, 32, 144, 225, 38, 257, 334, 213, 152, 285, 159, 32, 137, 348, 288, 281, 100, 88, 168, 288, 132, 130, 24, 1, 31, 48, 318, 38, 337, 285, 284, 220, 213, 93, 132, 345, 139, 38, 178, 178, 9, 163, 101, 48, 117, 207, 229, 298, 59, 22, 137, 300, 202, 238, 28, 223, 294, 88, 221, 285, 178, 28, 189, 115, 229, 110, 220, 71, 134, 203, 239, 163, 263, 172, 76, 276, 108, 268, 38, 38, 285, 1, 48, 76, 314, 258, 172, 333, 323, 154, 101, 98, 234, 65, 257, 1, 240, 86, 166, 1, 189, 285, 285, 53, 258, 56, 163, 152, 196, 196, 32, 348, 304, 314, 215, 310, 220, 267, 245, 48, 163, 288, 177, 53, 343, 135, 305, 137, 132, 32, 178, 298, 134, 134, 242, 285, 93, 160, 204, 55, 181, 210, 43, 278, 252, 305, 204, 195, 245, 32, 201, 208, 332, 239, 1, 339, 263, 340, 103, 247, 223, 220, 181, 44, 279, 132, 212, 285, 28, 202, 137, 31, 348, 208, 48, 33, 194, 38, 348, 1, 200, 309, 81, 208, 48, 137, 198, 283, 213, 37, 134, 48, 159, 192, 247, 135, 234, 285, 196, 38, 254, 184, 38, 285, 268, 253, 137, 181, 310, 88, 298, 24, 79, 98, 202, 215, 220, 230, 132, 23, 170, 208, 263, 48, 69, 348, 208, 229, 149, 285, 76, 180, 208, 98, 177, 48, 343, 2, 32, 307, 285, 247, 45, 110, 68, 137, 48, 28, 28, 281, 208, 220, 146, 165, 331, 170, 227, 67, 220, 257, 33, 178, 175, 257, 212, 209, 30, 229, 1, 281, 234, 178, 159, 48, 231, 288, 1, 263, 345, 325, 198, 234, 98, 234, 257, 298, 199, 229, 152, 344, 134, 257, 6, 281, 207, 264, 32, 162, 188, 163, 28, 32, 204, 32, 289, 257, 163, 38, 48] as keyword args. From version 0.25 passing these as positional arguments will result in an error\n",
      "  FutureWarning)\n"
     ]
    }
   ],
   "source": [
    "helper_class_weight = class_weight.compute_class_weight('balanced', np.unique(labels), labels)\n",
    "\n",
    "class_weight_dict = dict()\n",
    "\n",
    "for k,v in zip(np.unique(labels), helper_class_weight):\n",
    "    class_weight_dict[list(np.unique(labels)).index(k)] = v"
   ]
  },
  {
   "cell_type": "code",
   "execution_count": 14,
   "metadata": {},
   "outputs": [
    {
     "name": "stdout",
     "output_type": "stream",
     "text": [
      "Epoch 1/10\n",
      "252/252 - 26s - loss: 5.3816 - accuracy: 0.1169 - val_loss: 3.3509 - val_accuracy: 0.3450\n",
      "Epoch 2/10\n",
      "252/252 - 26s - loss: 2.1832 - accuracy: 0.4039 - val_loss: 2.3159 - val_accuracy: 0.4746\n",
      "Epoch 3/10\n",
      "252/252 - 28s - loss: 1.1247 - accuracy: 0.5750 - val_loss: 1.8108 - val_accuracy: 0.5719\n",
      "Epoch 4/10\n",
      "252/252 - 27s - loss: 0.7190 - accuracy: 0.6770 - val_loss: 1.6683 - val_accuracy: 0.5863\n",
      "Epoch 5/10\n",
      "252/252 - 27s - loss: 0.4939 - accuracy: 0.7415 - val_loss: 1.4554 - val_accuracy: 0.6301\n",
      "Epoch 6/10\n",
      "252/252 - 27s - loss: 0.3692 - accuracy: 0.7871 - val_loss: 1.3242 - val_accuracy: 0.6624\n",
      "Epoch 7/10\n",
      "252/252 - 27s - loss: 0.3161 - accuracy: 0.8206 - val_loss: 1.2432 - val_accuracy: 0.6813\n",
      "Epoch 8/10\n",
      "252/252 - 27s - loss: 0.2465 - accuracy: 0.8436 - val_loss: 1.2507 - val_accuracy: 0.6826\n",
      "Epoch 9/10\n",
      "252/252 - 27s - loss: 0.2104 - accuracy: 0.8646 - val_loss: 1.1843 - val_accuracy: 0.7109\n",
      "Epoch 10/10\n",
      "252/252 - 27s - loss: 0.1955 - accuracy: 0.8765 - val_loss: 1.1320 - val_accuracy: 0.7174\n"
     ]
    }
   ],
   "source": [
    "num_epochs = 10\n",
    "batch_size = 64\n",
    "\n",
    "log_file_2 = 'balanced.log'\n",
    "csv_logger_2 = CSVLogger(log_file_2')\n",
    "\n",
    "history = model.fit(training_padded, training_labels, batch_size=batch_size, epochs=num_epochs,\n",
    "                     validation_data=(val_padded, val_labels), verbose=2, callbacks=[csv_logger_2], class_weight=class_weight_dict)"
   ]
  },
  {
   "cell_type": "markdown",
   "metadata": {},
   "source": [
    "## Guardo Modelo"
   ]
  },
  {
   "cell_type": "code",
   "execution_count": 15,
   "metadata": {},
   "outputs": [],
   "source": [
    "model_file = '.h5'\n",
    "model.save('model_file')"
   ]
  },
  {
   "cell_type": "markdown",
   "metadata": {},
   "source": [
    "## Prediccion"
   ]
  },
  {
   "cell_type": "code",
   "execution_count": 16,
   "metadata": {},
   "outputs": [],
   "source": [
    "\n",
    "TEST_DATA = os.path.join(WORKDIR, 'dataset/test_santander.csv')\n",
    "\n",
    "test_index = []\n",
    "test_questions = []\n",
    "\n",
    "\n",
    "with open(TEST_DATA, 'r') as f:\n",
    "    reader = csv.reader(f, delimiter=',')\n",
    "    next(reader)\n",
    "    for row in reader:\n",
    "        test_index.append(row[0])\n",
    "        test_question = row[1]\n",
    "        test_question = limpiar(test_question)\n",
    "        test_question = normalizar(test_question)\n",
    "        test_questions.append(test_question)\n",
    "        \n",
    "test_sequences = tokenizer.texts_to_sequences(test_questions)\n",
    "test_input = pad_sequences(test_sequences, maxlen=max_length, padding=padding_type, truncating=trunc_type)\n",
    "\n",
    "\n",
    "test_predictions_probas = model.predict(test_input)\n",
    "test_predictions = test_predictions_probas.argmax(axis=-1)\n",
    "\n",
    "# convierto las labels a las oriniginales\n",
    "labels_transform = dict([ (v, k) for (k, v) in relabeling_dict.items() ])\n",
    "predictions = dict()\n",
    "\n",
    "\n",
    "prediction_file = ''\n",
    "\n",
    "with open(prediction_file, 'w') as f:\n",
    "    for k,v in zip(test_index, test_predictions):\n",
    "        v = labels_transform.get(v)\n",
    "        predictions[k] = v\n",
    "        f.write(\"%s,%s\\n\" % (k, v))\n",
    "f.close()\n",
    "\n",
    "#print(predictions)"
   ]
  },
  {
   "cell_type": "markdown",
   "metadata": {},
   "source": [
    "## Vizualizacion\n"
   ]
  },
  {
   "cell_type": "code",
   "execution_count": 17,
   "metadata": {},
   "outputs": [],
   "source": [
    "history={'epoch' : [], 'accuracy':[], 'loss':[], 'val_accuracy': [], 'val_loss':[] }\n",
    "with open(log_file_*) as training_log:\n",
    "    reader=csv.DictReader(training_log)\n",
    "    for row in reader:\n",
    "\n",
    "        history['epoch'].append(row['epoch'])\n",
    "        history['accuracy'].append(row['accuracy'])\n",
    "        history['loss'].append(row['loss'])\n",
    "        history['val_accuracy'].append(row['val_accuracy'])\n",
    "        history['val_loss'].append(row['val_loss'])\n",
    "\n",
    "\n",
    "acc = [ round(float(i),2) for i in history['accuracy']]\n",
    "val_acc = [ round(float(i), 2) for i in history['val_accuracy']]\n",
    "loss = [ round(float(i), 2) for i in  history['loss']]\n",
    "val_loss = [ round(float(i), 2) for i in history['val_loss']]\n",
    "\n",
    "epochs = range(len(acc)) # Get number of epochs"
   ]
  },
  {
   "cell_type": "code",
   "execution_count": 18,
   "metadata": {},
   "outputs": [
    {
     "data": {
      "image/png": "[encoded data removed]",
      "text/plain": [
       "<Figure size 432x288 with 1 Axes>"
      ]
     },
     "metadata": {
      "needs_background": "light"
     },
     "output_type": "display_data"
    },
    {
     "data": {
      "image/png": "[encoded data removed]",
      "text/plain": [
       "<Figure size 432x288 with 1 Axes>"
      ]
     },
     "metadata": {
      "needs_background": "light"
     },
     "output_type": "display_data"
    }
   ],
   "source": [
    "# #------------------------------------------------\n",
    "# # Plot training and validation accuracy per epoch\n",
    "# #------------------------------------------------\n",
    "\n",
    "img_acc = 'path_acc_image_destination'\n",
    "\n",
    "plt.plot(epochs, acc)\n",
    "plt.plot(epochs, val_acc )\n",
    "plt.title('Training and validation accuracy')\n",
    "plt.ylim([0,1.01])\n",
    "plt.savefig(img_acc)\n",
    "plt.figure()\n",
    "\n",
    "# #------------------------------------------------\n",
    "# # Plot training and validation loss per epoch\n",
    "# #------------------------------------------------\n",
    "\n",
    "img_loss = 'path_loss_image_destination'\n",
    "\n",
    "plt.plot(epochs,loss)\n",
    "plt.plot(epochs, val_loss)\n",
    "plt.title('Training and validation loss')\n",
    "\n",
    "plt.savefig(img_loss)\n",
    "\n",
    "plt.show()"
   ]
  }
 ],
 "metadata": {
  "kernelspec": {
   "display_name": "deep_learning",
   "language": "python",
   "name": "deep_learning"
  },
  "language_info": {
   "codemirror_mode": {
    "name": "ipython",
    "version": 3
   },
   "file_extension": ".py",
   "mimetype": "text/x-python",
   "name": "python",
   "nbconvert_exporter": "python",
   "pygments_lexer": "ipython3",
   "version": "3.6.8"
  }
 },
 "nbformat": 4,
 "nbformat_minor": 2
}
